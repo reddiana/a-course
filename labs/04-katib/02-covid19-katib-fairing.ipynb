{
 "cells": [
  {
   "cell_type": "markdown",
   "metadata": {
    "tags": []
   },
   "source": [
    "# Katib 실습\n",
    "katib을 사용하여 training code `01-covid19-katib-train.py`를 hyper parameter tunning한다"
   ]
  },
  {
   "cell_type": "markdown",
   "metadata": {
    "tags": []
   },
   "source": [
    "# 사전준비1. Base Image\n",
    "Host에 ssh 접속하여 아래와 같이 docker build하고 push한다\n",
    "\n",
    "```sh\n",
    "cat << EOF > Dockerfile.kf-base\n",
    "FROM ubuntu:18.04\n",
    "ARG DEBIAN_FRONTEND=noninteractive\n",
    "\n",
    "RUN apt-get update && \\\n",
    "    apt-get install -y python3 python3-pip python3-dev ffmpeg libsm6 libxext6 \n",
    "\n",
    "RUN  pip3 install --upgrade pip && \\\n",
    "     pip install \\\n",
    "        tensorflow \\\n",
    "        sklearn \\\n",
    "        opencv-python \\   \n",
    "        pillow \\\n",
    "        minio\n",
    "EOF\n",
    "```\n",
    "\n",
    "```sh\n",
    "# docker build script\n",
    "REGISTRY=kubeflow-registry.default.svc.cluster.local:30000\n",
    "TAG=$REGISTRY/kf-base:latest\n",
    "\n",
    "docker build -f Dockerfile.kf-base -t $TAG . && \\\n",
    "docker push $TAG\n",
    "```"
   ]
  },
  {
   "cell_type": "markdown",
   "metadata": {
    "tags": []
   },
   "source": [
    "# 사전준비2. s3 repository(Minio)에 training data 적재\n",
    "실습 코드 중 `00-uploadDataset-covid19.sh`을 사용\n",
    "```sh\n",
    "# github에서 training data 다운로드\n",
    "git clone https://github.com/zhongli1990/Covid19-X-Rays.git\n",
    "\n",
    "# Minio에 버킷 생성\n",
    "mc mb myminio/dataset/covid19\n",
    "\n",
    "# Minio에  training data 적재\n",
    "mc cp -r Covid19-X-Rays/all/ myminio/dataset/covid19/\n",
    "```"
   ]
  },
  {
   "cell_type": "markdown",
   "metadata": {
    "tags": []
   },
   "source": [
    "# Step 1. Hyperparamer 수행할 로직을 Containerizing"
   ]
  },
  {
   "cell_type": "markdown",
   "metadata": {
    "tags": []
   },
   "source": [
    "### 방법 1. docker 명령으로 build\n",
    "**Host에 ssh 접속**하여 `01-covid19-katib-train.py`를 업로드한 후\n",
    "\n",
    "사전준비에서 마련한 Base Image를 이용하여 아래와 같이 docker build하고 push한다\n",
    "\n",
    "```sh\n",
    "# docker build script\n",
    "REGISTRY=kubeflow-registry.default.svc.cluster.local:30000\n",
    "TAG=$REGISTRY/covid19-katib-job:latest\n",
    "\n",
    "cat << EOF > Dockerfile.covid \n",
    "FROM $REGISTRY/kf-base:latest\n",
    "COPY 01-covid19-katib-train.py /app/\n",
    "CMD ['python3', '/app/01-covid19-katib-train.py']\n",
    "EOF\n",
    "\n",
    "docker build -f Dockerfile.covid -t $TAG . && \\\n",
    "docker push $TAG\n",
    "```"
   ]
  },
  {
   "cell_type": "markdown",
   "metadata": {
    "tags": []
   },
   "source": [
    "### 방법 2. fairing으로 build\n",
    "아래 셀을 실행하여 fairing으로 image build하면 image tag명이난수로 생성된다\n",
    "(기존 fairing에서 build만 실행하기 실습과 동일한 코드이다)"
   ]
  },
  {
   "cell_type": "code",
   "execution_count": 2,
   "metadata": {
    "tags": []
   },
   "outputs": [
    {
     "name": "stderr",
     "output_type": "stream",
     "text": [
      "[W 201207 01:47:34 append:50] Building image using Append builder...\n",
      "[I 201207 01:47:34 base:107] Creating docker context: /tmp/fairing_context_0pexxmjj\n",
      "[I 201207 01:47:34 docker_creds_:234] Loading Docker credentials for repository 'kubeflow-registry.default.svc.cluster.local:30000/kf-base:latest'\n",
      "[W 201207 01:47:34 append:54] Image successfully built in 0.037106996000147774s.\n",
      "[W 201207 01:47:34 append:94] Pushing image kubeflow-registry.default.svc.cluster.local:30000/covid19-katib-job:ABC1BD46...\n",
      "[I 201207 01:47:34 docker_creds_:234] Loading Docker credentials for repository 'kubeflow-registry.default.svc.cluster.local:30000/covid19-katib-job:ABC1BD46'\n",
      "[W 201207 01:47:34 append:81] Uploading kubeflow-registry.default.svc.cluster.local:30000/covid19-katib-job:ABC1BD46\n",
      "[I 201207 01:47:34 docker_session_:280] Layer sha256:0d3160e1d0de4061b5b32ee09af687b898921d36ed9556df5910ddc3104449cd exists, skipping\n",
      "[I 201207 01:47:34 docker_session_:280] Layer sha256:4d220205e6561101f16a16ded38672d66c0c0eb0c7c03ae4d3453e534ccbba5d exists, skipping\n",
      "[I 201207 01:47:34 docker_session_:280] Layer sha256:2746a4a261c9e18bfd7ff0429c18fd7522acc14fa4c7ec8ab37ba5ebaadbc584 exists, skipping\n",
      "[I 201207 01:47:34 docker_session_:280] Layer sha256:edc69fe5c6be6938f490e5f91cdb6369799b4a509fd72c292e0cd6fdb3c345b3 exists, skipping\n",
      "[I 201207 01:47:34 docker_session_:280] Layer sha256:4c1d20cdee96111c8acf1858b62655a37ce81ae48648993542b7ac363ac5c0e5 exists, skipping\n",
      "[I 201207 01:47:34 docker_session_:280] Layer sha256:8592f093fc78e0d933851ed625592627241c475dd46adad77f37dec9cc867446 exists, skipping\n",
      "[I 201207 01:47:34 docker_session_:280] Layer sha256:9fcc87d7457ee5fe12204e9c224603d53519a444aa258c67b63db2b33884cccf exists, skipping\n",
      "[I 201207 01:47:34 docker_session_:280] Layer sha256:75c61371a2e390c1d05234b28163580c90c2e26c6d245984a4da73f9f022c102 exists, skipping\n",
      "[I 201207 01:47:34 docker_session_:280] Layer sha256:e52cad4ccd832fc331516c5a5632fdd08c37d711ff243c7e04d6e8c374b9c474 exists, skipping\n",
      "[I 201207 01:47:34 docker_session_:280] Layer sha256:156ee7b92d31346b8b1b7df1d64c89c2d0093d127749a6ce2fa0e261ffc7505f exists, skipping\n",
      "[I 201207 01:47:34 docker_session_:280] Layer sha256:107f0b841886b4e032a6ced874db81b71dcdc5e6827b6c0d195defe4c6e661da exists, skipping\n",
      "[I 201207 01:47:34 docker_session_:280] Layer sha256:dccb0709d7fb37e513a933c3848be077f0e514e41a084bd9f3f27dcde169ae20 exists, skipping\n",
      "[I 201207 01:47:34 docker_session_:280] Layer sha256:c8e37668deea784f47c8726d934adc12b8d20a2b1c50b0b0c18cb62771cd3684 exists, skipping\n",
      "[I 201207 01:47:34 docker_session_:280] Layer sha256:e97116da5f9876a95d0d3f0fd1e3bcc48721f9ac6351ce23aaa3d261b4f9b0d6 exists, skipping\n",
      "[I 201207 01:47:35 docker_session_:284] Layer sha256:8b9d59c2bda1aaafa751c38acbd9df739fb6944ed453a8592625fb85a563562a pushed.\n",
      "[I 201207 01:47:35 docker_session_:334] Finished upload of: kubeflow-registry.default.svc.cluster.local:30000/covid19-katib-job:ABC1BD46\n",
      "[W 201207 01:47:35 append:99] Pushed image kubeflow-registry.default.svc.cluster.local:30000/covid19-katib-job:ABC1BD46 in 0.10897120700064988s.\n"
     ]
    },
    {
     "name": "stdout",
     "output_type": "stream",
     "text": [
      "Published Docker image with tag: \"kubeflow-registry.default.svc.cluster.local:30000/covid19-katib-job:ABC1BD46\"\n"
     ]
    }
   ],
   "source": [
    "from kubeflow.fairing.preprocessors.base import BasePreProcessor \n",
    "from kubeflow.fairing.builders.append.append import AppendBuilder\n",
    "\n",
    "PRIVATE_REGISTRY = 'kubeflow-registry.default.svc.cluster.local:30000'\n",
    "\n",
    "preproc = BasePreProcessor(\n",
    "    input_files = ['01-covid19-katib-train.py'], \n",
    "    #path_prefix = '/myapp', # default: /app\n",
    "    command = ['python3'],  # default: python\n",
    ")    \n",
    "\n",
    "builder = AppendBuilder(\n",
    "    preprocessor = preproc,    \n",
    "    base_image = f'{PRIVATE_REGISTRY}/kf-base:latest', # 사전준비에서 마련한 Base Image\n",
    "    image_name = 'covid19-katib-job',\n",
    "    registry = PRIVATE_REGISTRY,\n",
    "    push = True,\n",
    ")\n",
    "\n",
    "builder.build()\n",
    "\n",
    "print(f'Published Docker image with tag: \"{builder.image_tag}\"')"
   ]
  },
  {
   "cell_type": "markdown",
   "metadata": {
    "tags": []
   },
   "source": [
    "# Step 2. Katib 실행\n",
    "※ 주의: faring으로 containerizing한 경우, fairing이 생성한 image tag명으로 `03-covid19-katib-random.yaml`내용을 수정한다\n",
    "\n",
    "```yaml\n",
    "apiVersion: \"kubeflow.org/v1alpha3\"\n",
    "kind: Experiment\n",
    "...\n",
    "spec:\n",
    "...\n",
    "  trialTemplate:\n",
    "    goTemplate:\n",
    "...\n",
    "          spec:\n",
    "            template:\n",
    "              spec:\n",
    "                containers:\n",
    "                - name: {{.Trial}}\n",
    "                  image: kubeflow-registry.default.svc.cluster.local:30000/katib-job:latest  # 여기를 수정\n",
    "```"
   ]
  },
  {
   "cell_type": "markdown",
   "metadata": {
    "tags": []
   },
   "source": [
    "### 방법 1. kubectl로 apply\n",
    "Host에 ssh 접속하여 아래와 같이 kubectl apply 실행\n",
    "```sh\n",
    "kubectl apply -f 03-covid19-katib-random.yaml\n",
    "```"
   ]
  },
  {
   "cell_type": "markdown",
   "metadata": {
    "tags": []
   },
   "source": [
    "### 방법 2. katib UI에서 submit\n",
    "katib UI의 submit 화면에서 `03-covid19-katib-random.yaml` 내용을 copy & paste하고 submit 버튼 클릭"
   ]
  }
 ],
 "metadata": {
  "kernelspec": {
   "display_name": "Python 3",
   "language": "python",
   "name": "python3"
  },
  "kubeflow_notebook": {
   "autosnapshot": false,
   "docker_image": "reddiana/jupyterlab-kale:latest",
   "experiment": {
    "id": "",
    "name": ""
   },
   "experiment_name": "",
   "katib_metadata": {
    "algorithm": {
     "algorithmName": "grid"
    },
    "maxFailedTrialCount": 3,
    "maxTrialCount": 12,
    "objective": {
     "objectiveMetricName": "",
     "type": "minimize"
    },
    "parallelTrialCount": 3,
    "parameters": []
   },
   "katib_run": false,
   "pipeline_description": "",
   "pipeline_name": "",
   "snapshot_volumes": false,
   "steps_defaults": [],
   "volumes": []
  },
  "language_info": {
   "codemirror_mode": {
    "name": "ipython",
    "version": 3
   },
   "file_extension": ".py",
   "mimetype": "text/x-python",
   "name": "python",
   "nbconvert_exporter": "python",
   "pygments_lexer": "ipython3",
   "version": "3.6.9"
  },
  "toc-autonumbering": false,
  "toc-showtags": false
 },
 "nbformat": 4,
 "nbformat_minor": 4
}
