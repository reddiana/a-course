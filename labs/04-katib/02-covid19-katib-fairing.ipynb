{
 "cells": [
  {
   "cell_type": "markdown",
   "metadata": {
    "tags": []
   },
   "source": [
    "# Katib 실습\n",
    "katib을 사용하여 training code `01-covid19-katib-train.py`를 hyper parameter tunning한다"
   ]
  },
  {
   "cell_type": "markdown",
   "metadata": {
    "tags": []
   },
   "source": [
    "# 사전준비: Base Image\n",
    "Host에 ssh 접속하여 아래와 같이 docker build하고 push한다\n",
    "\n",
    "```sh\n",
    "cat << EOF > Dockerfile.kf-base\n",
    "FROM ubuntu:18.04\n",
    "ARG DEBIAN_FRONTEND=noninteractive\n",
    "\n",
    "RUN apt-get update && \\\n",
    "    apt-get install -y python3 python3-pip python3-dev ffmpeg libsm6 libxext6 \n",
    "\n",
    "RUN  pip3 install --upgrade pip && \\\n",
    "     pip install \\\n",
    "        tensorflow \\\n",
    "        sklearn \\\n",
    "        opencv-python \\   \n",
    "        pillow \\\n",
    "        minio\n",
    "EOF\n",
    "```\n",
    "\n",
    "```sh\n",
    "# docker build script\n",
    "REGISTRY=kubeflow-registry.default.svc.cluster.local:30000\n",
    "TAG=$REGISTRY/kf-base:latest\n",
    "\n",
    "docker build -f Dockerfile.kf-base -t $TAG . && \\\n",
    "docker push $TAG\n",
    "```"
   ]
  },
  {
   "cell_type": "markdown",
   "metadata": {
    "tags": []
   },
   "source": [
    "# Method 1. Host에서 command로 실행"
   ]
  },
  {
   "cell_type": "markdown",
   "metadata": {
    "tags": []
   },
   "source": [
    "### Step 1. docker 명령으로 build\n",
    "**Host에 ssh 접속**하여 `01-covid19-katib-train.py`를 업로드한 후\n",
    "\n",
    "사전준비에서 마련한 Base Image를 이용하여 아래와 같이 docker build하고 push한다\n",
    "\n",
    "```sh\n",
    "# docker build script\n",
    "REGISTRY=kubeflow-registry.default.svc.cluster.local:30000\n",
    "TAG=$REGISTRY/covid19-katib-job:latest\n",
    "\n",
    "cat << EOF > Dockerfile.covid \n",
    "FROM $REGISTRY/kf-base:latest\n",
    "COPY 01-covid19-katib-train.py /app/\n",
    "CMD ['python3', '/app/01-covid19-katib-train.py']\n",
    "EOF\n",
    "\n",
    "docker build -f Dockerfile.covid -t $TAG . && \\\n",
    "docker push $TAG\n",
    "```"
   ]
  },
  {
   "cell_type": "markdown",
   "metadata": {
    "tags": []
   },
   "source": [
    "### Setp 2. kubectl로 apply\n",
    "Host에 ssh 접속하여 아래와 같이 kubectl apply 실행\n",
    "```sh\n",
    "kubectl apply -f 03-covid19-katib-random.yaml\n",
    "```"
   ]
  },
  {
   "cell_type": "markdown",
   "metadata": {
    "tags": []
   },
   "source": [
    "# Method 2. JupyterNotebook에서 실행"
   ]
  },
  {
   "cell_type": "markdown",
   "metadata": {
    "tags": []
   },
   "source": [
    "### Step 1. fairing으로 build\n",
    "아래 셀을 실행하여 fairing으로 image build하면 image tag명이난수로 생성된다\n",
    "(기존 fairing에서 build만 실행하기 실습과 동일한 코드이다)"
   ]
  },
  {
   "cell_type": "code",
   "execution_count": 2,
   "metadata": {
    "tags": []
   },
   "outputs": [
    {
     "name": "stderr",
     "output_type": "stream",
     "text": [
      "[W 201205 19:20:21 append:50] Building image using Append builder...\n",
      "[I 201205 19:20:21 base:107] Creating docker context: /tmp/fairing_context_4bvlie4_\n",
      "[I 201205 19:20:21 docker_creds_:234] Loading Docker credentials for repository 'kubeflow-registry.default.svc.cluster.local:30000/kf-base:latest'\n",
      "[W 201205 19:20:21 append:54] Image successfully built in 0.0235400310048135s.\n",
      "[W 201205 19:20:21 append:94] Pushing image kubeflow-registry.default.svc.cluster.local:30000/covid19-katib-job:73C87772...\n",
      "[I 201205 19:20:21 docker_creds_:234] Loading Docker credentials for repository 'kubeflow-registry.default.svc.cluster.local:30000/covid19-katib-job:73C87772'\n",
      "[W 201205 19:20:21 append:81] Uploading kubeflow-registry.default.svc.cluster.local:30000/covid19-katib-job:73C87772\n",
      "[I 201205 19:20:21 docker_session_:280] Layer sha256:2a978df167d497637064cfdf8bd33ad6c84b4611a08090ba370bb73f1adb892e exists, skipping\n",
      "[I 201205 19:20:21 docker_session_:280] Layer sha256:3cf8fb62ba5ffb221a2edb2208741346eb4d2d99a174138e4afbb69ce1fd9966 exists, skipping\n",
      "[I 201205 19:20:21 docker_session_:280] Layer sha256:f22ccc0b8772d8e1bcb40f137b373686bc27427a70c0e41dd22b38016e09e7e0 exists, skipping\n",
      "[I 201205 19:20:21 docker_session_:280] Layer sha256:9d18c532b9d3fd95504fa5a2059adbdbf02fbc92d771f025213fb82666c9cdfa exists, skipping\n",
      "[I 201205 19:20:21 docker_session_:280] Layer sha256:e80c964ece6a3edf0db1cfc72ae0e6f0699fb776bbfcc92b708fbb945b0b9547 exists, skipping\n",
      "[I 201205 19:20:21 docker_session_:284] Layer sha256:5feb031c8bf5906b09e0651e05d86411ae11e97a05a7ed8355074648d38a9420 pushed.\n",
      "[I 201205 19:20:21 docker_session_:284] Layer sha256:057314709649070c1be96cfc3217626991e719a6816f38ce1d05c94d6bab455e pushed.\n",
      "[I 201205 19:20:21 docker_session_:334] Finished upload of: kubeflow-registry.default.svc.cluster.local:30000/covid19-katib-job:73C87772\n",
      "[W 201205 19:20:21 append:99] Pushed image kubeflow-registry.default.svc.cluster.local:30000/covid19-katib-job:73C87772 in 0.1385707099980209s.\n"
     ]
    },
    {
     "name": "stdout",
     "output_type": "stream",
     "text": [
      "Published Docker image with tag: \"kubeflow-registry.default.svc.cluster.local:30000/covid19-katib-job:73C87772\"\n"
     ]
    }
   ],
   "source": [
    "from kubeflow.fairing.preprocessors.base import BasePreProcessor \n",
    "from kubeflow.fairing.builders.append.append import AppendBuilder\n",
    "\n",
    "preproc = BasePreProcessor(\n",
    "    input_files = ['01-covid19-katib-train.py'], \n",
    "    #path_prefix = '/myapp', # default: /app\n",
    "    command = ['python3'],  # default: python\n",
    ")    \n",
    "\n",
    "PRIVATE_REGISTRY = 'kubeflow-registry.default.svc.cluster.local:30000'\n",
    "\n",
    "builder = AppendBuilder(\n",
    "    preprocessor = preproc,\n",
    "    # 사전준비에서 마련한 Base Image\n",
    "    base_image = f'{PRIVATE_REGISTRY}/kf-base:latest', \n",
    "    image_name = 'covid19-katib-job',\n",
    "    registry = PRIVATE_REGISTRY,\n",
    "    push = True,\n",
    ")\n",
    "\n",
    "builder.build()\n",
    "\n",
    "print(f'Published Docker image with tag: \"{builder.image_tag}\"')"
   ]
  },
  {
   "cell_type": "markdown",
   "metadata": {
    "tags": []
   },
   "source": [
    "### Step 2. katib UI에서 submit\n",
    "katib UI의 submit 화면에서 `03-covid19-katib-random.yaml` 내용을 copy & paste하고 submit 버튼 클릭"
   ]
  },
  {
   "cell_type": "markdown",
   "metadata": {
    "tags": []
   },
   "source": [
    "Step 1.에서 fairing이 생성한 image tag명으로 `03-covid19-katib-random.yaml`을 수정한다\n",
    "```yaml\n",
    "apiVersion: \"kubeflow.org/v1alpha3\"\n",
    "kind: Experiment\n",
    "...\n",
    "spec:\n",
    "...\n",
    "  trialTemplate:\n",
    "    goTemplate:\n",
    "...\n",
    "          spec:\n",
    "            template:\n",
    "              spec:\n",
    "                containers:\n",
    "                - name: {{.Trial}}\n",
    "                  image: kubeflow-registry.default.svc.cluster.local:30000/katib-job:latest  # 여기를 수정\n",
    "```"
   ]
  },
  {
   "cell_type": "markdown",
   "metadata": {
    "tags": []
   },
   "source": [
    "# 관련 SDK API\n",
    "- https://kubeflow-fairing.readthedocs.io/en/latest/source/kubeflow.fairing.preprocessors.html#module-kubeflow.fairing.preprocessors.base\n",
    "- https://kubeflow-fairing.readthedocs.io/en/latest/source/kubeflow.fairing.builders.append.html#module-kubeflow.fairing.builders.append.append"
   ]
  },
  {
   "cell_type": "markdown",
   "metadata": {
    "tags": []
   },
   "source": [
    "# 참고: Notebook Preprocessor\n",
    "```\n",
    "from kubeflow.fairing.preprocessors.converted_notebook import ConvertNotebookPreprocessor\n",
    "preproc = ConvertNotebookPreprocessor(\n",
    "    notebook_file=\"example.ipynb\"\n",
    ")    \n",
    "```"
   ]
  }
 ],
 "metadata": {
  "kernelspec": {
   "display_name": "Python 3",
   "language": "python",
   "name": "python3"
  },
  "kubeflow_notebook": {
   "autosnapshot": false,
   "docker_image": "reddiana/jupyterlab-kale:latest",
   "experiment": {
    "id": "",
    "name": ""
   },
   "experiment_name": "",
   "katib_metadata": {
    "algorithm": {
     "algorithmName": "grid"
    },
    "maxFailedTrialCount": 3,
    "maxTrialCount": 12,
    "objective": {
     "objectiveMetricName": "",
     "type": "minimize"
    },
    "parallelTrialCount": 3,
    "parameters": []
   },
   "katib_run": false,
   "pipeline_description": "",
   "pipeline_name": "",
   "snapshot_volumes": false,
   "steps_defaults": [],
   "volumes": []
  },
  "language_info": {
   "codemirror_mode": {
    "name": "ipython",
    "version": 3
   },
   "file_extension": ".py",
   "mimetype": "text/x-python",
   "name": "python",
   "nbconvert_exporter": "python",
   "pygments_lexer": "ipython3",
   "version": "3.6.9"
  }
 },
 "nbformat": 4,
 "nbformat_minor": 4
}
