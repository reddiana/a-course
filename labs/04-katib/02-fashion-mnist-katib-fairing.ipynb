{
 "cells": [
  {
   "cell_type": "markdown",
   "metadata": {
    "tags": []
   },
   "source": [
    "# Katib 실습\n",
    "katib을 사용하여 training code `01-fashion-mnist-katib-train.py`를 hyper parameter tunning한다"
   ]
  },
  {
   "cell_type": "markdown",
   "metadata": {
    "tags": []
   },
   "source": [
    "# Case 1. Host에서 실행"
   ]
  },
  {
   "cell_type": "markdown",
   "metadata": {
    "tags": []
   },
   "source": [
    "### Step 1. docker 명령으로 imabe build\n",
    "**Host에 ssh 접속**하여 `01-fashion-mnist-katib-train.py`를 업로드한 후\n",
    "\n",
    "아래와 같이 docker build하고 push한다\n",
    "\n",
    "```sh\n",
    "REGISTRY=kubeflow-registry.default.svc.cluster.local:30000\n",
    "TAG=$REGISTRY/katib-job:latest\n",
    "\n",
    "cat << EOF | docker build -t $TAG -f - . \n",
    "FROM brightfly/kubeflow-jupyter-lab:tf2.0-gpu\n",
    "COPY 01-fashion-mnist-katib-train.py /app/\n",
    "CMD ['python', '/app/01-fashion-mnist-katib-train.py']\n",
    "EOF\n",
    "\n",
    "docker push $TAG\n",
    "```"
   ]
  },
  {
   "cell_type": "markdown",
   "metadata": {
    "tags": []
   },
   "source": [
    "### Step 2. kubectl로 katib 실행\n",
    "Host에 ssh 접속하여 아래와 같이 kubectl apply 실행\n",
    "```sh\n",
    "kubectl apply -f 03-fashion-katib-random.yaml\n",
    "```"
   ]
  },
  {
   "cell_type": "markdown",
   "metadata": {
    "tags": []
   },
   "source": [
    "# Case 2. Kubeflow UI에서 실행\n"
   ]
  },
  {
   "cell_type": "markdown",
   "metadata": {
    "tags": []
   },
   "source": [
    "### Step 1. JupyterLab에서 fairing으로 image build\n",
    "아래 셀을 실행하여 fairing으로 image build하면 image tag명이난수로 생성된다\n",
    "(기존 fairing에서 build만 실행하기 실습과 동일한 코드이다)"
   ]
  },
  {
   "cell_type": "code",
   "execution_count": null,
   "metadata": {
    "tags": []
   },
   "outputs": [],
   "source": [
    "from kubeflow.fairing.preprocessors.base import BasePreProcessor \n",
    "from kubeflow.fairing.builders.append.append import AppendBuilder\n",
    "\n",
    "preproc = BasePreProcessor(\n",
    "    input_files = ['01-fashion-mnist-katib-train.py'], \n",
    "    #path_prefix = '/myapp', # default: /app\n",
    "    #command = ['python3'],  # default: python\n",
    ")    \n",
    "\n",
    "builder = AppendBuilder(\n",
    "    preprocessor = preproc,\n",
    "    base_image = 'brightfly/kubeflow-jupyter-lab:tf2.0-gpu',\n",
    "    image_name = 'katib-job',\n",
    "    registry = 'kubeflow-registry.default.svc.cluster.local:30000',\n",
    "    push = True,\n",
    ")\n",
    "\n",
    "builder.build()\n",
    "\n",
    "print(f'Published Docker image with tag: \"{builder.image_tag}\"')"
   ]
  },
  {
   "cell_type": "markdown",
   "metadata": {
    "tags": []
   },
   "source": [
    "### Step 2. katib UI에서 submit\n",
    "katib UI의 submit 화면에서 `03-fashion-katib-random.yaml` 내용을 copy & paste하고 submit 버튼 클릭\n",
    "\n",
    "faring으로 image build한 경우, faring에서 만들어진 image tag명으로 `03-fashion-katib-random.yaml` 내용을 수정한다\n",
    "```yaml\n",
    "apiVersion: \"kubeflow.org/v1alpha3\"\n",
    "kind: Experiment\n",
    "...\n",
    "spec:\n",
    "...\n",
    "  trialTemplate:\n",
    "    goTemplate:\n",
    "...\n",
    "          spec:\n",
    "            template:\n",
    "              spec:\n",
    "                containers:\n",
    "                - name: {{.Trial}}\n",
    "                  image: kubeflow-registry.default.svc.cluster.local:30000/katib-job:latest  # 여기를 수정\n",
    "```"
   ]
  },
  {
   "cell_type": "markdown",
   "metadata": {
    "tags": []
   },
   "source": [
    "### 관련 SDK API\n",
    "- https://kubeflow-fairing.readthedocs.io/en/latest/source/kubeflow.fairing.preprocessors.html#module-kubeflow.fairing.preprocessors.base\n",
    "- https://kubeflow-fairing.readthedocs.io/en/latest/source/kubeflow.fairing.builders.append.html#module-kubeflow.fairing.builders.append.append\n",
    "\n",
    "### 참고 Notebook Preprocessor\n",
    "```\n",
    "from kubeflow.fairing.preprocessors.converted_notebook import ConvertNotebookPreprocessor\n",
    "preproc = ConvertNotebookPreprocessor(\n",
    "    notebook_file=\"example.ipynb\"\n",
    ")    \n",
    "```"
   ]
  }
 ],
 "metadata": {
  "kernelspec": {
   "display_name": "Python 3",
   "language": "python",
   "name": "python3"
  },
  "kubeflow_notebook": {
   "autosnapshot": false,
   "docker_image": "reddiana/jupyterlab-kale:latest",
   "experiment": {
    "id": "",
    "name": ""
   },
   "experiment_name": "",
   "katib_metadata": {
    "algorithm": {
     "algorithmName": "grid"
    },
    "maxFailedTrialCount": 3,
    "maxTrialCount": 12,
    "objective": {
     "objectiveMetricName": "",
     "type": "minimize"
    },
    "parallelTrialCount": 3,
    "parameters": []
   },
   "katib_run": false,
   "pipeline_description": "",
   "pipeline_name": "",
   "snapshot_volumes": false,
   "steps_defaults": [],
   "volumes": []
  },
  "language_info": {
   "codemirror_mode": {
    "name": "ipython",
    "version": 3
   },
   "file_extension": ".py",
   "mimetype": "text/x-python",
   "name": "python",
   "nbconvert_exporter": "python",
   "pygments_lexer": "ipython3",
   "version": "3.6.9"
  }
 },
 "nbformat": 4,
 "nbformat_minor": 4
}
