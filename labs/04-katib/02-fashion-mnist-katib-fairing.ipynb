{
 "cells": [
  {
   "cell_type": "markdown",
   "metadata": {
    "tags": []
   },
   "source": [
    "# Katib 실습\n",
    "katib을 사용하여 training code `01-fashion-mnist-katib-train.py`를 hyper parameter tunning한다"
   ]
  },
  {
   "cell_type": "markdown",
   "metadata": {
    "tags": []
   },
   "source": [
    "# Step 1. training code를 dockerizing"
   ]
  },
  {
   "cell_type": "markdown",
   "metadata": {
    "tags": []
   },
   "source": [
    "### 방법 1: docker 명령으로 build (정석)\n",
    "**Host에 ssh 접속**하여 `01-fashion-mnist-katib-train.py`를 업로드한 후\n",
    "\n",
    "아래와 같이 docker build하고 push한다\n",
    "\n",
    "```sh\n",
    "REGISTRY=kubeflow-registry.default.svc.cluster.local:30000\n",
    "TAG=$REGISTRY/katib-job:latest\n",
    "\n",
    "cat << EOF | docker build -t $TAG -f - . \n",
    "FROM brightfly/kubeflow-jupyter-lab:tf2.0-gpu\n",
    "COPY 01-fashion-mnist-katib-train.py /app/\n",
    "CMD ['python', '/app/01-fashion-mnist-katib-train.py']\n",
    "EOF\n",
    "\n",
    "docker push $TAG\n",
    "```"
   ]
  },
  {
   "cell_type": "markdown",
   "metadata": {
    "tags": []
   },
   "source": [
    "### 방법 2: fairing으로 build (간편)\n",
    "아래 셀을 실행하여 fairing으로 image build하면 image tag명이난수로 생성된다\n",
    "(기존 fairing에서 build만 실행하기 실습과 동일한 코드이다)"
   ]
  },
  {
   "cell_type": "code",
   "execution_count": 2,
   "metadata": {
    "tags": []
   },
   "outputs": [
    {
     "name": "stderr",
     "output_type": "stream",
     "text": [
      "[W 201204 18:56:19 append:50] Building image using Append builder...\n",
      "[I 201204 18:56:19 base:107] Creating docker context: /tmp/fairing_context_xdpkrg5o\n",
      "[I 201204 18:56:19 docker_creds_:234] Loading Docker credentials for repository 'brightfly/kubeflow-jupyter-lab:tf2.0-gpu'\n",
      "[W 201204 18:56:22 append:54] Image successfully built in 2.3800979800007553s.\n",
      "[W 201204 18:56:22 append:94] Pushing image kubeflow-registry.default.svc.cluster.local:30000/katib-job:8840FE5A...\n",
      "[I 201204 18:56:22 docker_creds_:234] Loading Docker credentials for repository 'kubeflow-registry.default.svc.cluster.local:30000/katib-job:8840FE5A'\n",
      "[W 201204 18:56:22 append:81] Uploading kubeflow-registry.default.svc.cluster.local:30000/katib-job:8840FE5A\n",
      "[I 201204 18:56:22 docker_session_:280] Layer sha256:251f5509d51d9e4119d4ffb70d4820f8e2d7dc72ad15df3ebd7cd755539e40fd exists, skipping\n",
      "[I 201204 18:56:22 docker_session_:280] Layer sha256:9f0a21d58e5dce5512db6d5595c6e9c4ab014917cf0644e2d282b8f5e3f2522a exists, skipping\n",
      "[I 201204 18:56:22 docker_session_:280] Layer sha256:c592fdfb0e51000077def684bbdd097d6d870e62ae94418ba81a3468b03ec833 exists, skipping\n",
      "[I 201204 18:56:22 docker_session_:280] Layer sha256:db108ae5c97b9d9b4a6ab30f08b9f00de1a383adb8b2fbdad530e801661c12c5 exists, skipping\n",
      "[I 201204 18:56:22 docker_session_:280] Layer sha256:99f040206da1d433fc5eb2142e1d0d8b39d219abccce64700490e9045b0590ae exists, skipping\n",
      "[I 201204 18:56:22 docker_session_:280] Layer sha256:0586a82d62e69da8dab24b635faf9c5da803ff9d208111a25b0e2253c97ec331 exists, skipping\n",
      "[I 201204 18:56:22 docker_session_:280] Layer sha256:034db42ae0fa9a91805c16e78f4a6a9d8f5826c95c92713f835b2866333c786c exists, skipping\n",
      "[I 201204 18:56:22 docker_session_:280] Layer sha256:d701a76e3193731210c61c838de0c3d8fdc8048b613ca88a58e11dc3223221ec exists, skipping\n",
      "[I 201204 18:56:22 docker_session_:280] Layer sha256:f9e7e7aaea7e58fd475e393007baf0251bad43cccaaef540a365ed1036173ae7 exists, skipping\n",
      "[I 201204 18:56:22 docker_session_:280] Layer sha256:308e2d038b5334fb2ec9872230cfabd52b26102f6c8e0e257f3dcd63cc3b7177 exists, skipping\n",
      "[I 201204 18:56:22 docker_session_:280] Layer sha256:7fb8ccf83688665b4137d132962349ffeae8bed7fee8f8b878fee4ecffe1f93d exists, skipping\n",
      "[I 201204 18:56:22 docker_session_:280] Layer sha256:d1555fb0eeaac2bbfe413314cbbed0dea65a0a72312f29154e21afda1972b0d1 exists, skipping\n",
      "[I 201204 18:56:22 docker_session_:280] Layer sha256:180c1b9ae1a5a2a4aba2e08646155b250793be7a97a21556f2c4383f35510f14 exists, skipping\n",
      "[I 201204 18:56:22 docker_session_:280] Layer sha256:65881bda3d6dd3c81420e22d3f921824b72ae8c07137aed41d02c640a2f87f04 exists, skipping\n",
      "[I 201204 18:56:22 docker_session_:280] Layer sha256:8e829fe70a46e3ac4334823560e98b257234c23629f19f05460e21a453091e6d exists, skipping\n",
      "[I 201204 18:56:22 docker_session_:280] Layer sha256:071fd910512489f1cf72f43901d730bfcf302bd46b88924e81f401810bd0e4ce exists, skipping\n",
      "[I 201204 18:56:22 docker_session_:280] Layer sha256:8810fcda1e6e2713f22a64b835ffa1ff15f49257f43dee869abef1929416d362 exists, skipping\n",
      "[I 201204 18:56:22 docker_session_:280] Layer sha256:b0a15f35c371773fb2237091edb340a15cf0e8615de8c9d8c4b8830c35a40265 exists, skipping\n",
      "[I 201204 18:56:22 docker_session_:280] Layer sha256:74a3420b0759a0426bc7a24daf48c0f376a7e8d293c015e0681884071c3ea0e1 exists, skipping\n",
      "[I 201204 18:56:22 docker_session_:280] Layer sha256:57418a6dc9496eeb6c9324e7bdf6fd48b9e1ac25cb473bf7b71f40d44e2f1e64 exists, skipping\n",
      "[I 201204 18:56:22 docker_session_:280] Layer sha256:d12137d65eaa8a740f8bc9419a0fe3e1ba963478fb9179142935e67d667c6f55 exists, skipping\n",
      "[I 201204 18:56:22 docker_session_:280] Layer sha256:947e0f532378ce4f91ff44af563f21f5679d39a28efa2541594dd3f96730edb0 exists, skipping\n",
      "[I 201204 18:56:22 docker_session_:280] Layer sha256:7d830fc21c34e37fa1d2f683b3392ce76489814b1973691f0593b2ce945b2aca exists, skipping\n",
      "[I 201204 18:56:22 docker_session_:280] Layer sha256:35c102085707f703de2d9eaad8752d6fe1b8f02b5d2149f1d8357c9cc7fb7d0a exists, skipping\n",
      "[I 201204 18:56:22 docker_session_:280] Layer sha256:c73ad65f0763fc76b21c650ff9a5d7f4714c30a3dc27f462aa478c829a8efed1 exists, skipping\n",
      "[I 201204 18:56:22 docker_session_:280] Layer sha256:f6490e4900cb64767e994addad4a4329cca4ccfce37a63d21249d89b63ceb478 exists, skipping\n",
      "[I 201204 18:56:22 docker_session_:280] Layer sha256:06d09f7e28e650c4614bfeaa1336db8632aa02d48b9ff082d9cdf2edf4204376 exists, skipping\n",
      "[I 201204 18:56:22 docker_session_:280] Layer sha256:6001e1789921cf851f6fb2e5fe05be70f482fe9c2286f66892fe5a3bc404569c exists, skipping\n",
      "[I 201204 18:56:22 docker_session_:280] Layer sha256:c4e2f5cde1e102db0e852d5e60ceac5bf377621b397ef3cb7bf1587052ea9520 exists, skipping\n",
      "[I 201204 18:56:22 docker_session_:284] Layer sha256:1b7ecfb45130a0c081a517078a27e609676aa47c4574322f9eb3d5251c3d59c9 pushed.\n",
      "[I 201204 18:56:22 docker_session_:334] Finished upload of: kubeflow-registry.default.svc.cluster.local:30000/katib-job:8840FE5A\n",
      "[W 201204 18:56:22 append:99] Pushed image kubeflow-registry.default.svc.cluster.local:30000/katib-job:8840FE5A in 0.1879360259999885s.\n"
     ]
    },
    {
     "name": "stdout",
     "output_type": "stream",
     "text": [
      "Published Docker image with tag: \"kubeflow-registry.default.svc.cluster.local:30000/katib-job:8840FE5A\"\n"
     ]
    }
   ],
   "source": [
    "from kubeflow.fairing.preprocessors.base import BasePreProcessor \n",
    "from kubeflow.fairing.builders.append.append import AppendBuilder\n",
    "\n",
    "preproc = BasePreProcessor(\n",
    "    input_files = ['01-fashion-mnist-katib-train.py'], \n",
    "    #path_prefix = '/myapp', # default: /app\n",
    "    #command = ['python3'],  # default: python\n",
    ")    \n",
    "\n",
    "builder = AppendBuilder(\n",
    "    preprocessor = preproc,\n",
    "    base_image = 'brightfly/kubeflow-jupyter-lab:tf2.0-gpu',\n",
    "    image_name = 'katib-job',\n",
    "    registry = 'kubeflow-registry.default.svc.cluster.local:30000',\n",
    "    push = True,\n",
    ")\n",
    "\n",
    "builder.build()\n",
    "\n",
    "print(f'Published Docker image with tag: \"{builder.image_tag}\"')"
   ]
  },
  {
   "cell_type": "markdown",
   "metadata": {
    "tags": []
   },
   "source": [
    "이 image tag명으로 `03-fashion-katib-random.yaml`을 수정한다\n",
    "```yaml\n",
    "apiVersion: \"kubeflow.org/v1alpha3\"\n",
    "kind: Experiment\n",
    "...\n",
    "spec:\n",
    "...\n",
    "  trialTemplate:\n",
    "    goTemplate:\n",
    "...\n",
    "          spec:\n",
    "            template:\n",
    "              spec:\n",
    "                containers:\n",
    "                - name: {{.Trial}}\n",
    "                  image: kubeflow-registry.default.svc.cluster.local:30000/katib-job:latest  # 여기를 수정\n",
    "```"
   ]
  },
  {
   "cell_type": "markdown",
   "metadata": {
    "tags": []
   },
   "source": [
    "# Step 2. katib 실행"
   ]
  },
  {
   "cell_type": "markdown",
   "metadata": {
    "tags": []
   },
   "source": [
    "### 방법 1. kubectl로 apply\n",
    "Host에 ssh 접속하여 아래와 같이 kubectl apply 실행\n",
    "```sh\n",
    "kubectl apply -f 03-fashion-katib-random.yaml\n",
    "```"
   ]
  },
  {
   "cell_type": "markdown",
   "metadata": {
    "tags": []
   },
   "source": [
    "### 방법 2: katib UI에서 submit\n",
    "katib UI의 submit 화면에서 `03-fashion-katib-random.yaml` 내용을 copy & paste하고 submit 버튼 클릭"
   ]
  },
  {
   "cell_type": "markdown",
   "metadata": {
    "tags": []
   },
   "source": [
    "### 관련 SDK API\n",
    "- https://kubeflow-fairing.readthedocs.io/en/latest/source/kubeflow.fairing.preprocessors.html#module-kubeflow.fairing.preprocessors.base\n",
    "- https://kubeflow-fairing.readthedocs.io/en/latest/source/kubeflow.fairing.builders.append.html#module-kubeflow.fairing.builders.append.append\n",
    "\n",
    "### 참고 Notebook Preprocessor\n",
    "```\n",
    "from kubeflow.fairing.preprocessors.converted_notebook import ConvertNotebookPreprocessor\n",
    "preproc = ConvertNotebookPreprocessor(\n",
    "    notebook_file=\"example.ipynb\"\n",
    ")    \n",
    "```"
   ]
  }
 ],
 "metadata": {
  "kernelspec": {
   "display_name": "Python 3",
   "language": "python",
   "name": "python3"
  },
  "kubeflow_notebook": {
   "autosnapshot": false,
   "docker_image": "reddiana/jupyterlab-kale:latest",
   "experiment": {
    "id": "",
    "name": ""
   },
   "experiment_name": "",
   "katib_metadata": {
    "algorithm": {
     "algorithmName": "grid"
    },
    "maxFailedTrialCount": 3,
    "maxTrialCount": 12,
    "objective": {
     "objectiveMetricName": "",
     "type": "minimize"
    },
    "parallelTrialCount": 3,
    "parameters": []
   },
   "katib_run": false,
   "pipeline_description": "",
   "pipeline_name": "",
   "snapshot_volumes": false,
   "steps_defaults": [],
   "volumes": []
  },
  "language_info": {
   "codemirror_mode": {
    "name": "ipython",
    "version": 3
   },
   "file_extension": ".py",
   "mimetype": "text/x-python",
   "name": "python",
   "nbconvert_exporter": "python",
   "pygments_lexer": "ipython3",
   "version": "3.6.9"
  }
 },
 "nbformat": 4,
 "nbformat_minor": 4
}
