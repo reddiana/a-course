{
 "cells": [
  {
   "cell_type": "code",
   "execution_count": 1,
   "metadata": {},
   "outputs": [],
   "source": [
    "import kfp\n",
    "from kfp import dsl\n",
    "\n",
    "import kfp.dsl as dsl\n",
    "from kubernetes.client.models import V1EnvVar\n",
    "\n",
    "@dsl.pipeline(name='Env example', description='A pipline showing how to use environment variables')\n",
    "def environment_pipeline():\n",
    "    env_var = V1EnvVar(\n",
    "        name='example_env', \n",
    "        value='mymy_env_variable~~ have a good day'\n",
    "    )\n",
    "    print_env_op().add_env_variable(env_var)\n",
    "    \n",
    "def print_env_op():\n",
    "    return dsl.ContainerOp(\n",
    "        name='Print',\n",
    "        image='alpine:3.6',\n",
    "        command=['sh', '-c', 'echo $example_env'],\n",
    "    )"
   ]
  },
  {
   "cell_type": "code",
   "execution_count": 2,
   "metadata": {},
   "outputs": [
    {
     "data": {
      "text/html": [
       "Experiment link <a href=\"/pipeline/#/experiments/details/af8ded44-f8e3-49d3-be5b-87264899e01f\" target=\"_blank\" >here</a>"
      ],
      "text/plain": [
       "<IPython.core.display.HTML object>"
      ]
     },
     "metadata": {},
     "output_type": "display_data"
    },
    {
     "data": {
      "text/html": [
       "Run link <a href=\"/pipeline/#/runs/details/ec6f044b-32fb-49bd-8b5c-1dc9ff8ee384\" target=\"_blank\" >here</a>"
      ],
      "text/plain": [
       "<IPython.core.display.HTML object>"
      ]
     },
     "metadata": {},
     "output_type": "display_data"
    }
   ],
   "source": [
    "pipelineGzFile = 'hahahoho.zip'\n",
    "\n",
    "kfp.compiler.Compiler().compile(\n",
    "    environment_pipeline, \n",
    "    pipelineGzFile\n",
    ")\n",
    "\n",
    "client = kfp.Client()\n",
    "my_exp = client.create_experiment(\n",
    "    name='Basic Experiment'\n",
    ")\n",
    "my_run = client.run_pipeline(\n",
    "    my_exp.id, \n",
    "    'Sample Experiment',\n",
    "    pipelineGzFile\n",
    ")"
   ]
  }
 ],
 "metadata": {
  "kernelspec": {
   "display_name": "Python 3",
   "language": "python",
   "name": "python3"
  },
  "kubeflow_notebook": {
   "docker_image": "reddiana/jupyterlab-kale:0.0.9",
   "experiment": {
    "id": "",
    "name": ""
   },
   "experiment_name": "",
   "katib_metadata": {
    "algorithm": {
     "algorithmName": "grid"
    },
    "maxFailedTrialCount": 3,
    "maxTrialCount": 12,
    "objective": {
     "objectiveMetricName": "",
     "type": "minimize"
    },
    "parallelTrialCount": 3,
    "parameters": []
   },
   "katib_run": false,
   "pipeline_description": "",
   "pipeline_name": "",
   "volumes": []
  },
  "language_info": {
   "codemirror_mode": {
    "name": "ipython",
    "version": 3
   },
   "file_extension": ".py",
   "mimetype": "text/x-python",
   "name": "python",
   "nbconvert_exporter": "python",
   "pygments_lexer": "ipython3",
   "version": "3.6.9"
  }
 },
 "nbformat": 4,
 "nbformat_minor": 4
}
