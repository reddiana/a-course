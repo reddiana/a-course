{
 "cells": [
  {
   "cell_type": "code",
   "execution_count": 1,
   "metadata": {
    "tags": []
   },
   "outputs": [],
   "source": [
    "import kfp\n",
    "import kfp.dsl as dsl\n",
    "\n",
    "@dsl.pipeline(\n",
    "    name=\"pipeline_with_sidecar\", \n",
    "    description=\"A pipeline that demonstrates how to add a sidecar to an operation.\"\n",
    ")\n",
    "def pipeline_with_sidecar(sleep_sec: int = 30):\n",
    "\n",
    "    # sidecar with sevice that reply \"hello world\" to any GET request\n",
    "    echo = dsl.Sidecar(\n",
    "        name=\"echo\",\n",
    "        image=\"hashicorp/http-echo:latest\",\n",
    "        args=['-text=\"hello world\"'],\n",
    "    )\n",
    "\n",
    "    # container op with sidecar\n",
    "    op1 = dsl.ContainerOp(\n",
    "        name=\"download\",\n",
    "        image=\"busybox:latest\",\n",
    "        command=[\"sh\", \"-c\"],\n",
    "        arguments=[\n",
    "            \"sleep %s; wget localhost:5678 -O /tmp/results.txt\" % sleep_sec\n",
    "        ],  # sleep for X sec and call the sidecar and save results to output\n",
    "        sidecars=[echo],\n",
    "        file_outputs={\"downloaded\": \"/tmp/results.txt\"},\n",
    "    )\n",
    "\n",
    "    op2 = dsl.ContainerOp(\n",
    "        name=\"echo\",\n",
    "        image=\"library/bash\",\n",
    "        command=[\"sh\", \"-c\"],\n",
    "        arguments=[\"echo %s\" % op1.output],  # print out content of op1 output\n",
    "    )"
   ]
  },
  {
   "cell_type": "code",
   "execution_count": 2,
   "metadata": {},
   "outputs": [
    {
     "data": {
      "text/html": [
       "Experiment link <a href=\"/pipeline/#/experiments/details/af8ded44-f8e3-49d3-be5b-87264899e01f\" target=\"_blank\" >here</a>"
      ],
      "text/plain": [
       "<IPython.core.display.HTML object>"
      ]
     },
     "metadata": {},
     "output_type": "display_data"
    },
    {
     "data": {
      "text/html": [
       "Run link <a href=\"/pipeline/#/runs/details/71bd6519-7006-47af-b4b1-dff3e9e0757b\" target=\"_blank\" >here</a>"
      ],
      "text/plain": [
       "<IPython.core.display.HTML object>"
      ]
     },
     "metadata": {},
     "output_type": "display_data"
    }
   ],
   "source": [
    "pipelineGzFile = 'hahahoho.zip'\n",
    "\n",
    "kfp.compiler.Compiler().compile(\n",
    "    pipeline_with_sidecar, \n",
    "    pipelineGzFile\n",
    ")\n",
    "\n",
    "client = kfp.Client()\n",
    "my_exp = client.create_experiment(\n",
    "    name='Basic Experiment'\n",
    ")\n",
    "my_run = client.run_pipeline(\n",
    "    my_exp.id, \n",
    "    'Sample Sidecar',\n",
    "    pipelineGzFile\n",
    ")"
   ]
  },
  {
   "cell_type": "code",
   "execution_count": null,
   "metadata": {},
   "outputs": [],
   "source": []
  }
 ],
 "metadata": {
  "kernelspec": {
   "display_name": "Python 3",
   "language": "python",
   "name": "python3"
  },
  "kubeflow_notebook": {
   "docker_image": "reddiana/jupyterlab-kale:0.0.9",
   "experiment": {
    "id": "",
    "name": ""
   },
   "experiment_name": "",
   "katib_metadata": {
    "algorithm": {
     "algorithmName": "grid"
    },
    "maxFailedTrialCount": 3,
    "maxTrialCount": 12,
    "objective": {
     "objectiveMetricName": "",
     "type": "minimize"
    },
    "parallelTrialCount": 3,
    "parameters": []
   },
   "katib_run": false,
   "pipeline_description": "",
   "pipeline_name": "",
   "volumes": []
  },
  "language_info": {
   "codemirror_mode": {
    "name": "ipython",
    "version": 3
   },
   "file_extension": ".py",
   "mimetype": "text/x-python",
   "name": "python",
   "nbconvert_exporter": "python",
   "pygments_lexer": "ipython3",
   "version": "3.6.9"
  }
 },
 "nbformat": 4,
 "nbformat_minor": 4
}
