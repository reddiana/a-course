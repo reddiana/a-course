{
 "cells": [
  {
   "cell_type": "code",
   "execution_count": null,
   "metadata": {},
   "outputs": [],
   "source": [
    "import kfp\n",
    "import kfp.dsl as dsl\n",
    "\n",
    "@dsl.pipeline(\n",
    "    name=\"pipeline_with_sidecar\", \n",
    "    description=\"A pipeline that demonstrates how to add a sidecar to an operation.\"\n",
    ")\n",
    "def pipeline_with_sidecar(sleep_sec: int = 30):\n",
    "\n",
    "    # sidecar with sevice that reply \"hello world\" to any GET request\n",
    "    echo = dsl.Sidecar(\n",
    "        name=\"echo\",\n",
    "        image=\"hashicorp/http-echo:latest\",\n",
    "        args=['-text=\"hello world\"'],\n",
    "    )\n",
    "\n",
    "    # container op with sidecar\n",
    "    op1 = dsl.ContainerOp(\n",
    "        name=\"download\",\n",
    "        image=\"busybox:latest\",\n",
    "        command=[\"sh\", \"-c\"],\n",
    "        arguments=[\n",
    "            \"sleep %s; wget localhost:5678 -O /tmp/results.txt\" % sleep_sec\n",
    "        ],  # sleep for X sec and call the sidecar and save results to output\n",
    "        sidecars=[echo],\n",
    "        file_outputs={\"downloaded\": \"/tmp/results.txt\"},\n",
    "    )\n",
    "\n",
    "    op2 = dsl.ContainerOp(\n",
    "        name=\"echo\",\n",
    "        image=\"library/bash\",\n",
    "        command=[\"sh\", \"-c\"],\n",
    "        arguments=[\"echo %s\" % op1.output],  # print out content of op1 output\n",
    "    )\n",
    "\n",
    "if __name__ == '__main__':\n",
    "    kfp.compiler.Compiler().compile(pipeline_with_sidecar, __file__ + '.yaml')"
   ]
  }
 ],
 "metadata": {
  "kernelspec": {
   "display_name": "Python 3",
   "language": "python",
   "name": "python3"
  },
  "kubeflow_notebook": {
   "docker_image": "reddiana/jupyterlab-kale:0.0.9",
   "experiment": {
    "id": "",
    "name": ""
   },
   "experiment_name": "",
   "katib_run": false,
   "pipeline_description": "",
   "pipeline_name": "",
   "volumes": []
  },
  "language_info": {
   "codemirror_mode": {
    "name": "ipython",
    "version": 3
   },
   "file_extension": ".py",
   "mimetype": "text/x-python",
   "name": "python",
   "nbconvert_exporter": "python",
   "pygments_lexer": "ipython3",
   "version": "3.6.9"
  }
 },
 "nbformat": 4,
 "nbformat_minor": 4
}
