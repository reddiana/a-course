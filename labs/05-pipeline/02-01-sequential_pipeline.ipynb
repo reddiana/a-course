{
 "cells": [
  {
   "cell_type": "code",
   "execution_count": 1,
   "metadata": {},
   "outputs": [],
   "source": [
    "python_code = '''\n",
    "import random\n",
    "result = 'heads' if random.randint(0,1) == 0 else 'tails'\n",
    "print(result)\n",
    "'''"
   ]
  },
  {
   "cell_type": "code",
   "execution_count": 2,
   "metadata": {
    "tags": []
   },
   "outputs": [],
   "source": [
    "import kfp\n",
    "from kfp import dsl\n",
    "\n",
    "@dsl.pipeline(name='Sequential pipeline', description='A pipeline with two sequential steps.')\n",
    "def sequential_pipeline():\n",
    "    flip = flip_coin_op()\n",
    "    print_op(flip.output)\n",
    "\n",
    "def flip_coin_op():\n",
    "    return dsl.ContainerOp(\n",
    "        name='Flip coin',\n",
    "        image='python:alpine3.6',\n",
    "        command=['sh', '-c'],\n",
    "        arguments=[f'python -c \"{python_code}\" | tee /tmp/output'],\n",
    "        file_outputs={'output': '/tmp/output'}\n",
    "    )\n",
    "\n",
    "def print_op(msg):\n",
    "    return dsl.ContainerOp(\n",
    "        name='Print',\n",
    "        image='alpine:3.6',\n",
    "        command=['echo', msg],\n",
    "    )"
   ]
  },
  {
   "cell_type": "code",
   "execution_count": 3,
   "metadata": {},
   "outputs": [
    {
     "data": {
      "text/html": [
       "Experiment link <a href=\"/pipeline/#/experiments/details/af8ded44-f8e3-49d3-be5b-87264899e01f\" target=\"_blank\" >here</a>"
      ],
      "text/plain": [
       "<IPython.core.display.HTML object>"
      ]
     },
     "metadata": {},
     "output_type": "display_data"
    },
    {
     "data": {
      "text/html": [
       "Run link <a href=\"/pipeline/#/runs/details/f2f38230-01c9-413c-9f0c-176071df7b7d\" target=\"_blank\" >here</a>"
      ],
      "text/plain": [
       "<IPython.core.display.HTML object>"
      ]
     },
     "metadata": {},
     "output_type": "display_data"
    }
   ],
   "source": [
    "pipelineGzFile = 'hahahoho.zip'\n",
    "\n",
    "kfp.compiler.Compiler().compile(\n",
    "    sequential_pipeline,\n",
    "    pipelineGzFile\n",
    ")\n",
    "\n",
    "client = kfp.Client()\n",
    "my_exp = client.create_experiment(\n",
    "    name='Basic Experiment'\n",
    ")\n",
    "my_run = client.run_pipeline(\n",
    "    my_exp.id,\n",
    "    'Sequential pipeline', \n",
    "    pipelineGzFile\n",
    ")"
   ]
  }
 ],
 "metadata": {
  "kernelspec": {
   "display_name": "Python 3",
   "language": "python",
   "name": "python3"
  },
  "kubeflow_notebook": {
   "docker_image": "reddiana/jupyterlab-kale:0.0.9",
   "experiment": {
    "id": "",
    "name": ""
   },
   "experiment_name": "",
   "katib_metadata": {
    "algorithm": {
     "algorithmName": "grid"
    },
    "maxFailedTrialCount": 3,
    "maxTrialCount": 12,
    "objective": {
     "objectiveMetricName": "",
     "type": "minimize"
    },
    "parallelTrialCount": 3,
    "parameters": []
   },
   "katib_run": false,
   "pipeline_description": "",
   "pipeline_name": "",
   "volumes": []
  },
  "language_info": {
   "codemirror_mode": {
    "name": "ipython",
    "version": 3
   },
   "file_extension": ".py",
   "mimetype": "text/x-python",
   "name": "python",
   "nbconvert_exporter": "python",
   "pygments_lexer": "ipython3",
   "version": "3.6.9"
  }
 },
 "nbformat": 4,
 "nbformat_minor": 4
}
