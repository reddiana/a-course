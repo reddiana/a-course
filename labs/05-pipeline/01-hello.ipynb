{
 "cells": [
  {
   "cell_type": "markdown",
   "metadata": {
    "tags": []
   },
   "source": [
    "# Pipeline SDK"
   ]
  },
  {
   "cell_type": "code",
   "execution_count": 1,
   "metadata": {
    "tags": []
   },
   "outputs": [],
   "source": [
    "import kfp\n",
    "\n",
    "@kfp.dsl.pipeline(name='my-pipeline_1207-0027', description='Hello How do you do')\n",
    "def hello_pipeline():\n",
    "    train_task = hello_component()\n",
    "\n",
    "@kfp.dsl.component\n",
    "def hello_component():\n",
    "    return kfp.dsl.ContainerOp(\n",
    "        name='my-ContainerOp',\n",
    "        image='kangwoo/kfp-mnist:kfp' # TODO 본 교육용으로 바꿀 것\n",
    "    )    "
   ]
  },
  {
   "cell_type": "markdown",
   "metadata": {
    "tags": []
   },
   "source": [
    "# Pipeline 컴파일"
   ]
  },
  {
   "cell_type": "code",
   "execution_count": 2,
   "metadata": {
    "tags": []
   },
   "outputs": [],
   "source": [
    "kfp.compiler.Compiler().compile(hello_pipeline, 'my_pipeline.zip')"
   ]
  },
  {
   "cell_type": "code",
   "execution_count": 3,
   "metadata": {},
   "outputs": [
    {
     "name": "stdout",
     "output_type": "stream",
     "text": [
      "-rw-r--r-- 1 jovyan users 460 Dec  6 15:37 my_pipeline.zip\n"
     ]
    }
   ],
   "source": [
    "! ls -l my_pipeline.zip"
   ]
  },
  {
   "cell_type": "code",
   "execution_count": 5,
   "metadata": {
    "tags": []
   },
   "outputs": [
    {
     "name": "stdout",
     "output_type": "stream",
     "text": [
      "Archive:  my_pipeline.zip\n",
      "  Length      Date    Time    Name\n",
      "---------  ---------- -----   ----\n",
      "      804  1980-01-01 00:00   pipeline.yaml\n",
      "---------                     -------\n",
      "      804                     1 file\n"
     ]
    }
   ],
   "source": [
    "! unzip -l my_pipeline.zip"
   ]
  },
  {
   "cell_type": "code",
   "execution_count": 6,
   "metadata": {},
   "outputs": [
    {
     "name": "stdout",
     "output_type": "stream",
     "text": [
      "\"apiVersion\": |-\n",
      "  argoproj.io/v1alpha1\n",
      "\"kind\": |-\n",
      "  Workflow\n",
      "\"metadata\":\n",
      "  \"annotations\":\n",
      "    \"pipelines.kubeflow.org/pipeline_spec\": |-\n",
      "      {\"description\": \"Hello How do you do\", \"name\": \"my-pipeline_1207-0027\"}\n",
      "  \"generateName\": |-\n",
      "    my-pipeline-1207-0027-\n",
      "\"spec\":\n",
      "  \"arguments\":\n",
      "    \"parameters\": []\n",
      "  \"entrypoint\": |-\n",
      "    my-pipeline-1207-0027\n",
      "  \"serviceAccountName\": |-\n",
      "    pipeline-runner\n",
      "  \"templates\":\n",
      "  - \"container\":\n",
      "      \"image\": |-\n",
      "        kangwoo/kfp-mnist:kfp\n",
      "    \"metadata\":\n",
      "      \"annotations\":\n",
      "        \"pipelines.kubeflow.org/component_spec\": |-\n",
      "          {\"name\": \"Hello component\"}\n",
      "    \"name\": |-\n",
      "      my-containerop\n",
      "  - \"dag\":\n",
      "      \"tasks\":\n",
      "      - \"name\": |-\n",
      "          my-containerop\n",
      "        \"template\": |-\n",
      "          my-containerop\n",
      "    \"name\": |-\n",
      "      my-pipeline-1207-0027\n"
     ]
    }
   ],
   "source": [
    "! unzip -p my_pipeline.zip"
   ]
  },
  {
   "cell_type": "markdown",
   "metadata": {
    "tags": []
   },
   "source": [
    "# Pipeline Experiment"
   ]
  },
  {
   "cell_type": "code",
   "execution_count": 7,
   "metadata": {
    "tags": []
   },
   "outputs": [
    {
     "data": {
      "text/html": [
       "Experiment link <a href=\"/pipeline/#/experiments/details/6bd61813-fb27-4e82-8621-edad74204af2\" target=\"_blank\" >here</a>"
      ],
      "text/plain": [
       "<IPython.core.display.HTML object>"
      ]
     },
     "metadata": {},
     "output_type": "display_data"
    }
   ],
   "source": [
    "client = kfp.Client()\n",
    "\n",
    "my_experiment = client.create_experiment(\n",
    "    name='My first Experiment' # Experiment name\n",
    ")"
   ]
  },
  {
   "cell_type": "markdown",
   "metadata": {
    "tags": []
   },
   "source": [
    "# Pipeline 실행"
   ]
  },
  {
   "cell_type": "code",
   "execution_count": 8,
   "metadata": {},
   "outputs": [
    {
     "data": {
      "text/html": [
       "Run link <a href=\"/pipeline/#/runs/details/40cdc6d0-85c5-4ab8-b933-e60076490e0a\" target=\"_blank\" >here</a>"
      ],
      "text/plain": [
       "<IPython.core.display.HTML object>"
      ]
     },
     "metadata": {},
     "output_type": "display_data"
    }
   ],
   "source": [
    "my_run = client.run_pipeline(\n",
    "    my_experiment.id, \n",
    "    'oh_my_experiment', # Run name\n",
    "    'my_pipeline.zip'\n",
    ")"
   ]
  }
 ],
 "metadata": {
  "kernelspec": {
   "display_name": "Python 3",
   "language": "python",
   "name": "python3"
  },
  "kubeflow_notebook": {
   "docker_image": "reddiana/jupyterlab-kale:0.0.9",
   "experiment": {
    "id": "",
    "name": ""
   },
   "experiment_name": "",
   "katib_metadata": {
    "algorithm": {
     "algorithmName": "grid"
    },
    "maxFailedTrialCount": 3,
    "maxTrialCount": 12,
    "objective": {
     "objectiveMetricName": "",
     "type": "minimize"
    },
    "parallelTrialCount": 3,
    "parameters": []
   },
   "katib_run": false,
   "pipeline_description": "",
   "pipeline_name": "",
   "volumes": []
  },
  "language_info": {
   "codemirror_mode": {
    "name": "ipython",
    "version": 3
   },
   "file_extension": ".py",
   "mimetype": "text/x-python",
   "name": "python",
   "nbconvert_exporter": "python",
   "pygments_lexer": "ipython3",
   "version": "3.6.9"
  }
 },
 "nbformat": 4,
 "nbformat_minor": 4
}
