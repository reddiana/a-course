{
 "cells": [
  {
   "cell_type": "code",
   "execution_count": null,
   "metadata": {},
   "outputs": [],
   "source": [
    "python_code = '''\n",
    "import random\n",
    "result = 'heads' if random.randint(0,1) == 0 else 'tails' \n",
    "print(result)\n",
    "'''"
   ]
  },
  {
   "cell_type": "code",
   "execution_count": null,
   "metadata": {
    "tags": []
   },
   "outputs": [],
   "source": [
    "import kfp\n",
    "from kfp import dsl\n",
    "\n",
    "@dsl.pipeline(name='Volume pipeline', description='A pipeline with volume.')\n",
    "def volume_pipeline():\n",
    "    vop = dsl.VolumeOp(\n",
    "        name=\"my-pipeline-volume\",\n",
    "        resource_name=\"pipeline-pvc\",\n",
    "        modes=dsl.VOLUME_MODE_RWO,\n",
    "        size=\"100Mi\"\n",
    "    )\n",
    "\n",
    "    step1 = dsl.ContainerOp(\n",
    "        name='Flip coin',\n",
    "        image='python:alpine3.6',\n",
    "        command=['sh', '-c'],\n",
    "        arguments=[f'python -c \"{python_code}\" | tee /data/output'],\n",
    "        pvolumes={\"/data\": vop.volume}\n",
    "    )\n",
    "\n",
    "    step2 = dsl.ContainerOp(\n",
    "        name='Print',\n",
    "        image='alpine:3.6',\n",
    "        command=['cat', '/data/output'],\n",
    "        pvolumes={\"/data\": step1.pvolume}\n",
    "    )"
   ]
  },
  {
   "cell_type": "code",
   "execution_count": null,
   "metadata": {},
   "outputs": [],
   "source": [
    "pipelineGzFile = 'hahahoho.zip'\n",
    "\n",
    "kfp.compiler.Compiler().compile(\n",
    "    volume_pipeline, \n",
    "    pipelineGzFile\n",
    ")\n",
    "\n",
    "client = kfp.Client()\n",
    "my_exp = client.create_experiment(\n",
    "    name='Basic Experiment'\n",
    ")\n",
    "my_run = client.run_pipeline(\n",
    "    my_exp.id, \n",
    "    'Volume pipeline',\n",
    "    pipelineGzFile\n",
    ")"
   ]
  }
 ],
 "metadata": {
  "kernelspec": {
   "display_name": "Python 3",
   "language": "python",
   "name": "python3"
  },
  "kubeflow_notebook": {
   "docker_image": "reddiana/jupyterlab-kale:0.0.9",
   "experiment": {
    "id": "",
    "name": ""
   },
   "experiment_name": "",
   "katib_metadata": {
    "algorithm": {
     "algorithmName": "grid"
    },
    "maxFailedTrialCount": 3,
    "maxTrialCount": 12,
    "objective": {
     "objectiveMetricName": "",
     "type": "minimize"
    },
    "parallelTrialCount": 3,
    "parameters": []
   },
   "katib_run": false,
   "pipeline_description": "",
   "pipeline_name": "",
   "volumes": []
  },
  "language_info": {
   "codemirror_mode": {
    "name": "ipython",
    "version": 3
   },
   "file_extension": ".py",
   "mimetype": "text/x-python",
   "name": "python",
   "nbconvert_exporter": "python",
   "pygments_lexer": "ipython3",
   "version": "3.6.9"
  }
 },
 "nbformat": 4,
 "nbformat_minor": 4
}
