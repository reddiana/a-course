{
 "cells": [
  {
   "cell_type": "code",
   "execution_count": 1,
   "metadata": {
    "tags": [
     "imports"
    ]
   },
   "outputs": [],
   "source": [
    "from tensorflow.keras.layers import AveragePooling2D, Dropout, Flatten, Dense, Input, BatchNormalization\n",
    "from tensorflow.keras.models import Model, Sequential\n",
    "from tensorflow.keras.optimizers import Adam\n",
    "from tensorflow.keras.utils import to_categorical\n",
    "from tensorflow.keras import optimizers, models, layers\n",
    "from tensorflow.keras.applications.inception_v3 import InceptionV3\n",
    "from tensorflow.keras.applications import ResNet50V2\n",
    "\n",
    "from tensorflow.keras.preprocessing.image import ImageDataGenerator\n",
    "from sklearn.preprocessing import LabelEncoder, OneHotEncoder\n",
    "from sklearn.model_selection import train_test_split\n",
    "from sklearn.metrics import classification_report, confusion_matrix\n",
    "from imutils import paths\n",
    "import matplotlib.pyplot as plt\n",
    "import numpy as np\n",
    "import cv2\n",
    "import os\n",
    "import io\n",
    "from PIL import Image\n",
    "\n",
    "from minio import Minio\n",
    "from minio.error import ResponseError"
   ]
  },
  {
   "cell_type": "markdown",
   "metadata": {
    "tags": []
   },
   "source": [
    "# Data Preparation"
   ]
  },
  {
   "cell_type": "code",
   "execution_count": 2,
   "metadata": {
    "tags": [
     "block:data_preparation"
    ]
   },
   "outputs": [
    {
     "name": "stdout",
     "output_type": "stream",
     "text": [
      "Loading images...\n"
     ]
    }
   ],
   "source": [
    "print(\"Loading images...\")\n",
    "\n",
    "minioClient = Minio(\n",
    "                'minio-service.kubeflow:9000',\n",
    "                access_key='minio', \n",
    "                secret_key='minio123', \n",
    "                secure=False\n",
    "            )\n",
    "\n",
    "data = []\n",
    "labels = []\n",
    "\n",
    "# read all X-Rays in the specified path, and resize them all to 256x256\n",
    "\n",
    "for i in minioClient.list_objects('dataset', prefix='covid19', recursive=True):\n",
    "    label = i.object_name.split(os.path.sep)[-2]\n",
    "    minioObj = minioClient.get_object('dataset', i.object_name)\n",
    "    byteArray = minioObj.read()\n",
    "    pil_image = Image.open(io.BytesIO(byteArray)).convert('RGB')\n",
    "    image = cv2.cvtColor(np.array(pil_image), cv2.COLOR_RGB2BGR)\n",
    "    image = cv2.resize(image, (256, 256))\n",
    "    data.append(image)\n",
    "    labels.append(label)"
   ]
  },
  {
   "cell_type": "code",
   "execution_count": 3,
   "metadata": {
    "tags": []
   },
   "outputs": [
    {
     "name": "stdout",
     "output_type": "stream",
     "text": [
      "... ...  227 images loaded in 3x classes:\n",
      "['covid' 'normal' 'pneumonia_bac']\n"
     ]
    }
   ],
   "source": [
    "#normalise pixel values to real numbers between 0.0 - 1.0 \n",
    "data = np.array(data) / 255.0\n",
    "labels = np.array(labels)\n",
    "\n",
    "# perform one-hot encoding for a 3-class labeling \n",
    "label_encoder = LabelEncoder()\n",
    "integer_encoded = label_encoder.fit_transform(labels)\n",
    "labels = to_categorical(integer_encoded)\n",
    "\n",
    "print(\"... ... \", len(data), \"images loaded in 3x classes:\")\n",
    "print(label_encoder.classes_)"
   ]
  },
  {
   "cell_type": "code",
   "execution_count": 4,
   "metadata": {
    "tags": []
   },
   "outputs": [],
   "source": [
    "(x_train, x_val, y_train, y_val) = train_test_split(data, labels, test_size=0.20, stratify=labels)"
   ]
  },
  {
   "cell_type": "markdown",
   "metadata": {
    "tags": []
   },
   "source": [
    "# Model 구성"
   ]
  },
  {
   "cell_type": "code",
   "execution_count": 5,
   "metadata": {
    "tags": [
     "pipeline-parameters"
    ]
   },
   "outputs": [],
   "source": [
    "# Hyperparameters \n",
    "LEARNING_RATE = 0.00001 # List: 0.001, 0.0001, 0.0003, 0.00001, 0.00003\n",
    "DENSE = 128             # Range: 50-200"
   ]
  },
  {
   "cell_type": "code",
   "execution_count": 6,
   "metadata": {
    "tags": [
     "block:model_train",
     "prev:data_preparation"
    ]
   },
   "outputs": [
    {
     "name": "stdout",
     "output_type": "stream",
     "text": [
      "Model: \"sequential\"\n",
      "_________________________________________________________________\n",
      "Layer (type)                 Output Shape              Param #   \n",
      "=================================================================\n",
      "resnet50v2 (Model)           (None, 8, 8, 2048)        23564800  \n",
      "_________________________________________________________________\n",
      "batch_normalization (BatchNo (None, 8, 8, 2048)        8192      \n",
      "_________________________________________________________________\n",
      "flatten (Flatten)            (None, 131072)            0         \n",
      "_________________________________________________________________\n",
      "dense (Dense)                (None, 128)               16777344  \n",
      "_________________________________________________________________\n",
      "dense_1 (Dense)              (None, 128)               16512     \n",
      "_________________________________________________________________\n",
      "dense_2 (Dense)              (None, 3)                 387       \n",
      "=================================================================\n",
      "Total params: 40,367,235\n",
      "Trainable params: 16,798,339\n",
      "Non-trainable params: 23,568,896\n",
      "_________________________________________________________________\n"
     ]
    }
   ],
   "source": [
    "model = Sequential()\n",
    "adam_s = Adam(learning_rate = LEARNING_RATE)\n",
    "\n",
    "#model.add(VGG16(input_shape=(224, 224, 3), include_top=False, weights='imagenet', pooling='average'))\n",
    "model.add(ResNet50V2(input_shape=(256, 256, 3),include_top=False, weights='imagenet',pooling='average'))\n",
    "\n",
    "for layer in model.layers:\n",
    "    layer.trainable = False\n",
    "\n",
    "model.add(BatchNormalization())\n",
    "model.add(Flatten())\n",
    "model.add(Dense(DENSE, activation='relu'))\n",
    "model.add(Dense(DENSE, activation='relu'))\n",
    "model.add(Dense(3, activation='softmax'))\n",
    "model.compile(loss='categorical_crossentropy', optimizer=adam_s, metrics=['accuracy'])\n",
    "\n",
    "model.summary()"
   ]
  },
  {
   "cell_type": "markdown",
   "metadata": {
    "tags": []
   },
   "source": [
    "# Model 학습"
   ]
  },
  {
   "cell_type": "code",
   "execution_count": 11,
   "metadata": {
    "tags": []
   },
   "outputs": [
    {
     "name": "stdout",
     "output_type": "stream",
     "text": [
      "Training the full stack model...\n",
      "Train on 181 samples, validate on 46 samples\n",
      "Epoch 1/10\n",
      "181/181 [==============================] - 23s 128ms/sample - loss: 1.0248 - accuracy: 0.4751 - val_loss: 1.9487 - val_accuracy: 0.4348\n",
      "Epoch 2/10\n",
      "181/181 [==============================] - 19s 105ms/sample - loss: 0.3877 - accuracy: 0.8895 - val_loss: 1.5528 - val_accuracy: 0.5000\n",
      "Epoch 3/10\n",
      "181/181 [==============================] - 20s 109ms/sample - loss: 0.1608 - accuracy: 0.9724 - val_loss: 1.2948 - val_accuracy: 0.5217\n",
      "Epoch 4/10\n",
      "181/181 [==============================] - 19s 107ms/sample - loss: 0.0910 - accuracy: 0.9890 - val_loss: 1.1184 - val_accuracy: 0.5435\n",
      "Epoch 5/10\n",
      "181/181 [==============================] - 22s 122ms/sample - loss: 0.0453 - accuracy: 1.0000 - val_loss: 1.0066 - val_accuracy: 0.5652\n",
      "Epoch 6/10\n",
      "181/181 [==============================] - 23s 128ms/sample - loss: 0.0450 - accuracy: 0.9945 - val_loss: 0.9218 - val_accuracy: 0.5652\n",
      "Epoch 7/10\n",
      "181/181 [==============================] - 23s 125ms/sample - loss: 0.0273 - accuracy: 1.0000 - val_loss: 0.8499 - val_accuracy: 0.6304\n",
      "Epoch 8/10\n",
      "181/181 [==============================] - 25s 138ms/sample - loss: 0.0196 - accuracy: 1.0000 - val_loss: 0.8282 - val_accuracy: 0.6522\n",
      "Epoch 9/10\n",
      "181/181 [==============================] - 22s 121ms/sample - loss: 0.0142 - accuracy: 1.0000 - val_loss: 0.7640 - val_accuracy: 0.6522\n",
      "Epoch 10/10\n",
      "181/181 [==============================] - 23s 127ms/sample - loss: 0.0144 - accuracy: 1.0000 - val_loss: 0.7615 - val_accuracy: 0.6304\n"
     ]
    }
   ],
   "source": [
    "# train the head of the network\n",
    "print(\"Training the full stack model...\")\n",
    "hist = model.fit(x_train, y_train, epochs=10, validation_data=(x_val, y_val), batch_size=8)"
   ]
  },
  {
   "cell_type": "code",
   "execution_count": 12,
   "metadata": {
    "tags": []
   },
   "outputs": [],
   "source": [
    "loss        = hist.history['loss']\n",
    "accuracy    = hist.history['accuracy']\n",
    "valloss     = hist.history['val_loss']\n",
    "valaccuracy = hist.history['val_accuracy']"
   ]
  },
  {
   "cell_type": "markdown",
   "metadata": {
    "tags": []
   },
   "source": [
    "# Model 저장"
   ]
  },
  {
   "cell_type": "code",
   "execution_count": null,
   "metadata": {
    "tags": [
     "skip"
    ]
   },
   "outputs": [],
   "source": [
    "os.environ.update({\n",
    "    'S3_ENDPOINT'          : 'minio-service.kubeflow:9000',\n",
    "    'AWS_ACCESS_KEY_ID'    : 'minio',\n",
    "    'AWS_SECRET_ACCESS_KEY': 'minio123',\n",
    "    'S3_USE_HTTPS'         : '0',   # Whether or not to use HTTPS. Disable with 0.                        \n",
    "    'S3_VERIFY_SSL'        : '0'    # If HTTPS is used, controls if SSL should be enabled. Disable with 0.\n",
    "})  \n",
    "\n",
    "model.save(\"s3://model/covid-19/1\")"
   ]
  },
  {
   "cell_type": "code",
   "execution_count": null,
   "metadata": {
    "tags": [
     "pipeline-metrics"
    ]
   },
   "outputs": [],
   "source": [
    "print(loss)\n",
    "print(accuracy)\n",
    "print(valloss)\n",
    "print(valaccuracy)"
   ]
  }
 ],
 "metadata": {
  "kernelspec": {
   "display_name": "Python 3",
   "language": "python",
   "name": "python3"
  },
  "kubeflow_notebook": {
   "autosnapshot": false,
   "docker_image": "reddiana/jupyterlab-kale:0.0.9",
   "experiment": {
    "id": "new",
    "name": "my-e-01"
   },
   "experiment_name": "my-e-01",
   "katib_metadata": {
    "algorithm": {
     "algorithmName": "random",
     "algorithmSettings": [
      {
       "name": "random_state",
       "value": "42"
      }
     ]
    },
    "maxFailedTrialCount": 3,
    "maxTrialCount": 3,
    "objective": {
     "additionalMetricNames": [
      "loss",
      "valloss",
      "valaccuracy"
     ],
     "goal": 99,
     "objectiveMetricName": "accuracy",
     "type": "minimize"
    },
    "parallelTrialCount": 1,
    "parameters": [
     {
      "feasibleSpace": {
       "list": [
        "0.001",
        "0.0001",
        "0.0003",
        "0.00001",
        "0.00003"
       ]
      },
      "name": "LEARNING_RATE",
      "parameterType": "categorical"
     },
     {
      "feasibleSpace": {
       "max": "200",
       "min": "50",
       "step": "10"
      },
      "name": "DENSE",
      "parameterType": "int"
     }
    ]
   },
   "katib_run": true,
   "pipeline_description": "haha",
   "pipeline_name": "my-p-01",
   "snapshot_volumes": false,
   "steps_defaults": [],
   "volumes": []
  },
  "language_info": {
   "codemirror_mode": {
    "name": "ipython",
    "version": 3
   },
   "file_extension": ".py",
   "mimetype": "text/x-python",
   "name": "python",
   "nbconvert_exporter": "python",
   "pygments_lexer": "ipython3",
   "version": "3.6.9"
  }
 },
 "nbformat": 4,
 "nbformat_minor": 4
}
