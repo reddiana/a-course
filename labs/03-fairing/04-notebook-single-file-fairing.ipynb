{
 "cells": [
  {
   "cell_type": "code",
   "execution_count": 1,
   "metadata": {
    "tags": []
   },
   "outputs": [],
   "source": [
    "import tensorflow as tf\n",
    "import os\n",
    "\n",
    "class MyFashionMnist(object):\n",
    "  def train(self):\n",
    "    mnist = tf.keras.datasets.mnist\n",
    "\n",
    "    (x_train, y_train), (x_test, y_test) = mnist.load_data()\n",
    "    x_train, x_test = x_train / 255.0, x_test / 255.0\n",
    "\n",
    "    model = tf.keras.models.Sequential([\n",
    "        tf.keras.layers.Flatten(input_shape=(28, 28)),\n",
    "        tf.keras.layers.Dense(128, activation='relu'),\n",
    "        tf.keras.layers.Dropout(0.2),\n",
    "        tf.keras.layers.Dense(10, activation='softmax')\n",
    "    ])\n",
    "\n",
    "    model.compile(\n",
    "        optimizer='adam',\n",
    "        loss='sparse_categorical_crossentropy',\n",
    "        metrics=['accuracy']\n",
    "    )\n",
    "    \n",
    "    model.summary()\n",
    "\n",
    "    print(\"Training...\")\n",
    "    \n",
    "    model.fit(\n",
    "        x_train, y_train, \n",
    "        epochs=3, \n",
    "        validation_split=0.2 \n",
    "    ) \n",
    "    \n",
    "    score = model.evaluate(x_test, y_test, batch_size=128, verbose=0)\n",
    "    print('Test accuracy: ', score[1])"
   ]
  },
  {
   "cell_type": "code",
   "execution_count": 6,
   "metadata": {},
   "outputs": [
    {
     "name": "stderr",
     "output_type": "stream",
     "text": [
      "[I 201205 20:59:32 config:134] Using preprocessor: <kubeflow.fairing.preprocessors.converted_notebook.ConvertNotebookPreprocessor object at 0x7fca55cf8898>\n",
      "[I 201205 20:59:32 config:136] Using builder: <kubeflow.fairing.builders.append.append.AppendBuilder object at 0x7fca56788978>\n",
      "[I 201205 20:59:32 config:138] Using deployer: <kubeflow.fairing.deployers.job.job.Job object at 0x7fca55cf8ac8>\n",
      "[W 201205 20:59:32 append:50] Building image using Append builder...\n",
      "[I 201205 20:59:32 base:107] Creating docker context: /tmp/fairing_context_aay3x32f\n",
      "[I 201205 20:59:32 converted_notebook:127] Converting 04-notebook-single-file-fairing.ipynb to 04-notebook-single-file-fairing.py\n",
      "[I 201205 20:59:32 docker_creds_:234] Loading Docker credentials for repository 'kubeflow-registry.default.svc.cluster.local:30000/kf-base:latest'\n",
      "[W 201205 20:59:32 append:54] Image successfully built in 0.09551009499409702s.\n",
      "[W 201205 20:59:32 append:94] Pushing image kubeflow-registry.default.svc.cluster.local:30000/tensorboard-job:DC7C98B9...\n",
      "[I 201205 20:59:32 docker_creds_:234] Loading Docker credentials for repository 'kubeflow-registry.default.svc.cluster.local:30000/tensorboard-job:DC7C98B9'\n",
      "[W 201205 20:59:32 append:81] Uploading kubeflow-registry.default.svc.cluster.local:30000/tensorboard-job:DC7C98B9\n",
      "[I 201205 20:59:32 docker_session_:280] Layer sha256:3cf8fb62ba5ffb221a2edb2208741346eb4d2d99a174138e4afbb69ce1fd9966 exists, skipping\n",
      "[I 201205 20:59:32 docker_session_:280] Layer sha256:f22ccc0b8772d8e1bcb40f137b373686bc27427a70c0e41dd22b38016e09e7e0 exists, skipping\n",
      "[I 201205 20:59:32 docker_session_:280] Layer sha256:9d18c532b9d3fd95504fa5a2059adbdbf02fbc92d771f025213fb82666c9cdfa exists, skipping\n",
      "[I 201205 20:59:32 docker_session_:280] Layer sha256:e80c964ece6a3edf0db1cfc72ae0e6f0699fb776bbfcc92b708fbb945b0b9547 exists, skipping\n",
      "[I 201205 20:59:32 docker_session_:280] Layer sha256:2a978df167d497637064cfdf8bd33ad6c84b4611a08090ba370bb73f1adb892e exists, skipping\n",
      "[I 201205 20:59:32 docker_session_:284] Layer sha256:a4b3822b0da1b618f4d22467755c51d23985d9d4d2619a501718207749e5eb37 pushed.\n",
      "[I 201205 20:59:32 docker_session_:284] Layer sha256:899a8b25f13864c9900c861d01010effe6d3f326f9f8e69a4cdb2a10ad02b4c7 pushed.\n",
      "[I 201205 20:59:32 docker_session_:334] Finished upload of: kubeflow-registry.default.svc.cluster.local:30000/tensorboard-job:DC7C98B9\n",
      "[W 201205 20:59:32 append:99] Pushed image kubeflow-registry.default.svc.cluster.local:30000/tensorboard-job:DC7C98B9 in 0.09738644200842828s.\n",
      "[W 201205 20:59:32 job:101] The job fairing-job-5zwcj launched.\n",
      "[W 201205 20:59:32 manager:298] Waiting for fairing-job-5zwcj-nm5cr to start...\n",
      "[W 201205 20:59:32 manager:298] Waiting for fairing-job-5zwcj-nm5cr to start...\n",
      "[W 201205 20:59:32 manager:298] Waiting for fairing-job-5zwcj-nm5cr to start...\n",
      "[E 201205 20:59:34 manager:318] Failed to launch fairing-job-5zwcj-nm5cr, reason: ContainerCannotRun, message: OCI runtime create failed: container_linux.go:349: starting container process caused \"exec: \\\"python\\\": executable file not found in $PATH\": unknown\n",
      "[W 201205 20:59:34 job:173] Cleaning up job fairing-job-5zwcj...\n"
     ]
    }
   ],
   "source": [
    "if __name__ == '__main__':\n",
    "    if os.getenv('FAIRING_RUNTIME', None) is None:\n",
    "        from kubeflow import fairing\n",
    "        from kubeflow.fairing.kubernetes import utils as k8s_utils\n",
    "        \n",
    "        PRIVATE_REGISTRY = 'kubeflow-registry.default.svc.cluster.local:30000'\n",
    "        \n",
    "#         fairing.config.set_preprocessor(\n",
    "#             'notebook', \n",
    "#             command = ['haha'],  # default: python\n",
    "#         )\n",
    "        \n",
    "        fairing.config.set_builder(\n",
    "            'append',\n",
    "            base_image=f'{PRIVATE_REGISTRY}/kf-base:latest', # 사전준비에서 마련한 Base Image\n",
    "            registry = PRIVATE_REGISTRY,\n",
    "            image_name='tensorboard-job', \n",
    "            push=True\n",
    "        )\n",
    "        \n",
    "        fairing.config.set_deployer(\n",
    "            'job',\n",
    "            namespace='myspace',\n",
    "            pod_spec_mutators=[\n",
    "                k8s_utils.get_resource_mutator(cpu=1, memory=5)]\n",
    "        )\n",
    "        \n",
    "        fairing.config.run()\n",
    "    else:\n",
    "        remote_train = MyFashionMnist()\n",
    "        remote_train.train()"
   ]
  },
  {
   "cell_type": "code",
   "execution_count": null,
   "metadata": {},
   "outputs": [],
   "source": []
  }
 ],
 "metadata": {
  "kernelspec": {
   "display_name": "Python 3",
   "language": "python",
   "name": "python3"
  },
  "kubeflow_notebook": {
   "docker_image": "reddiana/jupyterlab-kale:0.0.9",
   "experiment": {
    "id": "",
    "name": ""
   },
   "experiment_name": "",
   "katib_metadata": {
    "algorithm": {
     "algorithmName": "grid"
    },
    "maxFailedTrialCount": 3,
    "maxTrialCount": 12,
    "objective": {
     "objectiveMetricName": "",
     "type": "minimize"
    },
    "parallelTrialCount": 3,
    "parameters": []
   },
   "katib_run": false,
   "pipeline_description": "",
   "pipeline_name": "",
   "volumes": []
  },
  "language_info": {
   "codemirror_mode": {
    "name": "ipython",
    "version": 3
   },
   "file_extension": ".py",
   "mimetype": "text/x-python",
   "name": "python",
   "nbconvert_exporter": "python",
   "pygments_lexer": "ipython3",
   "version": "3.6.9"
  }
 },
 "nbformat": 4,
 "nbformat_minor": 4
}
