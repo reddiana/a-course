{
 "cells": [
  {
   "cell_type": "markdown",
   "metadata": {
    "tags": []
   },
   "source": [
    "# fairing.config.fn 예제"
   ]
  },
  {
   "cell_type": "code",
   "execution_count": 1,
   "metadata": {
    "tags": []
   },
   "outputs": [],
   "source": [
    "import tensorflow as tf\n",
    "\n",
    "def train():\n",
    "    mnist = tf.keras.datasets.mnist\n",
    "\n",
    "    (x_train, y_train), (x_test, y_test) = mnist.load_data()\n",
    "    x_train, x_test = x_train / 255.0, x_test / 255.0\n",
    "\n",
    "    model = tf.keras.models.Sequential([\n",
    "        tf.keras.layers.Flatten(input_shape=(28, 28)),\n",
    "        tf.keras.layers.Dense(128, activation='relu'),\n",
    "        tf.keras.layers.Dropout(0.2),\n",
    "        tf.keras.layers.Dense(10, activation='softmax')\n",
    "    ])\n",
    "\n",
    "    model.compile(\n",
    "        optimizer='adam',\n",
    "        loss='sparse_categorical_crossentropy',\n",
    "        metrics=['accuracy']\n",
    "    )\n",
    "\n",
    "    model.summary()\n",
    "\n",
    "    print(\"Training...\")\n",
    "\n",
    "    model.fit(\n",
    "        x_train, y_train, \n",
    "        epochs=3, \n",
    "        validation_split=0.2 \n",
    "    ) \n",
    "\n",
    "    score = model.evaluate(x_test, y_test, batch_size=128, verbose=0)\n",
    "    print('Test accuracy: ', score[1])"
   ]
  },
  {
   "cell_type": "code",
   "execution_count": 2,
   "metadata": {},
   "outputs": [
    {
     "name": "stdout",
     "output_type": "stream",
     "text": [
      "Downloading data from https://storage.googleapis.com/tensorflow/tf-keras-datasets/mnist.npz\n",
      "11493376/11490434 [==============================] - 0s 0us/step\n",
      "Model: \"sequential\"\n",
      "_________________________________________________________________\n",
      "Layer (type)                 Output Shape              Param #   \n",
      "=================================================================\n",
      "flatten (Flatten)            (None, 784)               0         \n",
      "_________________________________________________________________\n",
      "dense (Dense)                (None, 128)               100480    \n",
      "_________________________________________________________________\n",
      "dropout (Dropout)            (None, 128)               0         \n",
      "_________________________________________________________________\n",
      "dense_1 (Dense)              (None, 10)                1290      \n",
      "=================================================================\n",
      "Total params: 101,770\n",
      "Trainable params: 101,770\n",
      "Non-trainable params: 0\n",
      "_________________________________________________________________\n",
      "Training...\n",
      "Train on 48000 samples, validate on 12000 samples\n",
      "Epoch 1/3\n",
      "48000/48000 [==============================] - 6s 135us/sample - loss: 0.3202 - accuracy: 0.9081 - val_loss: 0.1562 - val_accuracy: 0.9555\n",
      "Epoch 2/3\n",
      "48000/48000 [==============================] - 6s 121us/sample - loss: 0.1549 - accuracy: 0.9550 - val_loss: 0.1205 - val_accuracy: 0.9644\n",
      "Epoch 3/3\n",
      "48000/48000 [==============================] - 6s 123us/sample - loss: 0.1131 - accuracy: 0.9657 - val_loss: 0.0982 - val_accuracy: 0.9724\n",
      "Test accuracy:  0.9715\n"
     ]
    }
   ],
   "source": [
    "# Local training\n",
    "train()"
   ]
  },
  {
   "cell_type": "code",
   "execution_count": 3,
   "metadata": {
    "tags": []
   },
   "outputs": [
    {
     "name": "stderr",
     "output_type": "stream",
     "text": [
      "[I 201205 19:29:24 config:134] Using preprocessor: <kubeflow.fairing.preprocessors.function.FunctionPreProcessor object at 0x7f55b6f6c710>\n",
      "[I 201205 19:29:24 config:136] Using builder: <kubeflow.fairing.builders.append.append.AppendBuilder object at 0x7f55b448f710>\n",
      "[I 201205 19:29:24 config:138] Using deployer: <kubeflow.fairing.deployers.job.job.Job object at 0x7f55b6f6c908>\n",
      "[W 201205 19:29:24 append:50] Building image using Append builder...\n",
      "[I 201205 19:29:24 base:107] Creating docker context: /tmp/fairing_context_w9b5qcrf\n",
      "[W 201205 19:29:24 base:94] /usr/local/lib/python3.6/dist-packages/kubeflow/fairing/__init__.py already exists in Fairing context, skipping...\n",
      "[I 201205 19:29:24 docker_creds_:234] Loading Docker credentials for repository 'tensorflow/tensorflow:latest-py3'\n",
      "[W 201205 19:29:27 append:54] Image successfully built in 2.372721273000934s.\n",
      "[W 201205 19:29:27 append:94] Pushing image kubeflow-registry.default.svc.cluster.local:30000/fairing-job:223E3522...\n",
      "[I 201205 19:29:27 docker_creds_:234] Loading Docker credentials for repository 'kubeflow-registry.default.svc.cluster.local:30000/fairing-job:223E3522'\n",
      "[W 201205 19:29:27 append:81] Uploading kubeflow-registry.default.svc.cluster.local:30000/fairing-job:223E3522\n",
      "[I 201205 19:29:27 docker_session_:280] Layer sha256:edc69fe5c6be6938f490e5f91cdb6369799b4a509fd72c292e0cd6fdb3c345b3 exists, skipping\n",
      "[I 201205 19:29:27 docker_session_:280] Layer sha256:e52cad4ccd832fc331516c5a5632fdd08c37d711ff243c7e04d6e8c374b9c474 exists, skipping\n",
      "[I 201205 19:29:27 docker_session_:280] Layer sha256:dccb0709d7fb37e513a933c3848be077f0e514e41a084bd9f3f27dcde169ae20 exists, skipping\n",
      "[I 201205 19:29:27 docker_session_:280] Layer sha256:4c1d20cdee96111c8acf1858b62655a37ce81ae48648993542b7ac363ac5c0e5 exists, skipping\n",
      "[I 201205 19:29:27 docker_session_:280] Layer sha256:c8e37668deea784f47c8726d934adc12b8d20a2b1c50b0b0c18cb62771cd3684 exists, skipping\n",
      "[I 201205 19:29:27 docker_session_:280] Layer sha256:75c61371a2e390c1d05234b28163580c90c2e26c6d245984a4da73f9f022c102 exists, skipping\n",
      "[I 201205 19:29:27 docker_session_:280] Layer sha256:107f0b841886b4e032a6ced874db81b71dcdc5e6827b6c0d195defe4c6e661da exists, skipping\n",
      "[I 201205 19:29:27 docker_session_:280] Layer sha256:e97116da5f9876a95d0d3f0fd1e3bcc48721f9ac6351ce23aaa3d261b4f9b0d6 exists, skipping\n",
      "[I 201205 19:29:27 docker_session_:280] Layer sha256:8592f093fc78e0d933851ed625592627241c475dd46adad77f37dec9cc867446 exists, skipping\n",
      "[I 201205 19:29:27 docker_session_:280] Layer sha256:2746a4a261c9e18bfd7ff0429c18fd7522acc14fa4c7ec8ab37ba5ebaadbc584 exists, skipping\n",
      "[I 201205 19:29:27 docker_session_:280] Layer sha256:0d3160e1d0de4061b5b32ee09af687b898921d36ed9556df5910ddc3104449cd exists, skipping\n",
      "[I 201205 19:29:27 docker_session_:284] Layer sha256:9b3a4572b76a3cf4ea432d98d2c3d2969802a44e3cb54a8627625cd3b394fa71 pushed.\n",
      "[I 201205 19:29:27 docker_session_:284] Layer sha256:8df2eab9826a65273890607633edd7a1f6136c3d47675e9780cc7432ba11bd1b pushed.\n",
      "[I 201205 19:29:27 docker_session_:334] Finished upload of: kubeflow-registry.default.svc.cluster.local:30000/fairing-job:223E3522\n",
      "[W 201205 19:29:27 append:99] Pushed image kubeflow-registry.default.svc.cluster.local:30000/fairing-job:223E3522 in 0.26839071200811304s.\n",
      "[W 201205 19:29:27 job:101] The job fairing-job-46fdb launched.\n",
      "[W 201205 19:29:27 manager:298] Waiting for fairing-job-46fdb-6nzk7 to start...\n",
      "[W 201205 19:29:27 manager:298] Waiting for fairing-job-46fdb-6nzk7 to start...\n",
      "[W 201205 19:29:27 manager:298] Waiting for fairing-job-46fdb-6nzk7 to start...\n",
      "[I 201205 19:29:30 manager:304] Pod started running True\n"
     ]
    },
    {
     "name": "stdout",
     "output_type": "stream",
     "text": [
      "hello world!\n",
      "Bye!\n"
     ]
    },
    {
     "name": "stderr",
     "output_type": "stream",
     "text": [
      "[W 201205 19:29:40 job:173] Cleaning up job fairing-job-46fdb...\n"
     ]
    }
   ],
   "source": [
    "import os\n",
    "from kubeflow import fairing\n",
    "\n",
    "fairing.config.set_builder(\n",
    "    'append',\n",
    "    base_image = 'tensorflow/tensorflow:latest-py3', \n",
    "    registry   = 'kubeflow-registry.default.svc.cluster.local:30000', \n",
    "    push=True\n",
    ")\n",
    "\n",
    "fairing.config.set_deployer('job')\n",
    "\n",
    "remote_train = fairing.config.fn(train)\n",
    "remote_train()"
   ]
  },
  {
   "cell_type": "markdown",
   "metadata": {
    "tags": []
   },
   "source": [
    "### curl로 프라이빗 레지스트리 확인"
   ]
  },
  {
   "cell_type": "code",
   "execution_count": 4,
   "metadata": {
    "tags": []
   },
   "outputs": [
    {
     "name": "stdout",
     "output_type": "stream",
     "text": [
      "{\"repositories\":[\"covid19-katib-job\",\"fairing-job\",\"katib-base\",\"katib-job\",\"kf-base\",\"tensorboard-job\"]}\n"
     ]
    }
   ],
   "source": [
    "! curl http://kubeflow-registry.default.svc.cluster.local:30000/v2/_catalog"
   ]
  },
  {
   "cell_type": "code",
   "execution_count": 5,
   "metadata": {
    "tags": []
   },
   "outputs": [
    {
     "name": "stdout",
     "output_type": "stream",
     "text": [
      "{\"name\":\"fairing-job\",\"tags\":[\"3DA1A245\",\"18DF7E85\",\"223E3522\",\"141D2F60\",\"8E296311\",\"66787D3\",\"3052981C\"]}\n"
     ]
    }
   ],
   "source": [
    "! curl http://kubeflow-registry.default.svc.cluster.local:30000/v2/fairing-job/tags/list"
   ]
  }
 ],
 "metadata": {
  "kernelspec": {
   "display_name": "Python 3",
   "language": "python",
   "name": "python3"
  },
  "kubeflow_notebook": {
   "docker_image": "reddiana/jupyterlab-kale:0.0.9",
   "experiment": {
    "id": "",
    "name": ""
   },
   "experiment_name": "",
   "katib_metadata": {
    "algorithm": {
     "algorithmName": "grid"
    },
    "maxFailedTrialCount": 3,
    "maxTrialCount": 12,
    "objective": {
     "objectiveMetricName": "",
     "type": "minimize"
    },
    "parallelTrialCount": 3,
    "parameters": []
   },
   "katib_run": false,
   "pipeline_description": "",
   "pipeline_name": "",
   "volumes": []
  },
  "language_info": {
   "codemirror_mode": {
    "name": "ipython",
    "version": 3
   },
   "file_extension": ".py",
   "mimetype": "text/x-python",
   "name": "python",
   "nbconvert_exporter": "python",
   "pygments_lexer": "ipython3",
   "version": "3.6.9"
  }
 },
 "nbformat": 4,
 "nbformat_minor": 4
}
