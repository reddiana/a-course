{
 "cells": [
  {
   "cell_type": "code",
   "execution_count": 1,
   "metadata": {
    "tags": []
   },
   "outputs": [
    {
     "name": "stderr",
     "output_type": "stream",
     "text": [
      "[W 201206 01:02:20 append:50] Building image using Append builder...\n",
      "[I 201206 01:02:20 base:107] Creating docker context: /tmp/fairing_context_o5n5gs9a\n",
      "[I 201206 01:02:20 docker_creds_:234] Loading Docker credentials for repository 'kubeflow-registry.default.svc.cluster.local:30000/kf-base:latest'\n",
      "[W 201206 01:02:20 append:54] Image successfully built in 0.03327565098879859s.\n",
      "[W 201206 01:02:20 append:94] Pushing image kubeflow-registry.default.svc.cluster.local:30000/my-06-build-only-fairing:CFA1B647...\n",
      "[I 201206 01:02:20 docker_creds_:234] Loading Docker credentials for repository 'kubeflow-registry.default.svc.cluster.local:30000/my-06-build-only-fairing:CFA1B647'\n",
      "[W 201206 01:02:20 append:81] Uploading kubeflow-registry.default.svc.cluster.local:30000/my-06-build-only-fairing:CFA1B647\n",
      "[I 201206 01:02:20 docker_session_:280] Layer sha256:107f0b841886b4e032a6ced874db81b71dcdc5e6827b6c0d195defe4c6e661da exists, skipping\n",
      "[I 201206 01:02:20 docker_session_:280] Layer sha256:2746a4a261c9e18bfd7ff0429c18fd7522acc14fa4c7ec8ab37ba5ebaadbc584 exists, skipping\n",
      "[I 201206 01:02:20 docker_session_:280] Layer sha256:dccb0709d7fb37e513a933c3848be077f0e514e41a084bd9f3f27dcde169ae20 exists, skipping\n",
      "[I 201206 01:02:20 docker_session_:280] Layer sha256:e52cad4ccd832fc331516c5a5632fdd08c37d711ff243c7e04d6e8c374b9c474 exists, skipping\n",
      "[I 201206 01:02:20 docker_session_:280] Layer sha256:4c1d20cdee96111c8acf1858b62655a37ce81ae48648993542b7ac363ac5c0e5 exists, skipping\n",
      "[I 201206 01:02:20 docker_session_:280] Layer sha256:05d2843a4e8163fbd01d732be8e286475b52b76d9d68510510fa7204cecac2da exists, skipping\n",
      "[I 201206 01:02:20 docker_session_:280] Layer sha256:0d3160e1d0de4061b5b32ee09af687b898921d36ed9556df5910ddc3104449cd exists, skipping\n",
      "[I 201206 01:02:20 docker_session_:280] Layer sha256:d9a52b85555ed6ba2ba18dcca845679698c740690baca485ab19915a3cdb9dc8 exists, skipping\n",
      "[I 201206 01:02:20 docker_session_:280] Layer sha256:8592f093fc78e0d933851ed625592627241c475dd46adad77f37dec9cc867446 exists, skipping\n",
      "[I 201206 01:02:20 docker_session_:280] Layer sha256:edc69fe5c6be6938f490e5f91cdb6369799b4a509fd72c292e0cd6fdb3c345b3 exists, skipping\n",
      "[I 201206 01:02:20 docker_session_:280] Layer sha256:688ae954070df73ce918d07edb7eea7884f407c97137b9b94f16c37a3695d6d1 exists, skipping\n",
      "[I 201206 01:02:20 docker_session_:280] Layer sha256:c8e37668deea784f47c8726d934adc12b8d20a2b1c50b0b0c18cb62771cd3684 exists, skipping\n",
      "[I 201206 01:02:20 docker_session_:280] Layer sha256:e97116da5f9876a95d0d3f0fd1e3bcc48721f9ac6351ce23aaa3d261b4f9b0d6 exists, skipping\n",
      "[I 201206 01:02:20 docker_session_:280] Layer sha256:75c61371a2e390c1d05234b28163580c90c2e26c6d245984a4da73f9f022c102 exists, skipping\n",
      "[I 201206 01:02:20 docker_session_:284] Layer sha256:5c9581801aa42825f81a8ff5f4304f563e7c5e271525607ef0b1fa7c271e6919 pushed.\n",
      "[I 201206 01:02:20 docker_session_:334] Finished upload of: kubeflow-registry.default.svc.cluster.local:30000/my-06-build-only-fairing:CFA1B647\n",
      "[W 201206 01:02:20 append:99] Pushed image kubeflow-registry.default.svc.cluster.local:30000/my-06-build-only-fairing:CFA1B647 in 0.1278270360053284s.\n"
     ]
    },
    {
     "name": "stdout",
     "output_type": "stream",
     "text": [
      "Published Docker image with tag: \"kubeflow-registry.default.svc.cluster.local:30000/my-06-build-only-fairing:CFA1B647\"\n"
     ]
    }
   ],
   "source": [
    "from kubeflow.fairing.preprocessors.base import BasePreProcessor \n",
    "from kubeflow.fairing.builders.append.append import AppendBuilder\n",
    "\n",
    "PRIVATE_REGISTRY = 'kubeflow-registry.default.svc.cluster.local:30000'\n",
    "\n",
    "preproc = BasePreProcessor(\n",
    "    input_files = ['00-python-file-to-fairing.py'], \n",
    "    #path_prefix = '/myapp', # default: /app\n",
    "    command = ['python3'],  # default: python\n",
    ")    \n",
    "\n",
    "builder = AppendBuilder(\n",
    "    preprocessor = preproc,\n",
    "    base_image = f'{PRIVATE_REGISTRY}/kf-base:latest', # 사전준비에서 마련한 Base Image\n",
    "    image_name = 'my-06-build-only-fairing',\n",
    "    registry = PRIVATE_REGISTRY,\n",
    "    push = True,\n",
    ")\n",
    "\n",
    "builder.build()\n",
    "\n",
    "print(f'Published Docker image with tag: \"{builder.image_tag}\"')"
   ]
  },
  {
   "cell_type": "markdown",
   "metadata": {
    "tags": []
   },
   "source": [
    "### curl로 프라이빗 레지스트리 확인"
   ]
  },
  {
   "cell_type": "code",
   "execution_count": 2,
   "metadata": {
    "tags": []
   },
   "outputs": [
    {
     "name": "stdout",
     "output_type": "stream",
     "text": [
      "{\"repositories\":[\"02-python-file-fairing\",\"covid19-katib-job\",\"fairing-job\",\"katib-base\",\"katib-job\",\"kf-base\",\"my-02-faring-job\",\"my-02-python-file-fairing\",\"my-03-notebook-fairing-job\",\"my-04-notebook-single-file-fairing-job\",\"my-06-build-only-fairing\",\"my-fairing-job\",\"my-notebook-fairing-job\",\"tensorboard-job\"]}\n"
     ]
    }
   ],
   "source": [
    "! curl http://kubeflow-registry.default.svc.cluster.local:30000/v2/_catalog"
   ]
  },
  {
   "cell_type": "code",
   "execution_count": 3,
   "metadata": {
    "tags": []
   },
   "outputs": [
    {
     "name": "stdout",
     "output_type": "stream",
     "text": [
      "{\"name\":\"my-fairing-job\",\"tags\":[\"2F0D2724\",\"6642A097\",\"1D2AF2BA\",\"D60E1262\"]}\n"
     ]
    }
   ],
   "source": [
    "! curl http://kubeflow-registry.default.svc.cluster.local:30000/v2/my-fairing-job/tags/list"
   ]
  },
  {
   "cell_type": "markdown",
   "metadata": {
    "tags": []
   },
   "source": [
    "# 관련 SDK API\n",
    "- https://kubeflow-fairing.readthedocs.io/en/latest/source/kubeflow.fairing.preprocessors.html#module-kubeflow.fairing.preprocessors.base\n",
    "- https://kubeflow-fairing.readthedocs.io/en/latest/source/kubeflow.fairing.builders.append.html#module-kubeflow.fairing.builders.append.append"
   ]
  },
  {
   "cell_type": "markdown",
   "metadata": {
    "tags": []
   },
   "source": [
    "# 참고: Notebook Preprocessor\n",
    "```\n",
    "from kubeflow.fairing.preprocessors.converted_notebook import ConvertNotebookPreprocessor\n",
    "preproc = ConvertNotebookPreprocessor(\n",
    "    notebook_file=\"example.ipynb\"\n",
    ")    \n",
    "```"
   ]
  }
 ],
 "metadata": {
  "kernelspec": {
   "display_name": "Python 3",
   "language": "python",
   "name": "python3"
  },
  "kubeflow_notebook": {
   "autosnapshot": false,
   "docker_image": "reddiana/jupyterlab-kale:latest",
   "experiment": {
    "id": "",
    "name": ""
   },
   "experiment_name": "",
   "katib_metadata": {
    "algorithm": {
     "algorithmName": "grid"
    },
    "maxFailedTrialCount": 3,
    "maxTrialCount": 12,
    "objective": {
     "objectiveMetricName": "",
     "type": "minimize"
    },
    "parallelTrialCount": 3,
    "parameters": []
   },
   "katib_run": false,
   "pipeline_description": "",
   "pipeline_name": "",
   "snapshot_volumes": false,
   "steps_defaults": [],
   "volumes": []
  },
  "language_info": {
   "codemirror_mode": {
    "name": "ipython",
    "version": 3
   },
   "file_extension": ".py",
   "mimetype": "text/x-python",
   "name": "python",
   "nbconvert_exporter": "python",
   "pygments_lexer": "ipython3",
   "version": "3.6.9"
  }
 },
 "nbformat": 4,
 "nbformat_minor": 4
}
