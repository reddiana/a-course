{
 "cells": [
  {
   "cell_type": "code",
   "execution_count": 1,
   "metadata": {
    "tags": []
   },
   "outputs": [
    {
     "name": "stderr",
     "output_type": "stream",
     "text": [
      "[I 201207 00:12:22 config:134] Using preprocessor: <kubeflow.fairing.preprocessors.base.BasePreProcessor object at 0x7fbcfc3d9a90>\n",
      "[I 201207 00:12:22 config:136] Using builder: <kubeflow.fairing.builders.append.append.AppendBuilder object at 0x7fbcfc3d9b70>\n",
      "[I 201207 00:12:22 config:138] Using deployer: <kubeflow.fairing.deployers.job.job.Job object at 0x7fbcfc3d9b00>\n",
      "[W 201207 00:12:22 append:50] Building image using Append builder...\n",
      "[I 201207 00:12:22 base:107] Creating docker context: /tmp/fairing_context_i5503lbx\n",
      "[I 201207 00:12:22 docker_creds_:234] Loading Docker credentials for repository 'kubeflow-registry.default.svc.cluster.local:30000/kf-base:latest'\n",
      "[W 201207 00:12:22 append:54] Image successfully built in 0.02571487100021841s.\n",
      "[W 201207 00:12:22 append:94] Pushing image kubeflow-registry.default.svc.cluster.local:30000/my-02-python-file-fairing:A9338F1F...\n",
      "[I 201207 00:12:22 docker_creds_:234] Loading Docker credentials for repository 'kubeflow-registry.default.svc.cluster.local:30000/my-02-python-file-fairing:A9338F1F'\n",
      "[W 201207 00:12:22 append:81] Uploading kubeflow-registry.default.svc.cluster.local:30000/my-02-python-file-fairing:A9338F1F\n",
      "[I 201207 00:12:22 docker_session_:280] Layer sha256:0d3160e1d0de4061b5b32ee09af687b898921d36ed9556df5910ddc3104449cd exists, skipping\n",
      "[I 201207 00:12:22 docker_session_:280] Layer sha256:2746a4a261c9e18bfd7ff0429c18fd7522acc14fa4c7ec8ab37ba5ebaadbc584 exists, skipping\n",
      "[I 201207 00:12:22 docker_session_:280] Layer sha256:75c61371a2e390c1d05234b28163580c90c2e26c6d245984a4da73f9f022c102 exists, skipping\n",
      "[I 201207 00:12:22 docker_session_:280] Layer sha256:4d220205e6561101f16a16ded38672d66c0c0eb0c7c03ae4d3453e534ccbba5d exists, skipping\n",
      "[I 201207 00:12:22 docker_session_:280] Layer sha256:9fcc87d7457ee5fe12204e9c224603d53519a444aa258c67b63db2b33884cccf exists, skipping\n",
      "[I 201207 00:12:22 docker_session_:280] Layer sha256:dccb0709d7fb37e513a933c3848be077f0e514e41a084bd9f3f27dcde169ae20 exists, skipping\n",
      "[I 201207 00:12:22 docker_session_:280] Layer sha256:8592f093fc78e0d933851ed625592627241c475dd46adad77f37dec9cc867446 exists, skipping\n",
      "[I 201207 00:12:22 docker_session_:280] Layer sha256:c8e37668deea784f47c8726d934adc12b8d20a2b1c50b0b0c18cb62771cd3684 exists, skipping\n",
      "[I 201207 00:12:22 docker_session_:280] Layer sha256:e52cad4ccd832fc331516c5a5632fdd08c37d711ff243c7e04d6e8c374b9c474 exists, skipping\n",
      "[I 201207 00:12:22 docker_session_:280] Layer sha256:edc69fe5c6be6938f490e5f91cdb6369799b4a509fd72c292e0cd6fdb3c345b3 exists, skipping\n",
      "[I 201207 00:12:22 docker_session_:280] Layer sha256:e97116da5f9876a95d0d3f0fd1e3bcc48721f9ac6351ce23aaa3d261b4f9b0d6 exists, skipping\n",
      "[I 201207 00:12:22 docker_session_:280] Layer sha256:107f0b841886b4e032a6ced874db81b71dcdc5e6827b6c0d195defe4c6e661da exists, skipping\n",
      "[I 201207 00:12:22 docker_session_:280] Layer sha256:4c1d20cdee96111c8acf1858b62655a37ce81ae48648993542b7ac363ac5c0e5 exists, skipping\n",
      "[I 201207 00:12:22 docker_session_:280] Layer sha256:8e5d59332f4197612e8184a36706ffe7ab2e4a71bb6e420cbaf77ba1cefbb14d exists, skipping\n",
      "[I 201207 00:12:22 docker_session_:284] Layer sha256:d36be4d2beb71d4998348ff0de40af14b7e7e17262f9546fa3fe9829457fc175 pushed.\n",
      "[I 201207 00:12:22 docker_session_:334] Finished upload of: kubeflow-registry.default.svc.cluster.local:30000/my-02-python-file-fairing:A9338F1F\n",
      "[W 201207 00:12:22 append:99] Pushed image kubeflow-registry.default.svc.cluster.local:30000/my-02-python-file-fairing:A9338F1F in 0.1272066899996389s.\n",
      "[W 201207 00:12:22 job:101] The job fairing-job-2k6t7 launched.\n",
      "[W 201207 00:12:22 manager:298] Waiting for fairing-job-2k6t7-qfhjk to start...\n",
      "[W 201207 00:12:22 manager:298] Waiting for fairing-job-2k6t7-qfhjk to start...\n",
      "[W 201207 00:12:22 manager:298] Waiting for fairing-job-2k6t7-qfhjk to start...\n",
      "[I 201207 00:12:23 manager:304] Pod started running True\n"
     ]
    },
    {
     "name": "stdout",
     "output_type": "stream",
     "text": [
      "2020-12-07 00:12:24.731541: W tensorflow/stream_executor/platform/default/dso_loader.cc:55] Could not load dynamic library 'libnvinfer.so.6'; dlerror: libnvinfer.so.6: cannot open shared object file: No such file or directory\n",
      "2020-12-07 00:12:24.731701: W tensorflow/stream_executor/platform/default/dso_loader.cc:55] Could not load dynamic library 'libnvinfer_plugin.so.6'; dlerror: libnvinfer_plugin.so.6: cannot open shared object file: No such file or directory\n",
      "2020-12-07 00:12:24.731715: W tensorflow/compiler/tf2tensorrt/utils/py_utils.cc:30] Cannot dlopen some TensorRT libraries. If you would like to use Nvidia GPU with TensorRT, please make sure the missing libraries mentioned above are installed properly.\n",
      "Downloading data from https://storage.googleapis.com/tensorflow/tf-keras-datasets/mnist.npz\n",
      "11493376/11490434 [==============================] - 0s 0us/step\n",
      "2020-12-07 00:12:26.415212: W tensorflow/stream_executor/platform/default/dso_loader.cc:55] Could not load dynamic library 'libcuda.so.1'; dlerror: libcuda.so.1: cannot open shared object file: No such file or directory\n",
      "2020-12-07 00:12:26.415260: E tensorflow/stream_executor/cuda/cuda_driver.cc:351] failed call to cuInit: UNKNOWN ERROR (303)\n",
      "2020-12-07 00:12:26.415300: I tensorflow/stream_executor/cuda/cuda_diagnostics.cc:156] kernel driver does not appear to be running on this host (fairing-job-2k6t7-qfhjk): /proc/driver/nvidia/version does not exist\n",
      "2020-12-07 00:12:26.415656: I tensorflow/core/platform/cpu_feature_guard.cc:142] Your CPU supports instructions that this TensorFlow binary was not compiled to use: AVX2 AVX512F FMA\n",
      "2020-12-07 00:12:26.432254: I tensorflow/core/platform/profile_utils/cpu_utils.cc:94] CPU Frequency: 2000140000 Hz\n",
      "2020-12-07 00:12:26.433309: I tensorflow/compiler/xla/service/service.cc:168] XLA service 0x4a07940 initialized for platform Host (this does not guarantee that XLA will be used). Devices:\n",
      "2020-12-07 00:12:26.433358: I tensorflow/compiler/xla/service/service.cc:176]   StreamExecutor device (0): Host, Default Version\n",
      "2020-12-07 00:12:26.550736: W tensorflow/core/framework/cpu_allocator_impl.cc:81] Allocation of 301056000 exceeds 10% of system memory.\n",
      "Model: \"sequential\"\n",
      "_________________________________________________________________\n",
      "Layer (type)                 Output Shape              Param #\n",
      "=================================================================\n",
      "flatten (Flatten)            (None, 784)               0\n",
      "_________________________________________________________________\n",
      "dense (Dense)                (None, 128)               100480\n",
      "_________________________________________________________________\n",
      "dropout (Dropout)            (None, 128)               0\n",
      "_________________________________________________________________\n",
      "dense_1 (Dense)              (None, 10)                1290\n",
      "=================================================================\n",
      "Total params: 101,770\n",
      "Trainable params: 101,770\n",
      "Non-trainable params: 0\n",
      "_________________________________________________________________\n",
      "Training...\n",
      "Train on 48000 samples, validate on 12000 samples\n",
      "Epoch 1/3\n",
      " 1888/48000 [>.............................] - ETA: 19s - loss: 1.2910 - accuracy: 0.6269\n",
      " 4512/48000 [=>............................] - ETA: 13s - loss: 0.8709 - accuracy: 0.734\n",
      " 7232/48000 [===>..........................] - ETA: 11s - loss: 0.7258 - accuracy: 0.788\n",
      " 9472/48000 [====>.........................] - ETA: 10s - loss: 0.6385 - accuracy: 0.814\n",
      "12192/48000 [======>.......................] - ETA: 9s - loss: 0.5677 - accuracy: 0.8348\n",
      "14784/48000 [========>.....................] - ETA: 8s - loss: 0.5267 - accuracy: 0.84\n",
      "17440/48000 [=========>....................] - ETA: 7s - loss: 0.4980 - accuracy: 0.85\n",
      "19520/48000 [===========>..................] - ETA: 7s - loss: 0.4717 - accuracy: 0.86\n",
      "21216/48000 [============>.................] - ETA: 6s - loss: 0.4565 - accuracy: 0.86\n",
      "22592/48000 [=============>................] - ETA: 6s - loss: 0.4443 - accuracy: 0.87\n",
      "23872/48000 [=============>................] - ETA: 6s - loss: 0.4376 - accuracy: 0.87\n",
      "25664/48000 [==============>...............] - ETA: 6s - loss: 0.4230 - accuracy: 0.87\n",
      "27232/48000 [================>.............] - ETA: 5s - loss: 0.4090 - accuracy: 0.881\n",
      "29088/48000 [=================>............] - ETA: 5s - loss: 0.3980 - accuracy: 0.884\n",
      "30880/48000 [==================>...........] - ETA: 4s - loss: 0.3885 - accuracy: 0.88\n",
      "32768/48000 [===================>..........] - ETA: 4s - loss: 0.3796 - accuracy: 0.88\n",
      "34752/48000 [====================>.........] - ETA: 3s - loss: 0.3701 - accuracy: 0.89\n",
      "36256/48000 [=====================>........] - ETA: 3s - loss: 0.3628 - accuracy: 0.89\n",
      "38240/48000 [======================>.......] - ETA: 2s - loss: 0.3554 - accuracy: 0.89\n",
      "40768/48000 [========================>.....] - ETA: 2s - loss: 0.3485 - accuracy: 0.89\n",
      "43040/48000 [=========================>....] - ETA: 1s - loss: 0.3420 - accuracy: 0.90\n",
      "45088/48000 [===========================>..] - ETA: 0s - loss: 0.3346 - accuracy: 0.903\n",
      "47520/48000 [============================>.] - ETA: 0s - loss: 0.3278 - accuracy: 0.904\n",
      "48000/48000 [==============================] - 15s 303us/sample - loss: 0.3266 - accuracy: 0.9052 - val_loss: 0.1567 - val_accuracy: 0.9554\n",
      "Epoch 2/3\n",
      " 2240/48000 [>.............................] - ETA: 9s - loss: 0.1757 - accuracy: 0.9455\n",
      " 5152/48000 [==>...........................] - ETA: 9s - loss: 0.1625 - accuracy: 0.951\n",
      " 7936/48000 [===>..........................] - ETA: 8s - loss: 0.1670 - accuracy: 0.94\n",
      "10752/48000 [=====>........................] - ETA: 8s - loss: 0.1649 - accuracy: 0.94\n",
      "13152/48000 [=======>......................] - ETA: 7s - loss: 0.1671 - accuracy: 0.94\n",
      "15968/48000 [========>.....................] - ETA: 6s - loss: 0.1678 - accuracy: 0.94\n",
      "18784/48000 [==========>...................] - ETA: 6s - loss: 0.1656 - accuracy: 0.94\n",
      "21600/48000 [============>.................] - ETA: 5s - loss: 0.1640 - accuracy: 0.95\n",
      "24032/48000 [==============>...............] - ETA: 5s - loss: 0.1621 - accuracy: 0.95\n",
      "26912/48000 [===============>..............] - ETA: 4s - loss: 0.1621 - accuracy: 0.950\n",
      "29760/48000 [=================>............] - ETA: 3s - loss: 0.1615 - accuracy: 0.950\n",
      "32544/48000 [===================>..........] - ETA: 3s - loss: 0.1603 - accuracy: 0.95\n",
      "35360/48000 [====================>.........] - ETA: 2s - loss: 0.1602 - accuracy: 0.95\n",
      "37248/48000 [======================>.......] - ETA: 2s - loss: 0.1594 - accuracy: 0.95\n",
      "40000/48000 [========================>.....] - ETA: 1s - loss: 0.1576 - accuracy: 0.95\n",
      "42816/48000 [=========================>....] - ETA: 1s - loss: 0.1564 - accuracy: 0.95\n",
      "45632/48000 [===========================>..] - ETA: 0s - loss: 0.1570 - accuracy: 0.95\n",
      "48000/48000 [============================>.] - ETA: 0s - loss: 0.1565 - accuracy: 0.95\n",
      "=============================] - 12s 242us/sample - loss: 0.1565 - accuracy: 0.9520 - val_loss: 0.1321 - val_accuracy: 0.9608\n",
      "Epoch 3/3\n",
      " 2016/48000 [>.............................] - ETA: 10s - loss: 0.1345 - accuracy: 0.961\n",
      " 4832/48000 [==>...........................] - ETA: 9s - loss: 0.1278 - accuracy: 0.9622\n",
      " 7584/48000 [===>..........................] - ETA: 8s - loss: 0.1187 - accuracy: 0.96\n",
      "10336/48000 [=====>........................] - ETA: 8s - loss: 0.1212 - accuracy: 0.96\n",
      "12640/48000 [======>.......................] - ETA: 7s - loss: 0.1196 - accuracy: 0.96\n",
      "15424/48000 [========>.....................] - ETA: 7s - loss: 0.1216 - accuracy: 0.96\n",
      "17760/48000 [==========>...................] - ETA: 6s - loss: 0.1193 - accuracy: 0.96\n",
      "20512/48000 [===========>..................] - ETA: 6s - loss: 0.1174 - accuracy: 0.96\n",
      "22880/48000 [=============>................] - ETA: 5s - loss: 0.1166 - accuracy: 0.964\n",
      "25696/48000 [===============>..............] - ETA: 4s - loss: 0.1177 - accuracy: 0.964\n",
      "28448/48000 [================>.............] - ETA: 4s - loss: 0.1181 - accuracy: 0.964\n",
      "31200/48000 [==================>...........] - ETA: 3s - loss: 0.1179 - accuracy: 0.96\n",
      "34016/48000 [===================>..........] - ETA: 3s - loss: 0.1181 - accuracy: 0.96\n",
      "36416/48000 [=====================>........] - ETA: 2s - loss: 0.1175 - accuracy: 0.96\n",
      "39264/48000 [=======================>......] - ETA: 1s - loss: 0.1175 - accuracy: 0.96\n",
      "42016/48000 [=========================>....] - ETA: 1s - loss: 0.1171 - accuracy: 0.96\n",
      "44736/48000 [==========================>...] - ETA: 0s - loss: 0.1161 - accuracy: 0.96\n",
      "47008/48000 [============================>.] - ETA: 0s - loss: 0.1163 - accuracy: 0.96\n",
      "48000/48000 [==============================] - 12s 245us/sample - loss: 0.1157 - accuracy: 0.9645 - val_loss: 0.1024 - val_accuracy: 0.9705\n",
      "Test accuracy:  0.9712\n"
     ]
    },
    {
     "name": "stderr",
     "output_type": "stream",
     "text": [
      "[W 201207 00:13:06 job:173] Cleaning up job fairing-job-2k6t7...\n"
     ]
    },
    {
     "data": {
      "text/plain": [
       "(<kubeflow.fairing.preprocessors.base.BasePreProcessor at 0x7fbcfc3d9a90>,\n",
       " <kubeflow.fairing.builders.append.append.AppendBuilder at 0x7fbcfc3d9b70>,\n",
       " <kubeflow.fairing.deployers.job.job.Job at 0x7fbcfc3d9b00>)"
      ]
     },
     "execution_count": 1,
     "metadata": {},
     "output_type": "execute_result"
    }
   ],
   "source": [
    "from kubeflow import fairing\n",
    "from kubeflow.fairing.kubernetes import utils as k8s_utils\n",
    "\n",
    "PRIVATE_REGISTRY = 'kubeflow-registry.default.svc.cluster.local:30000'\n",
    "\n",
    "fairing.config.set_preprocessor(\n",
    "    'python', \n",
    "     # command = ['python'],  # default: python\n",
    "     input_files = ['00-python-file-to-fairing.py'],     \n",
    ")\n",
    "\n",
    "fairing.config.set_builder(\n",
    "    'append',\n",
    "    base_image = f'{PRIVATE_REGISTRY}/kf-base:latest', # 사전준비에서 마련한 Base Image\n",
    "    registry = PRIVATE_REGISTRY,\n",
    "    image_name='my-02-python-file-fairing', \n",
    "    push=True\n",
    ")\n",
    "\n",
    "fairing.config.set_deployer(\n",
    "    'job',\n",
    "    namespace='myspace',\n",
    "    pod_spec_mutators=[\n",
    "        k8s_utils.get_resource_mutator(cpu=1, memory=5)]\n",
    ")\n",
    "\n",
    "fairing.config.run()"
   ]
  },
  {
   "cell_type": "code",
   "execution_count": null,
   "metadata": {},
   "outputs": [],
   "source": []
  }
 ],
 "metadata": {
  "kernelspec": {
   "display_name": "Python 3",
   "language": "python",
   "name": "python3"
  },
  "kubeflow_notebook": {
   "docker_image": "reddiana/jupyterlab-kale:0.0.9",
   "experiment": {
    "id": "",
    "name": ""
   },
   "experiment_name": "",
   "katib_metadata": {
    "algorithm": {
     "algorithmName": "grid"
    },
    "maxFailedTrialCount": 3,
    "maxTrialCount": 12,
    "objective": {
     "objectiveMetricName": "",
     "type": "minimize"
    },
    "parallelTrialCount": 3,
    "parameters": []
   },
   "katib_run": false,
   "pipeline_description": "",
   "pipeline_name": "",
   "volumes": []
  },
  "language_info": {
   "codemirror_mode": {
    "name": "ipython",
    "version": 3
   },
   "file_extension": ".py",
   "mimetype": "text/x-python",
   "name": "python",
   "nbconvert_exporter": "python",
   "pygments_lexer": "ipython3",
   "version": "3.6.9"
  }
 },
 "nbformat": 4,
 "nbformat_minor": 4
}
