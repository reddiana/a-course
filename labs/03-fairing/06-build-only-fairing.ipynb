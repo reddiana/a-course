{
 "cells": [
  {
   "cell_type": "code",
   "execution_count": 4,
   "metadata": {
    "tags": []
   },
   "outputs": [
    {
     "name": "stderr",
     "output_type": "stream",
     "text": [
      "[W 201205 20:21:08 append:50] Building image using Append builder...\n",
      "[I 201205 20:21:08 base:107] Creating docker context: /tmp/fairing_context_3f7moyr8\n",
      "[I 201205 20:21:08 docker_creds_:234] Loading Docker credentials for repository 'kubeflow-registry.default.svc.cluster.local:30000/kf-base:latest'\n",
      "[W 201205 20:21:08 append:54] Image successfully built in 0.0359132230078103s.\n",
      "[W 201205 20:21:08 append:94] Pushing image kubeflow-registry.default.svc.cluster.local:30000/my-fairing-job:2F0D2724...\n",
      "[I 201205 20:21:08 docker_creds_:234] Loading Docker credentials for repository 'kubeflow-registry.default.svc.cluster.local:30000/my-fairing-job:2F0D2724'\n",
      "[W 201205 20:21:08 append:81] Uploading kubeflow-registry.default.svc.cluster.local:30000/my-fairing-job:2F0D2724\n",
      "[I 201205 20:21:08 docker_session_:280] Layer sha256:6a39e9b7d9a837fe0933391d3ec301073c6f8dc0536bc3d16c58c621441ddc4f exists, skipping\n",
      "[I 201205 20:21:08 docker_session_:280] Layer sha256:f22ccc0b8772d8e1bcb40f137b373686bc27427a70c0e41dd22b38016e09e7e0 exists, skipping\n",
      "[I 201205 20:21:08 docker_session_:280] Layer sha256:2a978df167d497637064cfdf8bd33ad6c84b4611a08090ba370bb73f1adb892e exists, skipping\n",
      "[I 201205 20:21:08 docker_session_:280] Layer sha256:3cf8fb62ba5ffb221a2edb2208741346eb4d2d99a174138e4afbb69ce1fd9966 exists, skipping\n",
      "[I 201205 20:21:08 docker_session_:280] Layer sha256:e80c964ece6a3edf0db1cfc72ae0e6f0699fb776bbfcc92b708fbb945b0b9547 exists, skipping\n",
      "[I 201205 20:21:08 docker_session_:280] Layer sha256:9d18c532b9d3fd95504fa5a2059adbdbf02fbc92d771f025213fb82666c9cdfa exists, skipping\n",
      "[I 201205 20:21:08 docker_session_:284] Layer sha256:0617e846abf4fe84e40fef719fc3d05ca09280c9f7b9d9a6b1dff9eaa672de29 pushed.\n",
      "[I 201205 20:21:08 docker_session_:334] Finished upload of: kubeflow-registry.default.svc.cluster.local:30000/my-fairing-job:2F0D2724\n",
      "[W 201205 20:21:08 append:99] Pushed image kubeflow-registry.default.svc.cluster.local:30000/my-fairing-job:2F0D2724 in 0.12474731099791825s.\n"
     ]
    },
    {
     "name": "stdout",
     "output_type": "stream",
     "text": [
      "Published Docker image with tag: \"kubeflow-registry.default.svc.cluster.local:30000/my-fairing-job:2F0D2724\"\n"
     ]
    }
   ],
   "source": [
    "from kubeflow.fairing.preprocessors.base import BasePreProcessor \n",
    "from kubeflow.fairing.builders.append.append import AppendBuilder\n",
    "\n",
    "PRIVATE_REGISTRY = 'kubeflow-registry.default.svc.cluster.local:30000'\n",
    "\n",
    "preproc = BasePreProcessor(\n",
    "    input_files = ['02-python-file-fairing.py'], \n",
    "    #path_prefix = '/myapp', # default: /app\n",
    "    command = ['python3'],  # default: python\n",
    ")    \n",
    "\n",
    "builder = AppendBuilder(\n",
    "    preprocessor = preproc,\n",
    "    base_image = f'{PRIVATE_REGISTRY}/kf-base:latest', # 사전준비에서 마련한 Base Image\n",
    "    image_name = 'my-fairing-job',\n",
    "    registry = PRIVATE_REGISTRY,\n",
    "    push = True,\n",
    ")\n",
    "\n",
    "builder.build()\n",
    "\n",
    "print(f'Published Docker image with tag: \"{builder.image_tag}\"')"
   ]
  },
  {
   "cell_type": "markdown",
   "metadata": {
    "tags": []
   },
   "source": [
    "### curl로 프라이빗 레지스트리 확인"
   ]
  },
  {
   "cell_type": "code",
   "execution_count": 2,
   "metadata": {
    "tags": []
   },
   "outputs": [
    {
     "name": "stdout",
     "output_type": "stream",
     "text": [
      "{\"repositories\":[\"covid19-katib-job\",\"fairing-job\",\"katib-base\",\"katib-job\",\"kf-base\",\"my-fairing-job\",\"tensorboard-job\"]}\n"
     ]
    }
   ],
   "source": [
    "! curl http://kubeflow-registry.default.svc.cluster.local:30000/v2/_catalog"
   ]
  },
  {
   "cell_type": "code",
   "execution_count": 3,
   "metadata": {
    "tags": []
   },
   "outputs": [
    {
     "name": "stdout",
     "output_type": "stream",
     "text": [
      "{\"name\":\"my-fairing-job\",\"tags\":[\"D60E1262\"]}\n"
     ]
    }
   ],
   "source": [
    "! curl http://kubeflow-registry.default.svc.cluster.local:30000/v2/my-fairing-job/tags/list"
   ]
  },
  {
   "cell_type": "markdown",
   "metadata": {
    "tags": []
   },
   "source": [
    "# 관련 SDK API\n",
    "- https://kubeflow-fairing.readthedocs.io/en/latest/source/kubeflow.fairing.preprocessors.html#module-kubeflow.fairing.preprocessors.base\n",
    "- https://kubeflow-fairing.readthedocs.io/en/latest/source/kubeflow.fairing.builders.append.html#module-kubeflow.fairing.builders.append.append"
   ]
  },
  {
   "cell_type": "markdown",
   "metadata": {
    "tags": []
   },
   "source": [
    "# 참고: Notebook Preprocessor\n",
    "```\n",
    "from kubeflow.fairing.preprocessors.converted_notebook import ConvertNotebookPreprocessor\n",
    "preproc = ConvertNotebookPreprocessor(\n",
    "    notebook_file=\"example.ipynb\"\n",
    ")    \n",
    "```"
   ]
  }
 ],
 "metadata": {
  "kernelspec": {
   "display_name": "Python 3",
   "language": "python",
   "name": "python3"
  },
  "kubeflow_notebook": {
   "autosnapshot": false,
   "docker_image": "reddiana/jupyterlab-kale:latest",
   "experiment": {
    "id": "",
    "name": ""
   },
   "experiment_name": "",
   "katib_metadata": {
    "algorithm": {
     "algorithmName": "grid"
    },
    "maxFailedTrialCount": 3,
    "maxTrialCount": 12,
    "objective": {
     "objectiveMetricName": "",
     "type": "minimize"
    },
    "parallelTrialCount": 3,
    "parameters": []
   },
   "katib_run": false,
   "pipeline_description": "",
   "pipeline_name": "",
   "snapshot_volumes": false,
   "steps_defaults": [],
   "volumes": []
  },
  "language_info": {
   "codemirror_mode": {
    "name": "ipython",
    "version": 3
   },
   "file_extension": ".py",
   "mimetype": "text/x-python",
   "name": "python",
   "nbconvert_exporter": "python",
   "pygments_lexer": "ipython3",
   "version": "3.6.9"
  }
 },
 "nbformat": 4,
 "nbformat_minor": 4
}
