{
 "cells": [
  {
   "cell_type": "code",
   "execution_count": 1,
   "metadata": {
    "tags": []
   },
   "outputs": [],
   "source": [
    "import tensorflow as tf\n",
    "\n",
    "def train():\n",
    "    mnist = tf.keras.datasets.mnist\n",
    "\n",
    "    (x_train, y_train), (x_test, y_test) = mnist.load_data()\n",
    "    x_train, x_test = x_train / 255.0, x_test / 255.0\n",
    "\n",
    "    model = tf.keras.models.Sequential([\n",
    "        tf.keras.layers.Flatten(input_shape=(28, 28)),\n",
    "        tf.keras.layers.Dense(128, activation='relu'),\n",
    "        tf.keras.layers.Dropout(0.2),\n",
    "        tf.keras.layers.Dense(10, activation='softmax')\n",
    "    ])\n",
    "\n",
    "    model.compile(\n",
    "        optimizer='adam',\n",
    "        loss='sparse_categorical_crossentropy',\n",
    "        metrics=['accuracy']\n",
    "    )\n",
    "\n",
    "    model.summary()\n",
    "\n",
    "    print(\"Training...\")\n",
    "\n",
    "    model.fit(\n",
    "        x_train, y_train, \n",
    "        epochs=3, \n",
    "        validation_split=0.2 \n",
    "    ) \n",
    "\n",
    "    score = model.evaluate(x_test, y_test, batch_size=128, verbose=0)\n",
    "    print('Test accuracy: ', score[1])"
   ]
  },
  {
   "cell_type": "code",
   "execution_count": 2,
   "metadata": {
    "tags": []
   },
   "outputs": [
    {
     "ename": "AttributeError",
     "evalue": "'NoneType' object has no attribute 'keras'",
     "output_type": "error",
     "traceback": [
      "\u001b[0;31m---------------------------------------------------------------------------\u001b[0m",
      "\u001b[0;31mAttributeError\u001b[0m                            Traceback (most recent call last)",
      "\u001b[0;32m<ipython-input-2-2636eeeb1e63>\u001b[0m in \u001b[0;36m<module>\u001b[0;34m\u001b[0m\n\u001b[1;32m      1\u001b[0m \u001b[0;31m# Local training\u001b[0m\u001b[0;34m\u001b[0m\u001b[0;34m\u001b[0m\u001b[0;34m\u001b[0m\u001b[0m\n\u001b[0;32m----> 2\u001b[0;31m \u001b[0mtrain\u001b[0m\u001b[0;34m(\u001b[0m\u001b[0;34m)\u001b[0m\u001b[0;34m\u001b[0m\u001b[0;34m\u001b[0m\u001b[0m\n\u001b[0m",
      "\u001b[0;32m<ipython-input-1-0dbc804d7d9a>\u001b[0m in \u001b[0;36mtrain\u001b[0;34m()\u001b[0m\n\u001b[1;32m      2\u001b[0m \u001b[0;34m\u001b[0m\u001b[0m\n\u001b[1;32m      3\u001b[0m \u001b[0;32mdef\u001b[0m \u001b[0mtrain\u001b[0m\u001b[0;34m(\u001b[0m\u001b[0;34m)\u001b[0m\u001b[0;34m:\u001b[0m\u001b[0;34m\u001b[0m\u001b[0;34m\u001b[0m\u001b[0m\n\u001b[0;32m----> 4\u001b[0;31m     \u001b[0mmnist\u001b[0m \u001b[0;34m=\u001b[0m \u001b[0mtf\u001b[0m\u001b[0;34m.\u001b[0m\u001b[0mkeras\u001b[0m\u001b[0;34m.\u001b[0m\u001b[0mdatasets\u001b[0m\u001b[0;34m.\u001b[0m\u001b[0mmnist\u001b[0m\u001b[0;34m\u001b[0m\u001b[0;34m\u001b[0m\u001b[0m\n\u001b[0m\u001b[1;32m      5\u001b[0m \u001b[0;34m\u001b[0m\u001b[0m\n\u001b[1;32m      6\u001b[0m     \u001b[0;34m(\u001b[0m\u001b[0mx_train\u001b[0m\u001b[0;34m,\u001b[0m \u001b[0my_train\u001b[0m\u001b[0;34m)\u001b[0m\u001b[0;34m,\u001b[0m \u001b[0;34m(\u001b[0m\u001b[0mx_test\u001b[0m\u001b[0;34m,\u001b[0m \u001b[0my_test\u001b[0m\u001b[0;34m)\u001b[0m \u001b[0;34m=\u001b[0m \u001b[0mmnist\u001b[0m\u001b[0;34m.\u001b[0m\u001b[0mload_data\u001b[0m\u001b[0;34m(\u001b[0m\u001b[0;34m)\u001b[0m\u001b[0;34m\u001b[0m\u001b[0;34m\u001b[0m\u001b[0m\n",
      "\u001b[0;31mAttributeError\u001b[0m: 'NoneType' object has no attribute 'keras'"
     ]
    }
   ],
   "source": [
    "# Local training\n",
    "train()"
   ]
  },
  {
   "cell_type": "code",
   "execution_count": 3,
   "metadata": {
    "tags": []
   },
   "outputs": [
    {
     "name": "stderr",
     "output_type": "stream",
     "text": [
      "[I 201207 00:13:37 config:134] Using preprocessor: <kubeflow.fairing.preprocessors.function.FunctionPreProcessor object at 0x7f4d207eab38>\n",
      "[I 201207 00:13:37 config:136] Using builder: <kubeflow.fairing.builders.append.append.AppendBuilder object at 0x7f4d1bd0a9e8>\n",
      "[I 201207 00:13:37 config:138] Using deployer: <kubeflow.fairing.deployers.job.job.Job object at 0x7f4d207eabe0>\n",
      "[W 201207 00:13:37 append:50] Building image using Append builder...\n",
      "[I 201207 00:13:37 base:107] Creating docker context: /tmp/fairing_context_6_2l7nno\n",
      "[W 201207 00:13:37 base:94] /usr/local/lib/python3.6/dist-packages/kubeflow/fairing/__init__.py already exists in Fairing context, skipping...\n",
      "[I 201207 00:13:37 docker_creds_:234] Loading Docker credentials for repository 'tensorflow/tensorflow:2.0.3-gpu-py3'\n",
      "[W 201207 00:13:39 append:54] Image successfully built in 2.4830146699996476s.\n",
      "[W 201207 00:13:39 append:94] Pushing image kubeflow-registry.default.svc.cluster.local:30000/fairing-job:68EA1BE0...\n",
      "[I 201207 00:13:39 docker_creds_:234] Loading Docker credentials for repository 'kubeflow-registry.default.svc.cluster.local:30000/fairing-job:68EA1BE0'\n",
      "[W 201207 00:13:39 append:81] Uploading kubeflow-registry.default.svc.cluster.local:30000/fairing-job:68EA1BE0\n",
      "[I 201207 00:13:39 docker_session_:280] Layer sha256:f08d8e2a3ba11bea23cf5c17e8e1c620057412ed05c32d1114640e18d6dd0a43 exists, skipping\n",
      "[I 201207 00:13:39 docker_session_:280] Layer sha256:b11f037be8e82a958bc0f85b0fa2a73515ce8954042eac96bb654e662ae9519f exists, skipping\n",
      "[I 201207 00:13:39 docker_session_:280] Layer sha256:180a91d332525099dc19822a6acdd951afc8caa017d5101cfe925d839a86d806 exists, skipping\n",
      "[I 201207 00:13:39 docker_session_:280] Layer sha256:a6b0136f4b734fa962c4f6a51536f4c66bdf70607e08a815cc8b1ee28b967af7 exists, skipping\n",
      "[I 201207 00:13:39 docker_session_:280] Layer sha256:808ab635d662f007795c47a50aa04f09645f4ff2356cb3b4a4793dc849f8c567 exists, skipping\n",
      "[I 201207 00:13:39 docker_session_:280] Layer sha256:d69f906e5daf636062d23a04229abd5ad7cc9dc4ed4fec747209c475d2baedbe exists, skipping\n",
      "[I 201207 00:13:39 docker_session_:280] Layer sha256:eee182b1b1f319aa543a64cf31d2ab0479870a7dc103da35ad4e450513dccdb9 exists, skipping\n",
      "[I 201207 00:13:39 docker_session_:280] Layer sha256:64c1fb90b5a5b52bc9cd212302432b449b17377ab2822b7df3bf51183f955a15 exists, skipping\n",
      "[I 201207 00:13:39 docker_session_:280] Layer sha256:24379c211bf57a28dc199d0b1e7dc6a8055c42367f7dc7aa7af94233424320d0 exists, skipping\n",
      "[I 201207 00:13:39 docker_session_:280] Layer sha256:05cc64cc481fe79962b34513eab815d88ebe4ac6ac5014f5a75059120ff54403 exists, skipping\n",
      "[I 201207 00:13:39 docker_session_:280] Layer sha256:f24e58c7d76b40e220b929eb26738ea454d26e69b3c4f69915dbc39d801ad2bb exists, skipping\n",
      "[I 201207 00:13:39 docker_session_:280] Layer sha256:3baa9cb2483bd9c5329a44d9c2fe72535625bbd4308bca95785dd58e72c06365 exists, skipping\n",
      "[I 201207 00:13:39 docker_session_:280] Layer sha256:ec9158e32443ed0d3bd8fdf3ceffa1acb9e37ef76d999bc31cb1380458c2a8cf exists, skipping\n",
      "[I 201207 00:13:39 docker_session_:280] Layer sha256:8ed3cb4f3e640b8c622e61beba1b83f115f32756055cafcc5840e4ae4f806cab exists, skipping\n",
      "[I 201207 00:13:39 docker_session_:280] Layer sha256:1860925334f940c3145808527480b4f0cba7f01279087fdb27679e4354fba967 exists, skipping\n",
      "[I 201207 00:13:39 docker_session_:280] Layer sha256:94e5ff4c0b1526abf77c236655f21c8f67a23313291c8b970fe6b469549d8153 exists, skipping\n",
      "[I 201207 00:13:39 docker_session_:280] Layer sha256:da612ad945dfc0bddf4057d29e35c73c95bb864754567ab5068fe7b1fbd8b696 exists, skipping\n",
      "[I 201207 00:13:39 docker_session_:284] Layer sha256:2720163234eb3848fc03e1e1509bafd1811119d15ee4d2803821dfb87bc6dc4e pushed.\n",
      "[I 201207 00:13:39 docker_session_:334] Finished upload of: kubeflow-registry.default.svc.cluster.local:30000/fairing-job:68EA1BE0\n",
      "[W 201207 00:13:39 append:99] Pushed image kubeflow-registry.default.svc.cluster.local:30000/fairing-job:68EA1BE0 in 0.14202310699965892s.\n",
      "[W 201207 00:13:39 job:101] The job fairing-job-bmx4d launched.\n",
      "[W 201207 00:13:39 manager:298] Waiting for fairing-job-bmx4d-gvn7t to start...\n",
      "[W 201207 00:13:39 manager:298] Waiting for fairing-job-bmx4d-gvn7t to start...\n",
      "[W 201207 00:13:39 manager:298] Waiting for fairing-job-bmx4d-gvn7t to start...\n",
      "[E 201207 00:13:42 manager:318] Failed to launch fairing-job-bmx4d-gvn7t, reason: Error, message: None\n",
      "[W 201207 00:13:42 job:173] Cleaning up job fairing-job-bmx4d...\n"
     ]
    },
    {
     "name": "stdout",
     "output_type": "stream",
     "text": [
      "Traceback (most recent call last):\n",
      "  File \"/app/function_shim.py\", line 79, in <module>\n",
      "    call(args.serialized_fn_file)\n",
      "  File \"/app/function_shim.py\", line 64, in call\n",
      "    res = obj()\n",
      "  File \"<ipython-input-1-0dbc804d7d9a>\", line 4, in train\n",
      "AttributeError: 'NoneType' object has no attribute 'keras'\n"
     ]
    }
   ],
   "source": [
    "import os\n",
    "from kubeflow import fairing\n",
    "\n",
    "PRIVATE_REGISTRY = 'kubeflow-registry.default.svc.cluster.local:30000'\n",
    "\n",
    "fairing.config.set_builder(\n",
    "    'append',\n",
    "    # base_image = f'{PRIVATE_REGISTRY}/kf-base:latest', # 사전준비에서 마련한 Base Image  # 동작 (X) 하단 설명으로 이슈 해결할 것\n",
    "    base_image= 'tensorflow/tensorflow:2.0.3-gpu-py3', # 동작 (O)\n",
    "    registry = PRIVATE_REGISTRY, \n",
    "    push=True\n",
    ")\n",
    "\n",
    "fairing.config.set_deployer('job')\n",
    "\n",
    "remote_train = fairing.config.fn(train)\n",
    "\n",
    "remote_train()"
   ]
  },
  {
   "cell_type": "markdown",
   "metadata": {
    "tags": []
   },
   "source": [
    "### curl로 프라이빗 레지스트리 확인"
   ]
  },
  {
   "cell_type": "code",
   "execution_count": null,
   "metadata": {
    "tags": []
   },
   "outputs": [],
   "source": [
    "! curl http://kubeflow-registry.default.svc.cluster.local:30000/v2/_catalog"
   ]
  },
  {
   "cell_type": "code",
   "execution_count": null,
   "metadata": {
    "tags": []
   },
   "outputs": [],
   "source": [
    "! curl http://kubeflow-registry.default.svc.cluster.local:30000/v2/fairing-job/tags/list"
   ]
  },
  {
   "cell_type": "markdown",
   "metadata": {
    "tags": []
   },
   "source": [
    "# Function Fairing 패키지 버전 이슈\n",
    "Function Fairing 시 fairing SDK가 컨테이너 내부에서 아래와 같은 명령을 실행\n",
    "```python\n",
    "python /app/function_shim.py --serialized_fn_file /app/pickled_fn.p --python_version 3.6\n",
    "```\n",
    "결과는 에러.\n",
    "\n",
    "다음과 같이 테스트 하여 실행 성공과 실패 케이스를 정리함\n",
    "\n",
    "- 실행 실패\n",
    "  - base_image = f'{PRIVATE_REGISTRY}/kf-base:latest', # 사전준비에서 마련한 Base Image  \n",
    "  - base_image = 'tensorflow/tensorflow:latest-py3',   \n",
    "  - base_image = 'tensorflow/tensorflow:2.1.2-gpu',    \n",
    "  - Base Image에 pip install tensorflow-gpu   <- 최신 2.3.1 설치됨\n",
    "- 실행 성공  \n",
    "  - base_image = 'brightfly/kubeflow-jupyter-lab:tf2.0-gpu', <- 실마리\n",
    "  - base_image = 'tensorflow/tensorflow:2.0.3-gpu-py3',\n",
    "  - Base Image에 pip install tensorflow-gpu==2.0.0 "
   ]
  },
  {
   "cell_type": "code",
   "execution_count": null,
   "metadata": {},
   "outputs": [],
   "source": []
  }
 ],
 "metadata": {
  "kernelspec": {
   "display_name": "Python 3",
   "language": "python",
   "name": "python3"
  },
  "kubeflow_notebook": {
   "docker_image": "reddiana/jupyterlab-kale:0.0.9",
   "experiment": {
    "id": "",
    "name": ""
   },
   "experiment_name": "",
   "katib_metadata": {
    "algorithm": {
     "algorithmName": "grid"
    },
    "maxFailedTrialCount": 3,
    "maxTrialCount": 12,
    "objective": {
     "objectiveMetricName": "",
     "type": "minimize"
    },
    "parallelTrialCount": 3,
    "parameters": []
   },
   "katib_run": false,
   "pipeline_description": "",
   "pipeline_name": "",
   "volumes": []
  },
  "language_info": {
   "codemirror_mode": {
    "name": "ipython",
    "version": 3
   },
   "file_extension": ".py",
   "mimetype": "text/x-python",
   "name": "python",
   "nbconvert_exporter": "python",
   "pygments_lexer": "ipython3",
   "version": "3.6.9"
  }
 },
 "nbformat": 4,
 "nbformat_minor": 4
}
