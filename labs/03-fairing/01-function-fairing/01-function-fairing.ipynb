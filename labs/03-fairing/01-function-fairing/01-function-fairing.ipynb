{
 "cells": [
  {
   "cell_type": "code",
   "execution_count": 1,
   "metadata": {
    "tags": []
   },
   "outputs": [],
   "source": [
    "import tensorflow as tf\n",
    "\n",
    "def train():\n",
    "    mnist = tf.keras.datasets.mnist\n",
    "\n",
    "    (x_train, y_train), (x_test, y_test) = mnist.load_data()\n",
    "    x_train, x_test = x_train / 255.0, x_test / 255.0\n",
    "\n",
    "    model = tf.keras.models.Sequential([\n",
    "        tf.keras.layers.Flatten(input_shape=(28, 28)),\n",
    "        tf.keras.layers.Dense(128, activation='relu'),\n",
    "        tf.keras.layers.Dropout(0.2),\n",
    "        tf.keras.layers.Dense(10, activation='softmax')\n",
    "    ])\n",
    "\n",
    "    model.compile(\n",
    "        optimizer='adam',\n",
    "        loss='sparse_categorical_crossentropy',\n",
    "        metrics=['accuracy']\n",
    "    )\n",
    "\n",
    "    model.summary()\n",
    "\n",
    "    print(\"Training...\")\n",
    "\n",
    "    model.fit(\n",
    "        x_train, y_train, \n",
    "        epochs=3, \n",
    "        validation_split=0.2 \n",
    "    ) \n",
    "\n",
    "    score = model.evaluate(x_test, y_test, batch_size=128, verbose=0)\n",
    "    print('Test accuracy: ', score[1])"
   ]
  },
  {
   "cell_type": "raw",
   "metadata": {
    "jupyter": {
     "outputs_hidden": true
    },
    "tags": []
   },
   "source": [
    "# Local training\n",
    "train()"
   ]
  },
  {
   "cell_type": "code",
   "execution_count": 2,
   "metadata": {
    "tags": []
   },
   "outputs": [
    {
     "name": "stderr",
     "output_type": "stream",
     "text": [
      "[I 201206 12:26:29 config:134] Using preprocessor: <kubeflow.fairing.preprocessors.function.FunctionPreProcessor object at 0x7f2dc0467550>\n",
      "[I 201206 12:26:29 config:136] Using builder: <kubeflow.fairing.builders.append.append.AppendBuilder object at 0x7f2cffabbdd8>\n",
      "[I 201206 12:26:29 config:138] Using deployer: <kubeflow.fairing.deployers.job.job.Job object at 0x7f2dc04676d8>\n",
      "[W 201206 12:26:29 append:50] Building image using Append builder...\n",
      "[I 201206 12:26:29 base:107] Creating docker context: /tmp/fairing_context_y4umdtfr\n",
      "[W 201206 12:26:29 base:94] /usr/local/lib/python3.6/dist-packages/kubeflow/fairing/__init__.py already exists in Fairing context, skipping...\n",
      "[I 201206 12:26:29 docker_creds_:234] Loading Docker credentials for repository 'tensorflow/tensorflow:2.0.3-gpu-py3'\n",
      "[W 201206 12:26:32 append:54] Image successfully built in 2.798909298988292s.\n",
      "[W 201206 12:26:32 append:94] Pushing image kubeflow-registry.default.svc.cluster.local:30000/fairing-job:6891A465...\n",
      "[I 201206 12:26:32 docker_creds_:234] Loading Docker credentials for repository 'kubeflow-registry.default.svc.cluster.local:30000/fairing-job:6891A465'\n",
      "[W 201206 12:26:32 append:81] Uploading kubeflow-registry.default.svc.cluster.local:30000/fairing-job:6891A465\n",
      "[I 201206 12:26:33 docker_session_:284] Layer sha256:808ab635d662f007795c47a50aa04f09645f4ff2356cb3b4a4793dc849f8c567 pushed.\n",
      "[I 201206 12:26:33 docker_session_:284] Layer sha256:94e5ff4c0b1526abf77c236655f21c8f67a23313291c8b970fe6b469549d8153 pushed.\n",
      "[I 201206 12:26:33 docker_session_:284] Layer sha256:64c1fb90b5a5b52bc9cd212302432b449b17377ab2822b7df3bf51183f955a15 pushed.\n",
      "[I 201206 12:26:33 docker_session_:284] Layer sha256:3baa9cb2483bd9c5329a44d9c2fe72535625bbd4308bca95785dd58e72c06365 pushed.\n",
      "[I 201206 12:26:33 docker_session_:284] Layer sha256:a04876459bc2346d3ac6537f0f0a098336fa990024d07e1446dffdadf1be79e9 pushed.\n",
      "[I 201206 12:26:33 docker_session_:284] Layer sha256:1860925334f940c3145808527480b4f0cba7f01279087fdb27679e4354fba967 pushed.\n",
      "[I 201206 12:26:33 docker_session_:284] Layer sha256:8ed3cb4f3e640b8c622e61beba1b83f115f32756055cafcc5840e4ae4f806cab pushed.\n",
      "[I 201206 12:26:34 docker_session_:284] Layer sha256:4e38735d527a98dd48f9f33fa1812da75cf19657b218683d4b335dff5f7fc8b5 pushed.\n",
      "[I 201206 12:26:34 docker_session_:284] Layer sha256:b11f037be8e82a958bc0f85b0fa2a73515ce8954042eac96bb654e662ae9519f pushed.\n",
      "[I 201206 12:26:34 docker_session_:284] Layer sha256:d69f906e5daf636062d23a04229abd5ad7cc9dc4ed4fec747209c475d2baedbe pushed.\n",
      "[I 201206 12:26:34 docker_session_:284] Layer sha256:180a91d332525099dc19822a6acdd951afc8caa017d5101cfe925d839a86d806 pushed.\n",
      "[I 201206 12:26:34 docker_session_:284] Layer sha256:24379c211bf57a28dc199d0b1e7dc6a8055c42367f7dc7aa7af94233424320d0 pushed.\n",
      "[I 201206 12:26:34 docker_session_:284] Layer sha256:05cc64cc481fe79962b34513eab815d88ebe4ac6ac5014f5a75059120ff54403 pushed.\n",
      "[I 201206 12:26:35 docker_session_:284] Layer sha256:f08d8e2a3ba11bea23cf5c17e8e1c620057412ed05c32d1114640e18d6dd0a43 pushed.\n",
      "[I 201206 12:26:36 docker_session_:284] Layer sha256:a6b0136f4b734fa962c4f6a51536f4c66bdf70607e08a815cc8b1ee28b967af7 pushed.\n",
      "[I 201206 12:26:37 docker_session_:284] Layer sha256:f24e58c7d76b40e220b929eb26738ea454d26e69b3c4f69915dbc39d801ad2bb pushed.\n",
      "[I 201206 12:26:56 docker_session_:284] Layer sha256:eee182b1b1f319aa543a64cf31d2ab0479870a7dc103da35ad4e450513dccdb9 pushed.\n",
      "[I 201206 12:27:03 docker_session_:284] Layer sha256:da612ad945dfc0bddf4057d29e35c73c95bb864754567ab5068fe7b1fbd8b696 pushed.\n",
      "[I 201206 12:27:03 docker_session_:334] Finished upload of: kubeflow-registry.default.svc.cluster.local:30000/fairing-job:6891A465\n",
      "[W 201206 12:27:03 append:99] Pushed image kubeflow-registry.default.svc.cluster.local:30000/fairing-job:6891A465 in 30.88068754298729s.\n",
      "[W 201206 12:27:03 job:101] The job fairing-job-tw8wl launched.\n",
      "[W 201206 12:27:03 manager:298] Waiting for fairing-job-tw8wl-kqqh5 to start...\n",
      "[W 201206 12:27:03 manager:298] Waiting for fairing-job-tw8wl-kqqh5 to start...\n",
      "[W 201206 12:27:03 manager:298] Waiting for fairing-job-tw8wl-kqqh5 to start...\n",
      "[I 201206 12:28:12 manager:304] Pod started running True\n"
     ]
    },
    {
     "name": "stdout",
     "output_type": "stream",
     "text": [
      "Downloading data from https://storage.googleapis.com/tensorflow/tf-keras-datasets/mnist.npz\n",
      "11493376/11490434 [==============================] - 0s 0us/step\n",
      "2020-12-06 12:28:14.948115: I tensorflow/stream_executor/platform/default/dso_loader.cc:44] Successfully opened dynamic library libcuda.so.1\n",
      "2020-12-06 12:28:14.948186: E tensorflow/stream_executor/cuda/cuda_driver.cc:318] failed call to cuInit: UNKNOWN ERROR (-1)\n",
      "2020-12-06 12:28:14.948220: I tensorflow/stream_executor/cuda/cuda_diagnostics.cc:156] kernel driver does not appear to be running on this host (fairing-job-tw8wl-kqqh5): /proc/driver/nvidia/version does not exist\n",
      "2020-12-06 12:28:14.948640: I tensorflow/core/platform/cpu_feature_guard.cc:142] Your CPU supports instructions that this TensorFlow binary was not compiled to use: AVX2 AVX512F FMA\n",
      "2020-12-06 12:28:14.970902: I tensorflow/core/platform/profile_utils/cpu_utils.cc:94] CPU Frequency: 2000140000 Hz\n",
      "2020-12-06 12:28:14.972071: I tensorflow/compiler/xla/service/service.cc:168] XLA service 0x5509930 executing computations on platform Host. Devices:\n",
      "2020-12-06 12:28:14.972157: I tensorflow/compiler/xla/service/service.cc:175]   StreamExecutor device (0): Host, Default Version\n",
      "2020-12-06 12:28:15.179259: W tensorflow/core/framework/cpu_allocator_impl.cc:81] Allocation of 301056000 exceeds 10% of system memory.\n",
      "2020-12-06 12:28:15.543652: W tensorflow/core/framework/cpu_allocator_impl.cc:81] Allocation of 75264000 exceeds 10% of system memory.\n",
      "Model: \"sequential\"\n",
      "_________________________________________________________________\n",
      "Layer (type)                 Output Shape              Param #\n",
      "=================================================================\n",
      "flatten (Flatten)            (None, 784)               0\n",
      "_________________________________________________________________\n",
      "dense (Dense)                (None, 128)               100480\n",
      "_________________________________________________________________\n",
      "dropout (Dropout)            (None, 128)               0\n",
      "_________________________________________________________________\n",
      "dense_1 (Dense)              (None, 10)                1290\n",
      "=================================================================\n",
      "Total params: 101,770\n",
      "Trainable params: 101,770\n",
      "Non-trainable params: 0\n",
      "_________________________________________________________________\n",
      "Training...\n",
      "Train on 48000 samples, validate on 12000 samples\n",
      "Epoch 1/3\n",
      " 2464/48000 [>.............................] - ETA: 16s - loss: 1.1323 - accuracy: 0.67275\n",
      " 5408/48000 [==>...........................] - ETA: 9s - loss: 0.7855 - accuracy: 0.7597\n",
      " 7936/48000 [===>..........................] - ETA: 7s - loss: 0.6755 - accuracy: 0.80\n",
      "10208/48000 [=====>........................] - ETA: 6s - loss: 0.5941 - accuracy: 0.82\n",
      "13216/48000 [=======>......................] - ETA: 5s - loss: 0.5402 - accuracy: 0.84\n",
      "15968/48000 [========>.....................] - ETA: 4s - loss: 0.4997 - accuracy: 0.85\n",
      "18656/48000 [==========>...................] - ETA: 4s - loss: 0.4732 - accuracy: 0.86\n",
      "21632/48000 [============>.................] - ETA: 3s - loss: 0.4438 - accuracy: 0.87\n",
      "24256/48000 [==============>...............] - ETA: 3s - loss: 0.4187 - accuracy: 0.878\n",
      "26688/48000 [===============>..............] - ETA: 2s - loss: 0.4067 - accuracy: 0.881\n",
      "29024/48000 [=================>............] - ETA: 2s - loss: 0.3948 - accuracy: 0.88\n",
      "31904/48000 [==================>...........] - ETA: 2s - loss: 0.3813 - accuracy: 0.88\n",
      "34976/48000 [====================>.........] - ETA: 1s - loss: 0.3671 - accuracy: 0.89\n",
      "37376/48000 [======================>.......] - ETA: 1s - loss: 0.3547 - accuracy: 0.89\n",
      "40384/48000 [========================>.....] - ETA: 0s - loss: 0.3440 - accuracy: 0.89\n",
      "42976/48000 [=========================>....] - ETA: 0s - loss: 0.3365 - accuracy: 0.90\n",
      "45568/48000 [===========================>..] - ETA: 0s - loss: 0.3303 - accuracy: 0.90\n",
      "48000/48000 [==============================] - 7s 145us/sample - loss: 0.3218 - accuracy: 0.9056 - val_loss: 0.1519 - val_accuracy: 0.9566\n",
      "Epoch 2/3\n",
      " 2464/48000 [>.............................] - ETA: 4s - loss: 0.1623 - accuracy: 0.94\n",
      " 4896/48000 [==>...........................] - ETA: 5s - loss: 0.1605 - accuracy: 0.95\n",
      " 7264/48000 [===>..........................] - ETA: 5s - loss: 0.1606 - accuracy: 0.95\n",
      "10304/48000 [=====>........................] - ETA: 4s - loss: 0.1674 - accuracy: 0.94\n",
      "12640/48000 [======>.......................] - ETA: 4s - loss: 0.1670 - accuracy: 0.949\n",
      "15616/48000 [========>.....................] - ETA: 3s - loss: 0.1649 - accuracy: 0.950\n",
      "18240/48000 [==========>...................] - ETA: 3s - loss: 0.1608 - accuracy: 0.951\n",
      "20896/48000 [============>.................] - ETA: 3s - loss: 0.1633 - accuracy: 0.95\n",
      "23328/48000 [=============>................] - ETA: 2s - loss: 0.1610 - accuracy: 0.95\n",
      "25760/48000 [===============>..............] - ETA: 2s - loss: 0.1623 - accuracy: 0.95\n",
      "28800/48000 [=================>............] - ETA: 2s - loss: 0.1620 - accuracy: 0.95\n",
      "31264/48000 [==================>...........] - ETA: 1s - loss: 0.1614 - accuracy: 0.95\n",
      "34112/48000 [====================>.........] - ETA: 1s - loss: 0.1602 - accuracy: 0.95\n",
      "36480/48000 [=====================>........] - ETA: 1s - loss: 0.1605 - accuracy: 0.952\n",
      "38720/48000 [=======================>......] - ETA: 1s - loss: 0.1590 - accuracy: 0.953\n",
      "41152/48000 [========================>.....] - ETA: 0s - loss: 0.1580 - accuracy: 0.953\n",
      "44032/48000 [==========================>...] - ETA: 0s - loss: 0.1576 - accuracy: 0.95\n",
      "46848/48000 [===========================>..] - ETA: 0s - loss: 0.1568 - accuracy: 0.95\n",
      "48000/48000 [==============================] - 7s 137us/sample - loss: 0.1563 - accuracy: 0.9538 - val_loss: 0.1178 - val_accuracy: 0.9663\n",
      "Epoch 3/3\n",
      " 2080/48000 [>.............................] - ETA: 5s - loss: 0.1111 - accuracy: 0.96\n",
      " 5120/48000 [==>...........................] - ETA: 4s - loss: 0.1163 - accuracy: 0.96\n",
      " 7936/48000 [===>..........................] - ETA: 4s - loss: 0.1203 - accuracy: 0.96\n",
      "10304/48000 [=====>........................] - ETA: 4s - loss: 0.1207 - accuracy: 0.96\n",
      "12672/48000 [======>.......................] - ETA: 4s - loss: 0.1211 - accuracy: 0.963\n",
      "15840/48000 [========>.....................] - ETA: 3s - loss: 0.1216 - accuracy: 0.964\n",
      "17888/48000 [==========>...................] - ETA: 3s - loss: 0.1201 - accuracy: 0.964\n",
      "20480/48000 [===========>..................] - ETA: 3s - loss: 0.1210 - accuracy: 0.96\n",
      "22752/48000 [=============>................] - ETA: 2s - loss: 0.1203 - accuracy: 0.96\n",
      "25280/48000 [==============>...............] - ETA: 2s - loss: 0.1203 - accuracy: 0.96\n",
      "28384/48000 [================>.............] - ETA: 2s - loss: 0.1201 - accuracy: 0.96\n",
      "31424/48000 [==================>...........] - ETA: 1s - loss: 0.1196 - accuracy: 0.96\n",
      "34336/48000 [====================>.........] - ETA: 1s - loss: 0.1186 - accuracy: 0.96\n",
      "36736/48000 [=====================>........] - ETA: 1s - loss: 0.1183 - accuracy: 0.964\n",
      "39712/48000 [=======================>......] - ETA: 0s - loss: 0.1178 - accuracy: 0.964\n",
      "42752/48000 [=========================>....] - ETA: 0s - loss: 0.1174 - accuracy: 0.964\n",
      "45184/48000 [===========================>..] - ETA: 0s - loss: 0.1168 - accuracy: 0.96\n",
      "47680/48000 [============================>.] - ETA: 0s - loss: 0.1166 - accuracy: 0.96\n",
      "48000/48000 [==============================] - 6s 134us/sample - loss: 0.1163 - accuracy: 0.9644 - val_loss: 0.0984 - val_accuracy: 0.9707\n",
      "Test accuracy:  0.9714\n"
     ]
    },
    {
     "name": "stderr",
     "output_type": "stream",
     "text": [
      "[W 201206 12:28:37 job:173] Cleaning up job fairing-job-tw8wl...\n"
     ]
    }
   ],
   "source": [
    "import os\n",
    "from kubeflow import fairing\n",
    "\n",
    "PRIVATE_REGISTRY = 'kubeflow-registry.default.svc.cluster.local:30000'\n",
    "\n",
    "fairing.config.set_builder(\n",
    "    'append',\n",
    "    # base_image = f'{PRIVATE_REGISTRY}/kf-base:latest', # 사전준비에서 마련한 Base Image  # 동작 (X) 하단 설명으로 이슈 해결할 것\n",
    "    base_image= 'tensorflow/tensorflow:2.0.3-gpu-py3', # 동작 (O)\n",
    "    registry = PRIVATE_REGISTRY, \n",
    "    push=True\n",
    ")\n",
    "\n",
    "fairing.config.set_deployer('job')\n",
    "\n",
    "remote_train = fairing.config.fn(train)\n",
    "\n",
    "remote_train()"
   ]
  },
  {
   "cell_type": "markdown",
   "metadata": {
    "tags": []
   },
   "source": [
    "### curl로 프라이빗 레지스트리 확인"
   ]
  },
  {
   "cell_type": "code",
   "execution_count": 3,
   "metadata": {
    "tags": []
   },
   "outputs": [
    {
     "name": "stdout",
     "output_type": "stream",
     "text": [
      "{\"repositories\":[\"02-python-file-fairing\",\"covid19-katib-job\",\"fairing-job\",\"katib-base\",\"katib-job\",\"kf-base\",\"my-02-faring-job\",\"my-02-python-file-fairing\",\"my-03-notebook-fairing-job\",\"my-04-notebook-single-file-fairing-job\",\"my-06-build-only-fairing\",\"my-fairing-job\",\"my-notebook-fairing-job\",\"tensorboard-job\"]}\n"
     ]
    }
   ],
   "source": [
    "! curl http://kubeflow-registry.default.svc.cluster.local:30000/v2/_catalog"
   ]
  },
  {
   "cell_type": "code",
   "execution_count": 4,
   "metadata": {
    "tags": []
   },
   "outputs": [
    {
     "name": "stdout",
     "output_type": "stream",
     "text": [
      "{\"name\":\"fairing-job\",\"tags\":[\"3DA1A245\",\"42CFDC19\",\"51B5229D\",\"37453BCC\",\"910F73B3\",\"18DF7E85\",\"FE1E3D0C\",\"F5D207F\",\"23704EBA\",\"7E272974\",\"E69B7B0\",\"7602C563\",\"795AC9AC\",\"BD60E1F7\",\"223E3522\",\"CB53FA23\",\"5E7B4FEE\",\"141D2F60\",\"EC86838C\",\"A5EE9B45\",\"59DF0B11\",\"E87ED344\",\"6891A465\",\"956A7281\",\"3B74C463\",\"D1C6AB4E\",\"8E296311\",\"9381360\",\"12FA764\",\"9A917239\",\"66787D3\",\"B4C7B0\",\"498914B7\",\"F60C4742\",\"3052981C\"]}\n"
     ]
    }
   ],
   "source": [
    "! curl http://kubeflow-registry.default.svc.cluster.local:30000/v2/fairing-job/tags/list"
   ]
  },
  {
   "cell_type": "markdown",
   "metadata": {
    "tags": []
   },
   "source": [
    "# Function Fairing 패키지 버전 이슈\n",
    "Function Fairing 시 fairing SDK가 컨테이너 내부에서 아래와 같은 명령을 실행\n",
    "```python\n",
    "python /app/function_shim.py --serialized_fn_file /app/pickled_fn.p --python_version 3.6\n",
    "```\n",
    "결과는 에러.\n",
    "\n",
    "다음과 같이 테스트 하여 실행 성공과 실패 케이스를 정리함\n",
    "\n",
    "- 실행 실패\n",
    "  - base_image = f'{PRIVATE_REGISTRY}/kf-base:latest', # 사전준비에서 마련한 Base Image  \n",
    "  - base_image = 'tensorflow/tensorflow:latest-py3',   \n",
    "  - base_image = 'tensorflow/tensorflow:2.1.2-gpu',    \n",
    "  - Base Image에 pip install tensorflow-gpu   <- 최신 2.3.1 설치됨\n",
    "- 실행 성공  \n",
    "  - base_image = 'brightfly/kubeflow-jupyter-lab:tf2.0-gpu', <- 실마리\n",
    "  - base_image = 'tensorflow/tensorflow:2.0.3-gpu-py3',\n",
    "  - Base Image에 pip install tensorflow-gpu==2.0.0 "
   ]
  },
  {
   "cell_type": "code",
   "execution_count": null,
   "metadata": {},
   "outputs": [],
   "source": []
  }
 ],
 "metadata": {
  "kernelspec": {
   "display_name": "Python 3",
   "language": "python",
   "name": "python3"
  },
  "kubeflow_notebook": {
   "docker_image": "reddiana/jupyterlab-kale:0.0.9",
   "experiment": {
    "id": "",
    "name": ""
   },
   "experiment_name": "",
   "katib_metadata": {
    "algorithm": {
     "algorithmName": "grid"
    },
    "maxFailedTrialCount": 3,
    "maxTrialCount": 12,
    "objective": {
     "objectiveMetricName": "",
     "type": "minimize"
    },
    "parallelTrialCount": 3,
    "parameters": []
   },
   "katib_run": false,
   "pipeline_description": "",
   "pipeline_name": "",
   "volumes": []
  },
  "language_info": {
   "codemirror_mode": {
    "name": "ipython",
    "version": 3
   },
   "file_extension": ".py",
   "mimetype": "text/x-python",
   "name": "python",
   "nbconvert_exporter": "python",
   "pygments_lexer": "ipython3",
   "version": "3.6.9"
  }
 },
 "nbformat": 4,
 "nbformat_minor": 4
}
