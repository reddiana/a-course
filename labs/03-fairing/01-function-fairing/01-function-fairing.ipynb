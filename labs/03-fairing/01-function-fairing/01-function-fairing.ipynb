{
 "cells": [
  {
   "cell_type": "code",
   "execution_count": 6,
   "metadata": {
    "tags": []
   },
   "outputs": [],
   "source": [
    "# import tensorflow as tf\n",
    "\n",
    "def train():\n",
    "    import tensorflow as tf\n",
    "    \n",
    "    mnist = tf.keras.datasets.mnist\n",
    "\n",
    "    (x_train, y_train), (x_test, y_test) = mnist.load_data()\n",
    "    x_train, x_test = x_train / 255.0, x_test / 255.0\n",
    "\n",
    "    model = tf.keras.models.Sequential([\n",
    "        tf.keras.layers.Flatten(input_shape=(28, 28)),\n",
    "        tf.keras.layers.Dense(128, activation='relu'),\n",
    "        tf.keras.layers.Dropout(0.2),\n",
    "        tf.keras.layers.Dense(10, activation='softmax')\n",
    "    ])\n",
    "\n",
    "    model.compile(\n",
    "        optimizer='adam',\n",
    "        loss='sparse_categorical_crossentropy',\n",
    "        metrics=['accuracy']\n",
    "    )\n",
    "\n",
    "    model.summary()\n",
    "\n",
    "    print(\"Training...\")\n",
    "\n",
    "    model.fit(\n",
    "        x_train, y_train, \n",
    "        epochs=3, \n",
    "        validation_split=0.2 \n",
    "    ) \n",
    "\n",
    "    score = model.evaluate(x_test, y_test, batch_size=128, verbose=0)\n",
    "    print('Test accuracy: ', score[1])"
   ]
  },
  {
   "cell_type": "raw",
   "metadata": {
    "tags": []
   },
   "source": [
    "# Local training\n",
    "train()"
   ]
  },
  {
   "cell_type": "code",
   "execution_count": 8,
   "metadata": {
    "tags": []
   },
   "outputs": [
    {
     "name": "stderr",
     "output_type": "stream",
     "text": [
      "[I 201207 00:43:18 config:134] Using preprocessor: <kubeflow.fairing.preprocessors.function.FunctionPreProcessor object at 0x7feec40a3d30>\n",
      "[I 201207 00:43:18 config:136] Using builder: <kubeflow.fairing.builders.append.append.AppendBuilder object at 0x7feec40a3f28>\n",
      "[I 201207 00:43:18 config:138] Using deployer: <kubeflow.fairing.deployers.job.job.Job object at 0x7feec40a3e10>\n",
      "[W 201207 00:43:18 append:50] Building image using Append builder...\n",
      "[I 201207 00:43:18 base:107] Creating docker context: /tmp/fairing_context_3g9wdkt3\n",
      "[W 201207 00:43:18 base:94] /usr/local/lib/python3.6/dist-packages/kubeflow/fairing/__init__.py already exists in Fairing context, skipping...\n",
      "[I 201207 00:43:18 docker_creds_:234] Loading Docker credentials for repository 'kubeflow-registry.default.svc.cluster.local:30000/kf-base:latest'\n",
      "[W 201207 00:43:18 append:54] Image successfully built in 0.04884943300021405s.\n",
      "[W 201207 00:43:18 append:94] Pushing image kubeflow-registry.default.svc.cluster.local:30000/fairing-job:3503F8D2...\n",
      "[I 201207 00:43:18 docker_creds_:234] Loading Docker credentials for repository 'kubeflow-registry.default.svc.cluster.local:30000/fairing-job:3503F8D2'\n",
      "[W 201207 00:43:18 append:81] Uploading kubeflow-registry.default.svc.cluster.local:30000/fairing-job:3503F8D2\n",
      "[I 201207 00:43:18 docker_session_:280] Layer sha256:8592f093fc78e0d933851ed625592627241c475dd46adad77f37dec9cc867446 exists, skipping\n",
      "[I 201207 00:43:18 docker_session_:280] Layer sha256:e52cad4ccd832fc331516c5a5632fdd08c37d711ff243c7e04d6e8c374b9c474 exists, skipping\n",
      "[I 201207 00:43:18 docker_session_:280] Layer sha256:4c1d20cdee96111c8acf1858b62655a37ce81ae48648993542b7ac363ac5c0e5 exists, skipping\n",
      "[I 201207 00:43:18 docker_session_:280] Layer sha256:75c61371a2e390c1d05234b28163580c90c2e26c6d245984a4da73f9f022c102 exists, skipping\n",
      "[I 201207 00:43:18 docker_session_:280] Layer sha256:2746a4a261c9e18bfd7ff0429c18fd7522acc14fa4c7ec8ab37ba5ebaadbc584 exists, skipping\n",
      "[I 201207 00:43:18 docker_session_:280] Layer sha256:c8e37668deea784f47c8726d934adc12b8d20a2b1c50b0b0c18cb62771cd3684 exists, skipping\n",
      "[I 201207 00:43:18 docker_session_:280] Layer sha256:9fcc87d7457ee5fe12204e9c224603d53519a444aa258c67b63db2b33884cccf exists, skipping\n",
      "[I 201207 00:43:18 docker_session_:280] Layer sha256:edc69fe5c6be6938f490e5f91cdb6369799b4a509fd72c292e0cd6fdb3c345b3 exists, skipping\n",
      "[I 201207 00:43:18 docker_session_:280] Layer sha256:dccb0709d7fb37e513a933c3848be077f0e514e41a084bd9f3f27dcde169ae20 exists, skipping\n",
      "[I 201207 00:43:18 docker_session_:280] Layer sha256:e97116da5f9876a95d0d3f0fd1e3bcc48721f9ac6351ce23aaa3d261b4f9b0d6 exists, skipping\n",
      "[I 201207 00:43:18 docker_session_:280] Layer sha256:0d3160e1d0de4061b5b32ee09af687b898921d36ed9556df5910ddc3104449cd exists, skipping\n",
      "[I 201207 00:43:18 docker_session_:280] Layer sha256:4d220205e6561101f16a16ded38672d66c0c0eb0c7c03ae4d3453e534ccbba5d exists, skipping\n",
      "[I 201207 00:43:18 docker_session_:280] Layer sha256:107f0b841886b4e032a6ced874db81b71dcdc5e6827b6c0d195defe4c6e661da exists, skipping\n",
      "[I 201207 00:43:18 docker_session_:284] Layer sha256:8631149a744f1fb9358e1ac656e640089a51edf3d2ee14abd15aaeee5f0d604b pushed.\n",
      "[I 201207 00:43:19 docker_session_:284] Layer sha256:b14c54414261e4bee1e61c6fb4a42e8e12ee845a690e35343d65696924947de7 pushed.\n",
      "[I 201207 00:43:19 docker_session_:334] Finished upload of: kubeflow-registry.default.svc.cluster.local:30000/fairing-job:3503F8D2\n",
      "[W 201207 00:43:19 append:99] Pushed image kubeflow-registry.default.svc.cluster.local:30000/fairing-job:3503F8D2 in 0.12648599700060004s.\n",
      "[W 201207 00:43:19 job:101] The job fairing-job-dwpv8 launched.\n",
      "[W 201207 00:43:19 manager:298] Waiting for fairing-job-dwpv8-w6kv4 to start...\n",
      "[W 201207 00:43:19 manager:298] Waiting for fairing-job-dwpv8-w6kv4 to start...\n",
      "[W 201207 00:43:19 manager:298] Waiting for fairing-job-dwpv8-w6kv4 to start...\n",
      "[I 201207 00:43:20 manager:304] Pod started running True\n"
     ]
    },
    {
     "name": "stdout",
     "output_type": "stream",
     "text": [
      "2020-12-07 00:43:21.637643: W tensorflow/stream_executor/platform/default/dso_loader.cc:55] Could not load dynamic library 'libnvinfer.so.6'; dlerror: libnvinfer.so.6: cannot open shared object file: No such file or directory\n",
      "2020-12-07 00:43:21.637759: W tensorflow/stream_executor/platform/default/dso_loader.cc:55] Could not load dynamic library 'libnvinfer_plugin.so.6'; dlerror: libnvinfer_plugin.so.6: cannot open shared object file: No such file or directory\n",
      "2020-12-07 00:43:21.637768: W tensorflow/compiler/tf2tensorrt/utils/py_utils.cc:30] Cannot dlopen some TensorRT libraries. If you would like to use Nvidia GPU with TensorRT, please make sure the missing libraries mentioned above are installed properly.\n",
      "Downloading data from https://storage.googleapis.com/tensorflow/tf-keras-datasets/mnist.npz\n",
      "11493376/11490434 [==============================] - 0s 0us/step\n",
      "2020-12-07 00:43:23.317613: W tensorflow/stream_executor/platform/default/dso_loader.cc:55] Could not load dynamic library 'libcuda.so.1'; dlerror: libcuda.so.1: cannot open shared object file: No such file or directory\n",
      "2020-12-07 00:43:23.317656: E tensorflow/stream_executor/cuda/cuda_driver.cc:351] failed call to cuInit: UNKNOWN ERROR (303)\n",
      "2020-12-07 00:43:23.317685: I tensorflow/stream_executor/cuda/cuda_diagnostics.cc:156] kernel driver does not appear to be running on this host (fairing-job-dwpv8-w6kv4): /proc/driver/nvidia/version does not exist\n",
      "2020-12-07 00:43:23.318006: I tensorflow/core/platform/cpu_feature_guard.cc:142] Your CPU supports instructions that this TensorFlow binary was not compiled to use: AVX2 AVX512F FMA\n",
      "2020-12-07 00:43:23.326010: I tensorflow/core/platform/profile_utils/cpu_utils.cc:94] CPU Frequency: 2000140000 Hz\n",
      "2020-12-07 00:43:23.326556: I tensorflow/compiler/xla/service/service.cc:168] XLA service 0x3aec1d0 initialized for platform Host (this does not guarantee that XLA will be used). Devices:\n",
      "2020-12-07 00:43:23.326592: I tensorflow/compiler/xla/service/service.cc:176]   StreamExecutor device (0): Host, Default Version\n",
      "2020-12-07 00:43:23.433556: W tensorflow/core/framework/cpu_allocator_impl.cc:81] Allocation of 301056000 exceeds 10% of system memory.\n",
      "Model: \"sequential\"\n",
      "_________________________________________________________________\n",
      "Layer (type)                 Output Shape              Param #\n",
      "=================================================================\n",
      "flatten (Flatten)            (None, 784)               0\n",
      "_________________________________________________________________\n",
      "dense (Dense)                (None, 128)               100480\n",
      "_________________________________________________________________\n",
      "dropout (Dropout)            (None, 128)               0\n",
      "_________________________________________________________________\n",
      "dense_1 (Dense)              (None, 10)                1290\n",
      "=================================================================\n",
      "Total params: 101,770\n",
      "Trainable params: 101,770\n",
      "Non-trainable params: 0\n",
      "_________________________________________________________________\n",
      "Training...\n",
      "Train on 48000 samples, validate on 12000 samples\n",
      "Epoch 1/3\n",
      " 2688/48000 [>.............................] - ETA: 10s - loss: 1.0233 - accuracy: 0.7061\n",
      " 5856/48000 [==>...........................] - ETA: 6s - loss: 0.7245 - accuracy: 0.770\n",
      " 9184/48000 [====>.........................] - ETA: 5s - loss: 0.6174 - accuracy: 0.81\n",
      "12608/48000 [======>.......................] - ETA: 4s - loss: 0.5449 - accuracy: 0.84\n",
      "15488/48000 [========>.....................] - ETA: 3s - loss: 0.4919 - accuracy: 0.856\n",
      "18976/48000 [==========>...................] - ETA: 3s - loss: 0.4549 - accuracy: 0.867\n",
      "22304/48000 [============>.................] - ETA: 2s - loss: 0.4313 - accuracy: 0.87\n",
      "25920/48000 [===============>..............] - ETA: 2s - loss: 0.4130 - accuracy: 0.87\n",
      "28896/48000 [=================>............] - ETA: 1s - loss: 0.3927 - accuracy: 0.88\n",
      "32352/48000 [===================>..........] - ETA: 1s - loss: 0.3787 - accuracy: 0.88\n",
      "35680/48000 [=====================>........] - ETA: 1s - loss: 0.3660 - accuracy: 0.89\n",
      "39072/48000 [=======================>......] - ETA: 0s - loss: 0.3544 - accuracy: 0.89\n",
      "42368/48000 [=========================>....] - ETA: 0s - loss: 0.3434 - accuracy: 0.90\n",
      "44832/48000 [===========================>..] - ETA: 0s - loss: 0.3348 - accuracy: 0.902\n",
      "47232/48000 [============================>.] - ETA: 0s - loss: 0.3281 - accuracy: 0.904\n",
      "48000/48000 [==============================] - 6s 126us/sample - loss: 0.3264 - accuracy: 0.9050 - val_loss: 0.1672 - val_accuracy: 0.9498\n",
      "Epoch 2/3\n",
      " 2080/48000 [>.............................] - ETA: 5s - loss: 0.1673 - accuracy: 0.95\n",
      " 4704/48000 [=>............................] - ETA: 5s - loss: 0.1839 - accuracy: 0.94\n",
      " 7136/48000 [===>..........................] - ETA: 5s - loss: 0.1880 - accuracy: 0.94\n",
      " 9344/48000 [====>.........................] - ETA: 4s - loss: 0.1820 - accuracy: 0.94\n",
      "11232/48000 [======>.......................] - ETA: 4s - loss: 0.1791 - accuracy: 0.948\n",
      "13632/48000 [=======>......................] - ETA: 4s - loss: 0.1798 - accuracy: 0.947\n",
      "16192/48000 [=========>....................] - ETA: 4s - loss: 0.1798 - accuracy: 0.946\n",
      "18432/48000 [==========>...................] - ETA: 3s - loss: 0.1758 - accuracy: 0.94\n",
      "20448/48000 [===========>..................] - ETA: 3s - loss: 0.1743 - accuracy: 0.94\n",
      "22240/48000 [============>.................] - ETA: 3s - loss: 0.1727 - accuracy: 0.94\n",
      "24416/48000 [==============>...............] - ETA: 3s - loss: 0.1725 - accuracy: 0.94\n",
      "26848/48000 [===============>..............] - ETA: 2s - loss: 0.1703 - accuracy: 0.94\n",
      "29088/48000 [=================>............] - ETA: 2s - loss: 0.1681 - accuracy: 0.94\n",
      "30880/48000 [==================>...........] - ETA: 2s - loss: 0.1684 - accuracy: 0.950\n",
      "33408/48000 [===================>..........] - ETA: 1s - loss: 0.1673 - accuracy: 0.950\n",
      "35840/48000 [=====================>........] - ETA: 1s - loss: 0.1666 - accuracy: 0.950\n",
      "38592/48000 [=======================>......] - ETA: 1s - loss: 0.1648 - accuracy: 0.95\n",
      "42272/48000 [=========================>....] - ETA: 0s - loss: 0.1644 - accuracy: 0.95\n",
      "45344/48000 [===========================>..] - ETA: 0s - loss: 0.1626 - accuracy: 0.95\n",
      "48000/48000 [==============================] - 7s 138us/sample - loss: 0.1606 - accuracy: 0.9521 - val_loss: 0.1216 - val_accuracy: 0.9644\n",
      "Epoch 3/3\n",
      " 2752/48000 [>.............................] - ETA: 4s - loss: 0.1272 - accuracy: 0.96\n",
      " 5568/48000 [==>...........................] - ETA: 4s - loss: 0.1146 - accuracy: 0.96\n",
      " 8736/48000 [====>.........................] - ETA: 3s - loss: 0.1200 - accuracy: 0.96\n",
      "12000/48000 [======>.......................] - ETA: 3s - loss: 0.1206 - accuracy: 0.96\n",
      "14848/48000 [========>.....................] - ETA: 3s - loss: 0.1188 - accuracy: 0.963\n",
      "18304/48000 [==========>...................] - ETA: 2s - loss: 0.1189 - accuracy: 0.963\n",
      "21312/48000 [============>.................] - ETA: 2s - loss: 0.1216 - accuracy: 0.962\n",
      "24672/48000 [==============>...............] - ETA: 2s - loss: 0.1235 - accuracy: 0.96\n",
      "28064/48000 [================>.............] - ETA: 1s - loss: 0.1230 - accuracy: 0.96\n",
      "30976/48000 [==================>...........] - ETA: 1s - loss: 0.1229 - accuracy: 0.96\n",
      "34432/48000 [====================>.........] - ETA: 1s - loss: 0.1240 - accuracy: 0.96\n",
      "37920/48000 [======================>.......] - ETA: 0s - loss: 0.1236 - accuracy: 0.96\n",
      "41280/48000 [========================>.....] - ETA: 0s - loss: 0.1225 - accuracy: 0.96\n",
      "43712/48000 [==========================>...] - ETA: 0s - loss: 0.1212 - accuracy: 0.963\n",
      "47136/48000 [============================>.] - ETA: 0s - loss: 0.1210 - accuracy: 0.963\n",
      "48000/48000 [==============================] - 5s 109us/sample - loss: 0.1207 - accuracy: 0.9634 - val_loss: 0.1026 - val_accuracy: 0.9705\n",
      "Test accuracy:  0.9704\n"
     ]
    },
    {
     "name": "stderr",
     "output_type": "stream",
     "text": [
      "[W 201207 00:43:43 job:173] Cleaning up job fairing-job-dwpv8...\n"
     ]
    }
   ],
   "source": [
    "from kubeflow import fairing\n",
    "\n",
    "PRIVATE_REGISTRY = 'kubeflow-registry.default.svc.cluster.local:30000'\n",
    "\n",
    "fairing.config.set_builder(\n",
    "    'append',\n",
    "    base_image = f'{PRIVATE_REGISTRY}/kf-base:latest', \n",
    "    registry = PRIVATE_REGISTRY, \n",
    "    push=True\n",
    ")\n",
    "\n",
    "fairing.config.set_deployer('job')\n",
    "\n",
    "remote_train = fairing.config.fn(train)\n",
    "\n",
    "remote_train()"
   ]
  },
  {
   "cell_type": "markdown",
   "metadata": {
    "tags": []
   },
   "source": [
    "### curl로 프라이빗 레지스트리 확인"
   ]
  },
  {
   "cell_type": "code",
   "execution_count": 3,
   "metadata": {
    "tags": []
   },
   "outputs": [
    {
     "name": "stdout",
     "output_type": "stream",
     "text": [
      "{\"repositories\":[\"fairing-job\",\"kf-base\",\"my-02-python-file-fairing\",\"my-04-notebook-single-file-fairing-job\"]}\n"
     ]
    }
   ],
   "source": [
    "! curl http://kubeflow-registry.default.svc.cluster.local:30000/v2/_catalog"
   ]
  },
  {
   "cell_type": "code",
   "execution_count": 4,
   "metadata": {
    "tags": []
   },
   "outputs": [
    {
     "name": "stdout",
     "output_type": "stream",
     "text": [
      "{\"name\":\"fairing-job\",\"tags\":[\"F96CB04D\",\"49BBF86C\",\"3503F8D2\",\"DFE72D4D\",\"37E30F06\",\"959B340A\",\"391B4C7E\",\"CE70263D\",\"613C8372\",\"660AE662\",\"C5909B76\",\"473CD9F8\",\"68EA1BE0\"]}\n"
     ]
    }
   ],
   "source": [
    "! curl http://kubeflow-registry.default.svc.cluster.local:30000/v2/fairing-job/tags/list"
   ]
  },
  {
   "cell_type": "markdown",
   "metadata": {
    "tags": []
   },
   "source": [
    "# Function Fairing 패키지 버전 이슈\n",
    "Function Fairing 시 fairing SDK가 컨테이너 내부에서 아래와 같은 명령을 실행\n",
    "```python\n",
    "python /app/function_shim.py --serialized_fn_file /app/pickled_fn.p --python_version 3.6\n",
    "```\n",
    "결과는 에러.\n",
    "\n",
    "다음과 같이 테스트 하여 실행 성공과 실패 케이스를 정리함\n",
    "\n",
    "- 실행 실패\n",
    "  - base_image = f'{PRIVATE_REGISTRY}/kf-base:latest', # 사전준비에서 마련한 Base Image  \n",
    "  - base_image = 'tensorflow/tensorflow:latest-py3',   \n",
    "  - base_image = 'tensorflow/tensorflow:2.1.2-gpu',    \n",
    "  - Base Image에 pip install tensorflow-gpu   <- 최신 2.3.1 설치됨\n",
    "- 실행 성공  \n",
    "  - base_image = 'brightfly/kubeflow-jupyter-lab:tf2.0-gpu', <- 실마리\n",
    "  - base_image = 'tensorflow/tensorflow:2.0.3-gpu-py3',\n",
    "  - Base Image에 pip install tensorflow-gpu==2.0.0 "
   ]
  },
  {
   "cell_type": "code",
   "execution_count": null,
   "metadata": {},
   "outputs": [],
   "source": []
  }
 ],
 "metadata": {
  "kernelspec": {
   "display_name": "Python 3",
   "language": "python",
   "name": "python3"
  },
  "kubeflow_notebook": {
   "docker_image": "reddiana/jupyterlab-kale:0.0.9",
   "experiment": {
    "id": "",
    "name": ""
   },
   "experiment_name": "",
   "katib_metadata": {
    "algorithm": {
     "algorithmName": "grid"
    },
    "maxFailedTrialCount": 3,
    "maxTrialCount": 12,
    "objective": {
     "objectiveMetricName": "",
     "type": "minimize"
    },
    "parallelTrialCount": 3,
    "parameters": []
   },
   "katib_run": false,
   "pipeline_description": "",
   "pipeline_name": "",
   "volumes": []
  },
  "language_info": {
   "codemirror_mode": {
    "name": "ipython",
    "version": 3
   },
   "file_extension": ".py",
   "mimetype": "text/x-python",
   "name": "python",
   "nbconvert_exporter": "python",
   "pygments_lexer": "ipython3",
   "version": "3.6.9"
  }
 },
 "nbformat": 4,
 "nbformat_minor": 4
}
