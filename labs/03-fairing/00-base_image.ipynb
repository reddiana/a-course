{
 "cells": [
  {
   "cell_type": "markdown",
   "metadata": {
    "tags": []
   },
   "source": [
    "# 사전준비: Base Image\n",
    "Host에 ssh 접속하여 아래와 같이 docker build하고 push한다"
   ]
  },
  {
   "cell_type": "markdown",
   "metadata": {
    "tags": []
   },
   "source": [
    "```sh\n",
    "cat << EOF > Dockerfile.kf-base\n",
    "FROM tensorflow/tensorflow:latest-py3\n",
    "ARG DEBIAN_FRONTEND=noninteractive\n",
    "\n",
    "RUN apt-get update && \\\n",
    "    apt-get install -y ffmpeg libsm6 libxext6 \n",
    "\n",
    "RUN  pip3 install --upgrade pip && \\\n",
    "     pip install \\\n",
    "        sklearn \\\n",
    "        opencv-python \\\n",
    "        pillow \\\n",
    "        minio\n",
    "EOF\n",
    "\n",
    "# docker build script\n",
    "REGISTRY=kubeflow-registry.default.svc.cluster.local:30000\n",
    "TAG=$REGISTRY/kf-base:latest\n",
    "\n",
    "docker build -f Dockerfile.kf-base -t $TAG . && \\\n",
    "docker push $TAG\n",
    "```"
   ]
  },
  {
   "cell_type": "code",
   "execution_count": null,
   "metadata": {},
   "outputs": [],
   "source": []
  }
 ],
 "metadata": {
  "kernelspec": {
   "display_name": "Python 3",
   "language": "python",
   "name": "python3"
  },
  "kubeflow_notebook": {
   "autosnapshot": false,
   "docker_image": "reddiana/jupyterlab-kale:latest",
   "experiment": {
    "id": "",
    "name": ""
   },
   "experiment_name": "",
   "katib_metadata": {
    "algorithm": {
     "algorithmName": "grid"
    },
    "maxFailedTrialCount": 3,
    "maxTrialCount": 12,
    "objective": {
     "objectiveMetricName": "",
     "type": "minimize"
    },
    "parallelTrialCount": 3,
    "parameters": []
   },
   "katib_run": false,
   "pipeline_description": "",
   "pipeline_name": "",
   "snapshot_volumes": false,
   "steps_defaults": [],
   "volumes": []
  },
  "language_info": {
   "codemirror_mode": {
    "name": "ipython",
    "version": 3
   },
   "file_extension": ".py",
   "mimetype": "text/x-python",
   "name": "python",
   "nbconvert_exporter": "python",
   "pygments_lexer": "ipython3",
   "version": "3.6.9"
  }
 },
 "nbformat": 4,
 "nbformat_minor": 4
}
