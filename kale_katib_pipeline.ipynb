{
 "cells": [
  {
   "cell_type": "code",
   "execution_count": 1,
   "metadata": {
    "tags": [
     "block:init"
    ]
   },
   "outputs": [],
   "source": [
    "import os\n",
    "# import tensorflow.compat.v2 as tf\n",
    "import tensorflow as tf\n",
    "import json\n",
    "from tensorflow.keras import datasets, layers, models, metrics\n",
    "from minio import Minio\n",
    "from minio.error import ResponseError"
   ]
  },
  {
   "cell_type": "code",
   "execution_count": 9,
   "metadata": {
    "tags": []
   },
   "outputs": [
    {
     "name": "stdout",
     "output_type": "stream",
     "text": [
      "\u001b[m\u001b[32;1mRemoving `myminio/dataset/mnist/mnist.npz`\u001b[0m.\n",
      "\u001b[0m--2020-12-03 07:33:25--  https://storage.googleapis.com/tensorflow/tf-keras-datasets/mnist.npz\n",
      "Resolving storage.googleapis.com (storage.googleapis.com)... 64.233.189.128, 74.125.203.128, 108.177.97.128, ...\n",
      "Connecting to storage.googleapis.com (storage.googleapis.com)|64.233.189.128|:443... connected.\n",
      "HTTP request sent, awaiting response... 200 OK\n",
      "Length: 11490434 (11M) [application/octet-stream]\n",
      "Saving to: ‘mnist.npz.8’\n",
      "\n",
      "mnist.npz.8         100%[===================>]  10.96M  40.2MB/s    in 0.3s    \n",
      "\n",
      "2020-12-03 07:33:26 (40.2 MB/s) - ‘mnist.npz.8’ saved [11490434/11490434]\n",
      "\n",
      "\u001b[m\u001b[32;1mBucket created successfully `myminio/model/mnist-model`.\u001b[0m\n",
      "mnist.npz:     52.87 MiB / 52.87 MiB ┃▓▓▓▓▓▓▓▓▓▓▓▓▓▓▓▓▓▓▓▓▓▓▓▓▓┃ 110.95 MiB/s 0s\u001b[0m\u001b[0m\u001b[m\u001b[32;1m\u001b[m\u001b[32;1m\u001b[m\u001b[32;1m\u001b[m\u001b[32;1m"
     ]
    }
   ],
   "source": [
    "!rm -f /tmp/mnist.npz\n",
    "!mc rm myminio/dataset/mnist/mnist.npz\n",
    "\n",
    "!wget https://storage.googleapis.com/tensorflow/tf-keras-datasets/mnist.npz\n",
    "!mc mb myminio/model/mnist-model\n",
    "!mc cp mnist.npz myminio/dataset/mnist/"
   ]
  },
  {
   "cell_type": "code",
   "execution_count": 3,
   "metadata": {
    "tags": [
     "block:load",
     "prev:init"
    ]
   },
   "outputs": [
    {
     "name": "stdout",
     "output_type": "stream",
     "text": [
      "A local file was found, but it seems to be incomplete or outdated because the auto file hash does not match the original value of 731c5ac602752760c8e48fbffcf8c3b850d9dc2a2aedcf2cc48468fc17b673d1 so we will re-download the data.\n",
      "Downloading data from https://storage.googleapis.com/tensorflow/tf-keras-datasets/mnist.npz\n",
      "11493376/11490434 [==============================] - 0s 0us/step\n"
     ]
    }
   ],
   "source": [
    "minioClient = Minio('minio-service.kubeflow:9000',\n",
    "              access_key='minio', secret_key='minio123', secure=False)\n",
    "try:\n",
    "    data = minioClient.get_object('dataset', 'mnist/mnist.npz')\n",
    "    with open('/tmp/mnist.npz', 'wb') as file_data:\n",
    "        for d in data.stream(32*1024):\n",
    "            file_data.write(d)\n",
    "except ResponseError as err:\n",
    "    print(err)\n",
    "\n",
    "(x_train, y_train), (x_test, y_test) = tf.keras.datasets.mnist.load_data(path='/tmp/mnist.npz')\n",
    "x_train, x_test = x_train / 255.0, x_test / 255.0"
   ]
  },
  {
   "cell_type": "code",
   "execution_count": 4,
   "metadata": {
    "tags": [
     "pipeline-parameters"
    ]
   },
   "outputs": [],
   "source": [
    "dropout_rate = 0.3\n",
    "learning_rate = 0.1"
   ]
  },
  {
   "cell_type": "code",
   "execution_count": 7,
   "metadata": {
    "tags": []
   },
   "outputs": [
    {
     "name": "stdout",
     "output_type": "stream",
     "text": [
      "Train on 60000 samples\n",
      "Epoch 1/3\n",
      "60000/60000 [==============================] - 5s 89us/sample - loss: 0.4503 - accuracy: 0.8697\n",
      "Epoch 2/3\n",
      "60000/60000 [==============================] - 5s 88us/sample - loss: 0.3518 - accuracy: 0.9052\n",
      "Epoch 3/3\n",
      "60000/60000 [==============================] - 5s 76us/sample - loss: 0.3134 - accuracy: 0.9178\n",
      "10000/10000 - 1s - loss: 0.1975 - accuracy: 0.9510\n"
     ]
    }
   ],
   "source": [
    "model = tf.keras.models.Sequential([\n",
    "        tf.keras.layers.Flatten(input_shape=(28, 28)),\n",
    "        tf.keras.layers.Dense(128, activation='relu'),\n",
    "        tf.keras.layers.Dropout(dropout_rate),\n",
    "        tf.keras.layers.Dense(10, activation='softmax')\n",
    "    ])\n",
    "\n",
    "sgd = tf.keras.optimizers.SGD(lr=learning_rate,\n",
    "                                  decay=1e-6,\n",
    "                                  momentum=0.9,\n",
    "                                  nesterov=True)\n",
    "model.compile(optimizer=sgd, loss='sparse_categorical_crossentropy', metrics=['accuracy'])\n",
    "model.fit(x_train, y_train, epochs=3)\n",
    "score = model.evaluate(x_test,  y_test, verbose=2)\n",
    "loss = score[0]\n",
    "accuracy = score[1]"
   ]
  },
  {
   "cell_type": "code",
   "execution_count": null,
   "metadata": {
    "tags": [
     "block:train",
     "prev:load",
     "limit:nvidia.com/gpu:1"
    ]
   },
   "outputs": [],
   "source": [
    "os.environ.update({\n",
    "    'S3_ENDPOINT'          : 'minio-service.kubeflow:9000',\n",
    "    'AWS_ACCESS_KEY_ID'    : 'minio',\n",
    "    'AWS_SECRET_ACCESS_KEY': 'minio123',\n",
    "    'S3_USE_HTTPS'         : '0',\t# Whether or not to use HTTPS. Disable with 0.                        \n",
    "    'S3_VERIFY_SSL'        : '0' \t# If HTTPS is used, controls if SSL should be enabled. Disable with 0.\n",
    "})    \n",
    "model.save(\"s3://model/mnist-model\")"
   ]
  },
  {
   "cell_type": "code",
   "execution_count": null,
   "metadata": {
    "tags": [
     "pipeline-metrics"
    ]
   },
   "outputs": [],
   "source": [
    "print(loss)\n",
    "print(accuracy)"
   ]
  },
  {
   "cell_type": "code",
   "execution_count": null,
   "metadata": {},
   "outputs": [],
   "source": []
  }
 ],
 "metadata": {
  "kernelspec": {
   "display_name": "Python 3",
   "language": "python",
   "name": "python3"
  },
  "kubeflow_notebook": {
   "autosnapshot": false,
   "docker_image": "reddiana/jupyterlab-kale:latest",
   "experiment": {
    "id": "new",
    "name": "red-1021-1441-exp"
   },
   "experiment_name": "red-1021-1441-exp",
   "katib_metadata": {
    "algorithm": {
     "algorithmName": "random",
     "algorithmSettings": [
      {
       "name": "acq_optimizer",
       "value": "auto"
      },
      {
       "name": "acq_func",
       "value": "gp_hedge"
      },
      {
       "name": "base_estimator",
       "value": "GP"
      },
      {
       "name": "random_state",
       "value": "42"
      }
     ]
    },
    "maxFailedTrialCount": 1,
    "maxTrialCount": 3,
    "objective": {
     "additionalMetricNames": [
      "loss"
     ],
     "goal": 0.99,
     "objectiveMetricName": "accuracy",
     "type": "maximize"
    },
    "parallelTrialCount": 1,
    "parameters": [
     {
      "feasibleSpace": {
       "list": [
        "0.01",
        "0.003",
        "0.001",
        "0.03"
       ]
      },
      "name": "learning_rate",
      "parameterType": "categorical"
     },
     {
      "feasibleSpace": {
       "max": "0.4",
       "min": "0.1"
      },
      "name": "dropout_rate",
      "parameterType": "double"
     }
    ]
   },
   "katib_run": false,
   "pipeline_description": "red-1021-1441",
   "pipeline_name": "red-1021-1441-pipe",
   "snapshot_volumes": false,
   "steps_defaults": [],
   "volumes": []
  },
  "language_info": {
   "codemirror_mode": {
    "name": "ipython",
    "version": 3
   },
   "file_extension": ".py",
   "mimetype": "text/x-python",
   "name": "python",
   "nbconvert_exporter": "python",
   "pygments_lexer": "ipython3",
   "version": "3.6.9"
  }
 },
 "nbformat": 4,
 "nbformat_minor": 4
}
