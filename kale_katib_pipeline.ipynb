{
 "cells": [
  {
   "cell_type": "code",
   "execution_count": 1,
   "metadata": {
    "tags": [
     "block:init"
    ]
   },
   "outputs": [],
   "source": [
    "import os\n",
    "# import tensorflow.compat.v2 as tf\n",
    "import tensorflow as tf\n",
    "import json\n",
    "from tensorflow.keras import datasets, layers, models, metrics\n",
    "from minio import Minio\n",
    "from minio.error import ResponseError"
   ]
  },
  {
   "cell_type": "code",
   "execution_count": 2,
   "metadata": {
    "tags": []
   },
   "outputs": [
    {
     "name": "stdout",
     "output_type": "stream",
     "text": [
      "--2020-12-03 16:06:47--  https://dl.min.io/client/mc/release/linux-amd64/mc\n",
      "Resolving dl.min.io (dl.min.io)... 178.128.69.202\n",
      "Connecting to dl.min.io (dl.min.io)|178.128.69.202|:443... connected.\n",
      "HTTP request sent, awaiting response... 200 OK\n",
      "Length: 19623936 (19M) [application/octet-stream]\n",
      "Saving to: ‘mc’\n",
      "\n",
      "mc                  100%[===================>]  18.71M  8.65MB/s    in 2.2s    \n",
      "\n",
      "2020-12-03 16:06:50 (8.65 MB/s) - ‘mc’ saved [19623936/19623936]\n",
      "\n",
      "\u001b[m\u001b[32mAdded `myminio` successfully.\u001b[0m\n",
      "\u001b[0m\u001b[m\u001b[36;1mgcs    \n",
      "\u001b[0m\u001b[33m  URL       : https://storage.googleapis.com\n",
      "\u001b[0m\u001b[36m  AccessKey : YOUR-ACCESS-KEY-HERE\n",
      "\u001b[0m\u001b[36m  SecretKey : YOUR-SECRET-KEY-HERE\n",
      "\u001b[0m\u001b[34m  API       : S3v2\n",
      "\u001b[0m\u001b[36m  Path      : dns\n",
      "\u001b[0m\n",
      "\u001b[0m\u001b[m\u001b[36;1mlocal  \n",
      "\u001b[0m\u001b[33m  URL       : http://localhost:9000\n",
      "\u001b[0m\u001b[36m  AccessKey : \n",
      "\u001b[0m\u001b[36m  SecretKey : \n",
      "\u001b[0m\u001b[34m  API       : \n",
      "\u001b[0m\u001b[36m  Path      : auto\n",
      "\u001b[0m\n",
      "\u001b[0m\u001b[m\u001b[36;1mmyminio\n",
      "\u001b[0m\u001b[33m  URL       : http://minio-service.kubeflow:9000\n",
      "\u001b[0m\u001b[36m  AccessKey : minio\n",
      "\u001b[0m\u001b[36m  SecretKey : minio123\n",
      "\u001b[0m\u001b[34m  API       : s3v4\n",
      "\u001b[0m\u001b[36m  Path      : auto\n",
      "\u001b[0m\n",
      "\u001b[0m\u001b[m\u001b[36;1mplay   \n",
      "\u001b[0m\u001b[33m  URL       : https://play.min.io\n",
      "\u001b[0m\u001b[36m  AccessKey : Q3AM3UQ867SPQQA43P2F\n",
      "\u001b[0m\u001b[36m  SecretKey : zuf+tfteSlswRu7BJ86wekitnifILbZam1KYY3TG\n",
      "\u001b[0m\u001b[34m  API       : S3v4\n",
      "\u001b[0m\u001b[36m  Path      : auto\n",
      "\u001b[0m\n",
      "\u001b[0m\u001b[m\u001b[36;1ms3     \n",
      "\u001b[0m\u001b[33m  URL       : https://s3.amazonaws.com\n",
      "\u001b[0m\u001b[36m  AccessKey : YOUR-ACCESS-KEY-HERE\n",
      "\u001b[0m\u001b[36m  SecretKey : YOUR-SECRET-KEY-HERE\n",
      "\u001b[0m\u001b[34m  API       : S3v4\n",
      "\u001b[0m\u001b[36m  Path      : dns\n",
      "\u001b[0m\n",
      "\u001b[0m"
     ]
    }
   ],
   "source": [
    "!wget https://dl.min.io/client/mc/release/linux-amd64/mc\n",
    "!chmod +x mc\n",
    "!sudo mv mc /usr/bin\n",
    "!mc config host add myminio http://minio-service.kubeflow:9000 minio minio123\n",
    "!mc config host list"
   ]
  },
  {
   "cell_type": "code",
   "execution_count": 3,
   "metadata": {
    "tags": []
   },
   "outputs": [
    {
     "name": "stdout",
     "output_type": "stream",
     "text": [
      "\u001b[33;3mmc: <ERROR> \u001b[0m\u001b[33;3mFailed to remove `myminio/model/` recursively. The specified bucket does not exist\n",
      "\u001b[0m\u001b[33;3mmc: <ERROR> \u001b[0m\u001b[33;3mFailed to remove `myminio/model/mnist-model/assets/`. The specified bucket does not exist\n",
      "\u001b[0m\u001b[33;3mmc: <ERROR> \u001b[0m\u001b[33;3mFailed to remove `myminio/model/mnist-model/`. The specified bucket does not exist\n",
      "\u001b[0m\u001b[33;3mmc: <ERROR> \u001b[0m\u001b[33;3mUnable to validate target `myminio/model`. Bucket `model` does not exist.\n",
      "\u001b[0m\u001b[33;3mmc: <ERROR> \u001b[0m\u001b[33;3mFailed to remove `myminio/dataset` recursively. The specified bucket does not exist\n",
      "\u001b[0m\u001b[33;3mmc: <ERROR> \u001b[0m\u001b[33;3mFailed to remove `myminio/dataset/mnist/`. The specified bucket does not exist\n",
      "\u001b[0m\u001b[33;3mmc: <ERROR> \u001b[0m\u001b[33;3mUnable to validate target `myminio/dataset`. Bucket `dataset` does not exist.\n",
      "\u001b[0m\u001b[m\u001b[36;1mmyminio\u001b[0m\n",
      "\u001b[0m\u001b[m└─ \u001b[36;1mmlpipeline\u001b[0m\n",
      "\u001b[0m"
     ]
    }
   ],
   "source": [
    "!mc rm --force --recursive myminio/model/\n",
    "!mc rm myminio/model/mnist-model/assets/\n",
    "!mc rm myminio/model/mnist-model/\n",
    "!mc rb myminio/model\n",
    "\n",
    "!mc rm --force --recursive myminio/dataset\n",
    "!mc rm myminio/dataset/mnist/\n",
    "!mc rb myminio/dataset\n",
    "\n",
    "!mc tree myminio\n",
    "\n",
    "!rm -f /tmp/mnist.npz"
   ]
  },
  {
   "cell_type": "code",
   "execution_count": 4,
   "metadata": {},
   "outputs": [
    {
     "name": "stdout",
     "output_type": "stream",
     "text": [
      "\u001b[m\u001b[32;1mBucket created successfully `myminio/dataset`.\u001b[0m\n",
      "\u001b[0m\u001b[m\u001b[32;1mBucket created successfully `myminio/model`.\u001b[0m\n",
      "\u001b[0m\u001b[m\u001b[36;1mmyminio\u001b[0m\n",
      "\u001b[0m\u001b[m├─ \u001b[36;1mdataset\u001b[0m\n",
      "\u001b[0m\u001b[m├─ \u001b[36;1mmlpipeline\u001b[0m\n",
      "\u001b[0m\u001b[m└─ \u001b[36;1mmodel\u001b[0m\n",
      "\u001b[0m"
     ]
    }
   ],
   "source": [
    "!mc mb myminio/dataset\n",
    "!mc mb myminio/model\n",
    "!mc tree myminio"
   ]
  },
  {
   "cell_type": "code",
   "execution_count": 5,
   "metadata": {
    "tags": []
   },
   "outputs": [
    {
     "name": "stdout",
     "output_type": "stream",
     "text": [
      "--2020-12-03 16:07:02--  https://storage.googleapis.com/tensorflow/tf-keras-datasets/mnist.npz\n",
      "Resolving storage.googleapis.com (storage.googleapis.com)... 108.177.125.128, 64.233.189.128, 74.125.204.128, ...\n",
      "Connecting to storage.googleapis.com (storage.googleapis.com)|108.177.125.128|:443... connected.\n",
      "HTTP request sent, awaiting response... 200 OK\n",
      "Length: 11490434 (11M) [application/octet-stream]\n",
      "Saving to: ‘mnist.npz.13’\n",
      "\n",
      "mnist.npz.13        100%[===================>]  10.96M  --.-KB/s    in 0.06s   \n",
      "\n",
      "2020-12-03 16:07:02 (173 MB/s) - ‘mnist.npz.13’ saved [11490434/11490434]\n",
      "\n",
      "mnist.npz:     10.96 MiB / 10.96 MiB ┃▓▓▓▓▓▓▓▓▓▓▓▓▓▓▓▓▓▓▓▓▓▓▓▓▓┃ 123.74 MiB/s 0s\u001b[0m\u001b[0m\u001b[m\u001b[32;1m"
     ]
    }
   ],
   "source": [
    "!wget https://storage.googleapis.com/tensorflow/tf-keras-datasets/mnist.npz\n",
    "!mc cp mnist.npz myminio/dataset/mnist/"
   ]
  },
  {
   "cell_type": "code",
   "execution_count": 6,
   "metadata": {
    "tags": [
     "block:load",
     "prev:init"
    ]
   },
   "outputs": [],
   "source": [
    "minioClient = Minio('minio-service.kubeflow:9000',\n",
    "              access_key='minio', secret_key='minio123', secure=False)\n",
    "try:\n",
    "    data = minioClient.get_object('dataset', 'mnist/mnist.npz')\n",
    "    with open('/tmp/mnist.npz', 'wb') as file_data:\n",
    "        for d in data.stream(32*1024):\n",
    "            file_data.write(d)\n",
    "except ResponseError as err:\n",
    "    print(err)\n",
    "\n",
    "(x_train, y_train), (x_test, y_test) = tf.keras.datasets.mnist.load_data(path='/tmp/mnist.npz')\n",
    "x_train, x_test = x_train / 255.0, x_test / 255.0"
   ]
  },
  {
   "cell_type": "code",
   "execution_count": 7,
   "metadata": {
    "tags": [
     "pipeline-parameters"
    ]
   },
   "outputs": [],
   "source": [
    "dropout_rate = 0.3\n",
    "learning_rate = 0.1"
   ]
  },
  {
   "cell_type": "code",
   "execution_count": 8,
   "metadata": {
    "tags": []
   },
   "outputs": [
    {
     "name": "stdout",
     "output_type": "stream",
     "text": [
      "Train on 60000 samples\n",
      "Epoch 1/3\n",
      "60000/60000 [==============================] - 5s 79us/sample - loss: 0.4372 - accuracy: 0.8711\n",
      "Epoch 2/3\n",
      "60000/60000 [==============================] - 4s 74us/sample - loss: 0.3522 - accuracy: 0.9040\n",
      "Epoch 3/3\n",
      "60000/60000 [==============================] - 4s 74us/sample - loss: 0.3206 - accuracy: 0.9163\n",
      "10000/10000 - 1s - loss: 0.1922 - accuracy: 0.9470\n"
     ]
    }
   ],
   "source": [
    "model = tf.keras.models.Sequential([\n",
    "        tf.keras.layers.Flatten(input_shape=(28, 28)),\n",
    "        tf.keras.layers.Dense(128, activation='relu'),\n",
    "        tf.keras.layers.Dropout(dropout_rate),\n",
    "        tf.keras.layers.Dense(10, activation='softmax')\n",
    "    ])\n",
    "\n",
    "sgd = tf.keras.optimizers.SGD(lr=learning_rate,\n",
    "                                  decay=1e-6,\n",
    "                                  momentum=0.9,\n",
    "                                  nesterov=True)\n",
    "model.compile(optimizer=sgd, loss='sparse_categorical_crossentropy', metrics=['accuracy'])\n",
    "model.fit(x_train, y_train, epochs=3)\n",
    "score = model.evaluate(x_test,  y_test, verbose=2)\n",
    "loss = score[0]\n",
    "accuracy = score[1]"
   ]
  },
  {
   "cell_type": "code",
   "execution_count": 9,
   "metadata": {
    "tags": [
     "block:train",
     "prev:load",
     "limit:nvidia.com/gpu:1"
    ]
   },
   "outputs": [
    {
     "name": "stdout",
     "output_type": "stream",
     "text": [
      "WARNING:tensorflow:From /usr/local/lib/python3.6/dist-packages/tensorflow_core/python/ops/resource_variable_ops.py:1786: calling BaseResourceVariable.__init__ (from tensorflow.python.ops.resource_variable_ops) with constraint is deprecated and will be removed in a future version.\n",
      "Instructions for updating:\n",
      "If using Keras pass *_constraint arguments to layers.\n",
      "INFO:tensorflow:Assets written to: s3://model/mnist-model/assets\n"
     ]
    }
   ],
   "source": [
    "os.environ.update({\n",
    "    'S3_ENDPOINT'          : 'minio-service.kubeflow:9000',\n",
    "    'AWS_ACCESS_KEY_ID'    : 'minio',\n",
    "    'AWS_SECRET_ACCESS_KEY': 'minio123',\n",
    "    'S3_USE_HTTPS'         : '0',\t# Whether or not to use HTTPS. Disable with 0.                        \n",
    "    'S3_VERIFY_SSL'        : '0' \t# If HTTPS is used, controls if SSL should be enabled. Disable with 0.\n",
    "})    \n",
    "model.save(\"s3://model/mnist-model\")"
   ]
  },
  {
   "cell_type": "code",
   "execution_count": 10,
   "metadata": {
    "tags": [
     "pipeline-metrics"
    ]
   },
   "outputs": [
    {
     "name": "stdout",
     "output_type": "stream",
     "text": [
      "0.19220291791511698\n",
      "0.947\n"
     ]
    }
   ],
   "source": [
    "print(loss)\n",
    "print(accuracy)"
   ]
  },
  {
   "cell_type": "code",
   "execution_count": null,
   "metadata": {},
   "outputs": [],
   "source": []
  }
 ],
 "metadata": {
  "kernelspec": {
   "display_name": "Python 3",
   "language": "python",
   "name": "python3"
  },
  "kubeflow_notebook": {
   "autosnapshot": false,
   "docker_image": "reddiana/jupyterlab-kale:latest",
   "experiment": {
    "id": "new",
    "name": "red-1021-1441-exp"
   },
   "experiment_name": "red-1021-1441-exp",
   "katib_metadata": {
    "algorithm": {
     "algorithmName": "random",
     "algorithmSettings": [
      {
       "name": "acq_optimizer",
       "value": "auto"
      },
      {
       "name": "acq_func",
       "value": "gp_hedge"
      },
      {
       "name": "base_estimator",
       "value": "GP"
      },
      {
       "name": "random_state",
       "value": "42"
      }
     ]
    },
    "maxFailedTrialCount": 1,
    "maxTrialCount": 3,
    "objective": {
     "additionalMetricNames": [
      "loss"
     ],
     "goal": 0.99,
     "objectiveMetricName": "accuracy",
     "type": "maximize"
    },
    "parallelTrialCount": 1,
    "parameters": [
     {
      "feasibleSpace": {
       "list": [
        "0.01",
        "0.003",
        "0.001",
        "0.03"
       ]
      },
      "name": "learning_rate",
      "parameterType": "categorical"
     },
     {
      "feasibleSpace": {
       "max": "0.4",
       "min": "0.1"
      },
      "name": "dropout_rate",
      "parameterType": "double"
     }
    ]
   },
   "katib_run": false,
   "pipeline_description": "red-1021-1441",
   "pipeline_name": "red-1021-1441-pipe",
   "snapshot_volumes": false,
   "steps_defaults": [],
   "volumes": []
  },
  "language_info": {
   "codemirror_mode": {
    "name": "ipython",
    "version": 3
   },
   "file_extension": ".py",
   "mimetype": "text/x-python",
   "name": "python",
   "nbconvert_exporter": "python",
   "pygments_lexer": "ipython3",
   "version": "3.6.9"
  }
 },
 "nbformat": 4,
 "nbformat_minor": 4
}
