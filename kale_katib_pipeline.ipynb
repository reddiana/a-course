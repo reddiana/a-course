{
 "cells": [
  {
   "cell_type": "code",
   "execution_count": null,
   "metadata": {
    "tags": [
     "imports"
    ]
   },
   "outputs": [],
   "source": [
    "import os\n",
    "# import tensorflow.compat.v2 as tf\n",
    "import tensorflow as tf\n",
    "import json\n",
    "from tensorflow.keras import datasets, layers, models, metrics\n",
    "from minio import Minio\n",
    "from minio.error import ResponseError"
   ]
  },
  {
   "cell_type": "code",
   "execution_count": null,
   "metadata": {
    "tags": [
     "skip"
    ]
   },
   "outputs": [],
   "source": [
    "!wget https://dl.min.io/client/mc/release/linux-amd64/mc\n",
    "!chmod +x mc\n",
    "!sudo mv mc /usr/bin\n",
    "!mc config host add myminio http://minio-service.kubeflow:9000 minio minio123\n",
    "!mc config host list"
   ]
  },
  {
   "cell_type": "code",
   "execution_count": null,
   "metadata": {
    "tags": [
     "skip"
    ]
   },
   "outputs": [],
   "source": [
    "!mc rm --force --recursive myminio/model/\n",
    "!mc rm myminio/model/mnist-model/assets/\n",
    "!mc rm myminio/model/mnist-model/\n",
    "!mc rb myminio/model\n",
    "\n",
    "!mc rm --force --recursive myminio/dataset\n",
    "!mc rm myminio/dataset/mnist/\n",
    "!mc rb myminio/dataset\n",
    "\n",
    "!mc tree myminio\n",
    "\n",
    "!rm -f /tmp/mnist.npz"
   ]
  },
  {
   "cell_type": "code",
   "execution_count": null,
   "metadata": {
    "tags": [
     "skip"
    ]
   },
   "outputs": [],
   "source": [
    "!mc mb myminio/dataset\n",
    "!mc mb myminio/model\n",
    "!mc tree myminio"
   ]
  },
  {
   "cell_type": "code",
   "execution_count": null,
   "metadata": {
    "tags": [
     "skip"
    ]
   },
   "outputs": [],
   "source": [
    "!wget https://storage.googleapis.com/tensorflow/tf-keras-datasets/mnist.npz\n",
    "!mc cp mnist.npz myminio/dataset/mnist/"
   ]
  },
  {
   "cell_type": "code",
   "execution_count": null,
   "metadata": {
    "tags": [
     "block:load"
    ]
   },
   "outputs": [],
   "source": [
    "minioClient = Minio('minio-service.kubeflow:9000',\n",
    "              access_key='minio', secret_key='minio123', secure=False)\n",
    "try:\n",
    "    data = minioClient.get_object('dataset', 'mnist/mnist.npz')\n",
    "    with open('/tmp/mnist.npz', 'wb') as file_data:\n",
    "        for d in data.stream(32*1024):\n",
    "            file_data.write(d)\n",
    "except ResponseError as err:\n",
    "    print(err)\n",
    "\n",
    "(x_train, y_train), (x_test, y_test) = tf.keras.datasets.mnist.load_data(path='/tmp/mnist.npz')\n",
    "x_train, x_test = x_train / 255.0, x_test / 255.0"
   ]
  },
  {
   "cell_type": "code",
   "execution_count": null,
   "metadata": {
    "tags": [
     "pipeline-parameters"
    ]
   },
   "outputs": [],
   "source": [
    "dropout_rate = 0.3\n",
    "learning_rate = 0.1"
   ]
  },
  {
   "cell_type": "code",
   "execution_count": null,
   "metadata": {
    "tags": [
     "block:train",
     "prev:load"
    ]
   },
   "outputs": [],
   "source": [
    "model = tf.keras.models.Sequential([\n",
    "        tf.keras.layers.Flatten(input_shape=(28, 28)),\n",
    "        tf.keras.layers.Dense(128, activation='relu'),\n",
    "        tf.keras.layers.Dropout(dropout_rate),\n",
    "        tf.keras.layers.Dense(10, activation='softmax')\n",
    "    ])\n",
    "\n",
    "sgd = tf.keras.optimizers.SGD(lr=learning_rate,\n",
    "                                  decay=1e-6,\n",
    "                                  momentum=0.9,\n",
    "                                  nesterov=True)\n",
    "model.compile(optimizer=sgd, loss='sparse_categorical_crossentropy', metrics=['accuracy'])\n",
    "model.fit(x_train, y_train, epochs=3)\n",
    "score = model.evaluate(x_test,  y_test, verbose=2)\n",
    "loss = score[0]\n",
    "accuracy = score[1]"
   ]
  },
  {
   "cell_type": "code",
   "execution_count": null,
   "metadata": {
    "tags": [
     "skip",
     "prev:train"
    ]
   },
   "outputs": [],
   "source": [
    "os.environ.update({\n",
    "    'S3_ENDPOINT'          : 'minio-service.kubeflow:9000',\n",
    "    'AWS_ACCESS_KEY_ID'    : 'minio',\n",
    "    'AWS_SECRET_ACCESS_KEY': 'minio123',\n",
    "    'S3_USE_HTTPS'         : '0',\t# Whether or not to use HTTPS. Disable with 0.                        \n",
    "    'S3_VERIFY_SSL'        : '0' \t# If HTTPS is used, controls if SSL should be enabled. Disable with 0.\n",
    "})    \n",
    "model.save(\"s3://model/mnist-model\")"
   ]
  },
  {
   "cell_type": "code",
   "execution_count": null,
   "metadata": {
    "tags": [
     "pipeline-metrics"
    ]
   },
   "outputs": [],
   "source": [
    "print(loss)\n",
    "print(accuracy)"
   ]
  },
  {
   "cell_type": "code",
   "execution_count": null,
   "metadata": {},
   "outputs": [],
   "source": []
  }
 ],
 "metadata": {
  "kernelspec": {
   "display_name": "Python 3",
   "language": "python",
   "name": "python3"
  },
  "kubeflow_notebook": {
   "autosnapshot": false,
   "docker_image": "reddiana/jupyterlab-kale:0.0.8",
   "experiment": {
    "id": "new",
    "name": "kiki-4-e"
   },
   "experiment_name": "kiki-4-e",
   "katib_metadata": {
    "algorithm": {
     "algorithmName": "random",
     "algorithmSettings": [
      {
       "name": "acq_optimizer",
       "value": "auto"
      },
      {
       "name": "acq_func",
       "value": "gp_hedge"
      },
      {
       "name": "base_estimator",
       "value": "GP"
      },
      {
       "name": "random_state",
       "value": "42"
      }
     ]
    },
    "maxFailedTrialCount": 1,
    "maxTrialCount": 15,
    "objective": {
     "additionalMetricNames": [
      "loss"
     ],
     "goal": 0.99,
     "objectiveMetricName": "accuracy",
     "type": "maximize"
    },
    "parallelTrialCount": 5,
    "parameters": [
     {
      "feasibleSpace": {
       "max": "0.4",
       "min": "0.1",
       "step": "0.01"
      },
      "name": "dropout_rate",
      "parameterType": "double"
     },
     {
      "feasibleSpace": {
       "list": [
        "0.01",
        "0.003",
        "0.001",
        "0.03"
       ]
      },
      "name": "learning_rate",
      "parameterType": "categorical"
     }
    ]
   },
   "katib_run": true,
   "pipeline_description": "red 1205 0306",
   "pipeline_name": "kiki-4-p",
   "snapshot_volumes": false,
   "steps_defaults": [],
   "volumes": []
  },
  "language_info": {
   "codemirror_mode": {
    "name": "ipython",
    "version": 3
   },
   "file_extension": ".py",
   "mimetype": "text/x-python",
   "name": "python",
   "nbconvert_exporter": "python",
   "pygments_lexer": "ipython3",
   "version": "3.6.9"
  }
 },
 "nbformat": 4,
 "nbformat_minor": 4
}
